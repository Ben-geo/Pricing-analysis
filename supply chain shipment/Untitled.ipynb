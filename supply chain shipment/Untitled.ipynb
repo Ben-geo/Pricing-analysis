{
 "cells": [
  {
   "cell_type": "code",
   "execution_count": 1,
   "id": "9cba0601",
   "metadata": {},
   "outputs": [],
   "source": [
    "import json\n",
    "\n",
    "import pandas as pd\n",
    "import numpy as np\n",
    "\n",
    "from numpy import asarray\n",
    "import matplotlib.pyplot as plt\n",
    "import seaborn as sns\n",
    "import matplotlib\n",
    "\n",
    "from sklearn.impute import SimpleImputer\n",
    "from sklearn.preprocessing import OrdinalEncoder\n",
    "\n",
    "import lightgbm as lgb\n",
    "from sklearn.model_selection import train_test_split\n",
    "\n",
    "from sklearn.metrics import r2_score,mean_squared_error,mean_absolute_error\n",
    "\n",
    "pd.set_option('display.max_columns', None)"
   ]
  },
  {
   "cell_type": "code",
   "execution_count": 2,
   "id": "fd163714",
   "metadata": {},
   "outputs": [],
   "source": [
    "f = open('rows.json')\n",
    "\n",
    "data = json.load(f)\n",
    "\n",
    "f.close()\n",
    "pd.set_option('display.max_columns', None)"
   ]
  },
  {
   "cell_type": "code",
   "execution_count": 3,
   "id": "97a123cf",
   "metadata": {},
   "outputs": [
    {
     "data": {
      "text/html": [
       "<div>\n",
       "<style scoped>\n",
       "    .dataframe tbody tr th:only-of-type {\n",
       "        vertical-align: middle;\n",
       "    }\n",
       "\n",
       "    .dataframe tbody tr th {\n",
       "        vertical-align: top;\n",
       "    }\n",
       "\n",
       "    .dataframe thead th {\n",
       "        text-align: right;\n",
       "    }\n",
       "</style>\n",
       "<table border=\"1\" class=\"dataframe\">\n",
       "  <thead>\n",
       "    <tr style=\"text-align: right;\">\n",
       "      <th></th>\n",
       "      <th>0</th>\n",
       "      <th>1</th>\n",
       "      <th>2</th>\n",
       "      <th>3</th>\n",
       "      <th>4</th>\n",
       "      <th>5</th>\n",
       "      <th>6</th>\n",
       "      <th>7</th>\n",
       "      <th>8</th>\n",
       "      <th>9</th>\n",
       "      <th>10</th>\n",
       "      <th>11</th>\n",
       "      <th>12</th>\n",
       "      <th>13</th>\n",
       "      <th>14</th>\n",
       "      <th>15</th>\n",
       "      <th>16</th>\n",
       "      <th>17</th>\n",
       "      <th>18</th>\n",
       "      <th>19</th>\n",
       "      <th>20</th>\n",
       "      <th>21</th>\n",
       "      <th>22</th>\n",
       "      <th>23</th>\n",
       "      <th>24</th>\n",
       "      <th>25</th>\n",
       "      <th>26</th>\n",
       "      <th>27</th>\n",
       "      <th>28</th>\n",
       "      <th>29</th>\n",
       "      <th>30</th>\n",
       "      <th>31</th>\n",
       "      <th>32</th>\n",
       "      <th>33</th>\n",
       "      <th>34</th>\n",
       "      <th>35</th>\n",
       "      <th>36</th>\n",
       "      <th>37</th>\n",
       "      <th>38</th>\n",
       "      <th>39</th>\n",
       "      <th>40</th>\n",
       "    </tr>\n",
       "  </thead>\n",
       "  <tbody>\n",
       "    <tr>\n",
       "      <th>0</th>\n",
       "      <td>row-ww2d~girp.hb8n</td>\n",
       "      <td>00000000-0000-0000-94BE-9E231F8A2D69</td>\n",
       "      <td>0</td>\n",
       "      <td>1541998623</td>\n",
       "      <td>None</td>\n",
       "      <td>1541998623</td>\n",
       "      <td>None</td>\n",
       "      <td>{ }</td>\n",
       "      <td>1</td>\n",
       "      <td>100-CI-T01</td>\n",
       "      <td>Pre-PQ Process</td>\n",
       "      <td>SCMS-4</td>\n",
       "      <td>ASN-8</td>\n",
       "      <td>CÃ´te d'Ivoire</td>\n",
       "      <td>PMO - US</td>\n",
       "      <td>Direct Drop</td>\n",
       "      <td>EXW</td>\n",
       "      <td>Air</td>\n",
       "      <td>Pre-PQ Process</td>\n",
       "      <td>Date Not Captured</td>\n",
       "      <td>2-Jun-06</td>\n",
       "      <td>2-Jun-06</td>\n",
       "      <td>2-Jun-06</td>\n",
       "      <td>HRDT</td>\n",
       "      <td>HIV test</td>\n",
       "      <td>RANBAXY Fine Chemicals LTD.</td>\n",
       "      <td>HIV, Reveal G3 Rapid HIV-1 Antibody Test, 30 T...</td>\n",
       "      <td>HIV, Reveal G3 Rapid HIV-1 Antibody Test</td>\n",
       "      <td>Reveal</td>\n",
       "      <td>None</td>\n",
       "      <td>Test kit</td>\n",
       "      <td>30</td>\n",
       "      <td>19</td>\n",
       "      <td>551.0</td>\n",
       "      <td>29.0</td>\n",
       "      <td>0.97</td>\n",
       "      <td>Ranbaxy Fine Chemicals LTD</td>\n",
       "      <td>True</td>\n",
       "      <td>13</td>\n",
       "      <td>780.34</td>\n",
       "      <td>None</td>\n",
       "    </tr>\n",
       "  </tbody>\n",
       "</table>\n",
       "</div>"
      ],
      "text/plain": [
       "                   0                                     1   2           3   \\\n",
       "0  row-ww2d~girp.hb8n  00000000-0000-0000-94BE-9E231F8A2D69   0  1541998623   \n",
       "\n",
       "     4           5     6    7  8           9               10      11     12  \\\n",
       "0  None  1541998623  None  { }  1  100-CI-T01  Pre-PQ Process  SCMS-4  ASN-8   \n",
       "\n",
       "               13        14           15   16   17              18  \\\n",
       "0  CÃ´te d'Ivoire  PMO - US  Direct Drop  EXW  Air  Pre-PQ Process   \n",
       "\n",
       "                  19        20        21        22    23        24  \\\n",
       "0  Date Not Captured  2-Jun-06  2-Jun-06  2-Jun-06  HRDT  HIV test   \n",
       "\n",
       "                            25  \\\n",
       "0  RANBAXY Fine Chemicals LTD.   \n",
       "\n",
       "                                                  26  \\\n",
       "0  HIV, Reveal G3 Rapid HIV-1 Antibody Test, 30 T...   \n",
       "\n",
       "                                         27      28    29        30  31  32  \\\n",
       "0  HIV, Reveal G3 Rapid HIV-1 Antibody Test  Reveal  None  Test kit  30  19   \n",
       "\n",
       "      33    34    35                          36    37  38      39    40  \n",
       "0  551.0  29.0  0.97  Ranbaxy Fine Chemicals LTD  True  13  780.34  None  "
      ]
     },
     "execution_count": 3,
     "metadata": {},
     "output_type": "execute_result"
    }
   ],
   "source": [
    "df=pd.DataFrame(data[\"data\"])\n",
    "df.head(1)"
   ]
  },
  {
   "cell_type": "code",
   "execution_count": null,
   "id": "039aad05",
   "metadata": {},
   "outputs": [],
   "source": []
  },
  {
   "cell_type": "code",
   "execution_count": 4,
   "id": "d603136e",
   "metadata": {},
   "outputs": [],
   "source": [
    "df.drop([0,1,2,3,4,5,6,7],axis=1,inplace=True)\n",
    "df.columns=['ID', 'Project Code', 'PQ #', 'PO / SO #', 'ASN/DN #', 'Country',\n",
    "       'Managed By', 'Fulfill Via', 'Vendor INCO Term', 'Shipment Mode',\n",
    "       'PQ First Sent to Client Date', 'PO Sent to Vendor Date',\n",
    "       'Scheduled Delivery Date', 'Delivered to Client Date',\n",
    "       'Delivery Recorded Date', 'Product Group', 'Sub Classification',\n",
    "       'Vendor', 'Item Description', 'Molecule/Test Type', 'Brand', 'Dosage',\n",
    "       'Dosage Form', 'Unit of Measure (Per Pack)', 'Line Item Quantity',\n",
    "       'Line Item Value', 'Pack Price', 'Unit Price', 'Manufacturing Site',\n",
    "       'First Line Designation', 'Weight (Kilograms)', 'Freight Cost (USD)',\n",
    "       'Line Item Insurance (USD)']\n",
    "import re\n",
    "df = df.rename(columns = lambda x:re.sub('[^A-Za-z0-9_]+', '', x))"
   ]
  },
  {
   "cell_type": "code",
   "execution_count": 5,
   "id": "0106427e",
   "metadata": {},
   "outputs": [
    {
     "data": {
      "text/html": [
       "<div>\n",
       "<style scoped>\n",
       "    .dataframe tbody tr th:only-of-type {\n",
       "        vertical-align: middle;\n",
       "    }\n",
       "\n",
       "    .dataframe tbody tr th {\n",
       "        vertical-align: top;\n",
       "    }\n",
       "\n",
       "    .dataframe thead th {\n",
       "        text-align: right;\n",
       "    }\n",
       "</style>\n",
       "<table border=\"1\" class=\"dataframe\">\n",
       "  <thead>\n",
       "    <tr style=\"text-align: right;\">\n",
       "      <th></th>\n",
       "      <th>ID</th>\n",
       "      <th>ProjectCode</th>\n",
       "      <th>PQ</th>\n",
       "      <th>POSO</th>\n",
       "      <th>ASNDN</th>\n",
       "      <th>Country</th>\n",
       "      <th>ManagedBy</th>\n",
       "      <th>FulfillVia</th>\n",
       "      <th>VendorINCOTerm</th>\n",
       "      <th>ShipmentMode</th>\n",
       "      <th>PQFirstSenttoClientDate</th>\n",
       "      <th>POSenttoVendorDate</th>\n",
       "      <th>ScheduledDeliveryDate</th>\n",
       "      <th>DeliveredtoClientDate</th>\n",
       "      <th>DeliveryRecordedDate</th>\n",
       "      <th>ProductGroup</th>\n",
       "      <th>SubClassification</th>\n",
       "      <th>Vendor</th>\n",
       "      <th>ItemDescription</th>\n",
       "      <th>MoleculeTestType</th>\n",
       "      <th>Brand</th>\n",
       "      <th>Dosage</th>\n",
       "      <th>DosageForm</th>\n",
       "      <th>UnitofMeasurePerPack</th>\n",
       "      <th>LineItemQuantity</th>\n",
       "      <th>LineItemValue</th>\n",
       "      <th>PackPrice</th>\n",
       "      <th>UnitPrice</th>\n",
       "      <th>ManufacturingSite</th>\n",
       "      <th>FirstLineDesignation</th>\n",
       "      <th>WeightKilograms</th>\n",
       "      <th>FreightCostUSD</th>\n",
       "      <th>LineItemInsuranceUSD</th>\n",
       "    </tr>\n",
       "  </thead>\n",
       "  <tbody>\n",
       "    <tr>\n",
       "      <th>0</th>\n",
       "      <td>1</td>\n",
       "      <td>100-CI-T01</td>\n",
       "      <td>Pre-PQ Process</td>\n",
       "      <td>SCMS-4</td>\n",
       "      <td>ASN-8</td>\n",
       "      <td>CÃ´te d'Ivoire</td>\n",
       "      <td>PMO - US</td>\n",
       "      <td>Direct Drop</td>\n",
       "      <td>EXW</td>\n",
       "      <td>Air</td>\n",
       "      <td>Pre-PQ Process</td>\n",
       "      <td>Date Not Captured</td>\n",
       "      <td>2-Jun-06</td>\n",
       "      <td>2-Jun-06</td>\n",
       "      <td>2-Jun-06</td>\n",
       "      <td>HRDT</td>\n",
       "      <td>HIV test</td>\n",
       "      <td>RANBAXY Fine Chemicals LTD.</td>\n",
       "      <td>HIV, Reveal G3 Rapid HIV-1 Antibody Test, 30 T...</td>\n",
       "      <td>HIV, Reveal G3 Rapid HIV-1 Antibody Test</td>\n",
       "      <td>Reveal</td>\n",
       "      <td>None</td>\n",
       "      <td>Test kit</td>\n",
       "      <td>30</td>\n",
       "      <td>19</td>\n",
       "      <td>551.0</td>\n",
       "      <td>29.0</td>\n",
       "      <td>0.97</td>\n",
       "      <td>Ranbaxy Fine Chemicals LTD</td>\n",
       "      <td>True</td>\n",
       "      <td>13</td>\n",
       "      <td>780.34</td>\n",
       "      <td>None</td>\n",
       "    </tr>\n",
       "    <tr>\n",
       "      <th>1</th>\n",
       "      <td>3</td>\n",
       "      <td>108-VN-T01</td>\n",
       "      <td>Pre-PQ Process</td>\n",
       "      <td>SCMS-13</td>\n",
       "      <td>ASN-85</td>\n",
       "      <td>Vietnam</td>\n",
       "      <td>PMO - US</td>\n",
       "      <td>Direct Drop</td>\n",
       "      <td>EXW</td>\n",
       "      <td>Air</td>\n",
       "      <td>Pre-PQ Process</td>\n",
       "      <td>Date Not Captured</td>\n",
       "      <td>14-Nov-06</td>\n",
       "      <td>14-Nov-06</td>\n",
       "      <td>14-Nov-06</td>\n",
       "      <td>ARV</td>\n",
       "      <td>Pediatric</td>\n",
       "      <td>Aurobindo Pharma Limited</td>\n",
       "      <td>Nevirapine 10mg/ml, oral suspension, Bottle, 2...</td>\n",
       "      <td>Nevirapine</td>\n",
       "      <td>Generic</td>\n",
       "      <td>10mg/ml</td>\n",
       "      <td>Oral suspension</td>\n",
       "      <td>240</td>\n",
       "      <td>1000</td>\n",
       "      <td>6200.0</td>\n",
       "      <td>6.2</td>\n",
       "      <td>0.03</td>\n",
       "      <td>Aurobindo Unit III, India</td>\n",
       "      <td>True</td>\n",
       "      <td>358</td>\n",
       "      <td>4521.5</td>\n",
       "      <td>None</td>\n",
       "    </tr>\n",
       "  </tbody>\n",
       "</table>\n",
       "</div>"
      ],
      "text/plain": [
       "  ID ProjectCode              PQ     POSO   ASNDN         Country ManagedBy  \\\n",
       "0  1  100-CI-T01  Pre-PQ Process   SCMS-4   ASN-8  CÃ´te d'Ivoire  PMO - US   \n",
       "1  3  108-VN-T01  Pre-PQ Process  SCMS-13  ASN-85         Vietnam  PMO - US   \n",
       "\n",
       "    FulfillVia VendorINCOTerm ShipmentMode PQFirstSenttoClientDate  \\\n",
       "0  Direct Drop            EXW          Air          Pre-PQ Process   \n",
       "1  Direct Drop            EXW          Air          Pre-PQ Process   \n",
       "\n",
       "  POSenttoVendorDate ScheduledDeliveryDate DeliveredtoClientDate  \\\n",
       "0  Date Not Captured              2-Jun-06              2-Jun-06   \n",
       "1  Date Not Captured             14-Nov-06             14-Nov-06   \n",
       "\n",
       "  DeliveryRecordedDate ProductGroup SubClassification  \\\n",
       "0             2-Jun-06         HRDT          HIV test   \n",
       "1            14-Nov-06          ARV         Pediatric   \n",
       "\n",
       "                        Vendor  \\\n",
       "0  RANBAXY Fine Chemicals LTD.   \n",
       "1     Aurobindo Pharma Limited   \n",
       "\n",
       "                                     ItemDescription  \\\n",
       "0  HIV, Reveal G3 Rapid HIV-1 Antibody Test, 30 T...   \n",
       "1  Nevirapine 10mg/ml, oral suspension, Bottle, 2...   \n",
       "\n",
       "                           MoleculeTestType    Brand   Dosage  \\\n",
       "0  HIV, Reveal G3 Rapid HIV-1 Antibody Test   Reveal     None   \n",
       "1                                Nevirapine  Generic  10mg/ml   \n",
       "\n",
       "        DosageForm UnitofMeasurePerPack LineItemQuantity LineItemValue  \\\n",
       "0         Test kit                   30               19         551.0   \n",
       "1  Oral suspension                  240             1000        6200.0   \n",
       "\n",
       "  PackPrice UnitPrice           ManufacturingSite  FirstLineDesignation  \\\n",
       "0      29.0      0.97  Ranbaxy Fine Chemicals LTD                  True   \n",
       "1       6.2      0.03   Aurobindo Unit III, India                  True   \n",
       "\n",
       "  WeightKilograms FreightCostUSD LineItemInsuranceUSD  \n",
       "0              13         780.34                 None  \n",
       "1             358         4521.5                 None  "
      ]
     },
     "metadata": {},
     "output_type": "display_data"
    },
    {
     "data": {
      "text/html": [
       "<div>\n",
       "<style scoped>\n",
       "    .dataframe tbody tr th:only-of-type {\n",
       "        vertical-align: middle;\n",
       "    }\n",
       "\n",
       "    .dataframe tbody tr th {\n",
       "        vertical-align: top;\n",
       "    }\n",
       "\n",
       "    .dataframe thead th {\n",
       "        text-align: right;\n",
       "    }\n",
       "</style>\n",
       "<table border=\"1\" class=\"dataframe\">\n",
       "  <thead>\n",
       "    <tr style=\"text-align: right;\">\n",
       "      <th></th>\n",
       "      <th>ID</th>\n",
       "      <th>ProjectCode</th>\n",
       "      <th>PQ</th>\n",
       "      <th>POSO</th>\n",
       "      <th>ASNDN</th>\n",
       "      <th>Country</th>\n",
       "      <th>ManagedBy</th>\n",
       "      <th>FulfillVia</th>\n",
       "      <th>VendorINCOTerm</th>\n",
       "      <th>ShipmentMode</th>\n",
       "      <th>PQFirstSenttoClientDate</th>\n",
       "      <th>POSenttoVendorDate</th>\n",
       "      <th>ScheduledDeliveryDate</th>\n",
       "      <th>DeliveredtoClientDate</th>\n",
       "      <th>DeliveryRecordedDate</th>\n",
       "      <th>ProductGroup</th>\n",
       "      <th>SubClassification</th>\n",
       "      <th>Vendor</th>\n",
       "      <th>ItemDescription</th>\n",
       "      <th>MoleculeTestType</th>\n",
       "      <th>Brand</th>\n",
       "      <th>Dosage</th>\n",
       "      <th>DosageForm</th>\n",
       "      <th>UnitofMeasurePerPack</th>\n",
       "      <th>LineItemQuantity</th>\n",
       "      <th>LineItemValue</th>\n",
       "      <th>PackPrice</th>\n",
       "      <th>UnitPrice</th>\n",
       "      <th>ManufacturingSite</th>\n",
       "      <th>FirstLineDesignation</th>\n",
       "      <th>WeightKilograms</th>\n",
       "      <th>FreightCostUSD</th>\n",
       "      <th>LineItemInsuranceUSD</th>\n",
       "    </tr>\n",
       "  </thead>\n",
       "  <tbody>\n",
       "    <tr>\n",
       "      <th>10322</th>\n",
       "      <td>86822</td>\n",
       "      <td>200-ZW-T30</td>\n",
       "      <td>FPQ-16523</td>\n",
       "      <td>SO-51680</td>\n",
       "      <td>DN-4334</td>\n",
       "      <td>Zimbabwe</td>\n",
       "      <td>PMO - US</td>\n",
       "      <td>From RDC</td>\n",
       "      <td>N/A - From RDC</td>\n",
       "      <td>Truck</td>\n",
       "      <td>7/1/2015</td>\n",
       "      <td>N/A - From RDC</td>\n",
       "      <td>9-Sep-15</td>\n",
       "      <td>4-Aug-15</td>\n",
       "      <td>11-Aug-15</td>\n",
       "      <td>ARV</td>\n",
       "      <td>Adult</td>\n",
       "      <td>SCMS from RDC</td>\n",
       "      <td>Lamivudine/Zidovudine 150/300mg, tablets, 60 Tabs</td>\n",
       "      <td>Lamivudine/Zidovudine</td>\n",
       "      <td>Generic</td>\n",
       "      <td>150/300mg</td>\n",
       "      <td>Tablet - FDC</td>\n",
       "      <td>60</td>\n",
       "      <td>17465</td>\n",
       "      <td>113871.8</td>\n",
       "      <td>6.52</td>\n",
       "      <td>0.11</td>\n",
       "      <td>Mylan (formerly Matrix) Nashik</td>\n",
       "      <td>True</td>\n",
       "      <td>1392</td>\n",
       "      <td>Freight Included in Commodity Cost</td>\n",
       "      <td>134.03</td>\n",
       "    </tr>\n",
       "    <tr>\n",
       "      <th>10323</th>\n",
       "      <td>86823</td>\n",
       "      <td>103-ZW-T30</td>\n",
       "      <td>FPQ-15197</td>\n",
       "      <td>SO-50022</td>\n",
       "      <td>DN-4336</td>\n",
       "      <td>Zimbabwe</td>\n",
       "      <td>PMO - US</td>\n",
       "      <td>From RDC</td>\n",
       "      <td>N/A - From RDC</td>\n",
       "      <td>Truck</td>\n",
       "      <td>10/16/2014</td>\n",
       "      <td>N/A - From RDC</td>\n",
       "      <td>31-Aug-15</td>\n",
       "      <td>4-Aug-15</td>\n",
       "      <td>11-Aug-15</td>\n",
       "      <td>ARV</td>\n",
       "      <td>Pediatric</td>\n",
       "      <td>SCMS from RDC</td>\n",
       "      <td>Lamivudine/Zidovudine 30/60mg, dispersible tab...</td>\n",
       "      <td>Lamivudine/Zidovudine</td>\n",
       "      <td>Generic</td>\n",
       "      <td>30/60mg</td>\n",
       "      <td>Chewable/dispersible tablet - FDC</td>\n",
       "      <td>60</td>\n",
       "      <td>36639</td>\n",
       "      <td>72911.61</td>\n",
       "      <td>1.99</td>\n",
       "      <td>0.03</td>\n",
       "      <td>Cipla, Goa, India</td>\n",
       "      <td>False</td>\n",
       "      <td>Weight Captured Separately</td>\n",
       "      <td>Freight Included in Commodity Cost</td>\n",
       "      <td>85.82</td>\n",
       "    </tr>\n",
       "  </tbody>\n",
       "</table>\n",
       "</div>"
      ],
      "text/plain": [
       "          ID ProjectCode         PQ      POSO    ASNDN   Country ManagedBy  \\\n",
       "10322  86822  200-ZW-T30  FPQ-16523  SO-51680  DN-4334  Zimbabwe  PMO - US   \n",
       "10323  86823  103-ZW-T30  FPQ-15197  SO-50022  DN-4336  Zimbabwe  PMO - US   \n",
       "\n",
       "      FulfillVia  VendorINCOTerm ShipmentMode PQFirstSenttoClientDate  \\\n",
       "10322   From RDC  N/A - From RDC        Truck                7/1/2015   \n",
       "10323   From RDC  N/A - From RDC        Truck              10/16/2014   \n",
       "\n",
       "      POSenttoVendorDate ScheduledDeliveryDate DeliveredtoClientDate  \\\n",
       "10322     N/A - From RDC              9-Sep-15              4-Aug-15   \n",
       "10323     N/A - From RDC             31-Aug-15              4-Aug-15   \n",
       "\n",
       "      DeliveryRecordedDate ProductGroup SubClassification         Vendor  \\\n",
       "10322            11-Aug-15          ARV             Adult  SCMS from RDC   \n",
       "10323            11-Aug-15          ARV         Pediatric  SCMS from RDC   \n",
       "\n",
       "                                         ItemDescription  \\\n",
       "10322  Lamivudine/Zidovudine 150/300mg, tablets, 60 Tabs   \n",
       "10323  Lamivudine/Zidovudine 30/60mg, dispersible tab...   \n",
       "\n",
       "            MoleculeTestType    Brand     Dosage  \\\n",
       "10322  Lamivudine/Zidovudine  Generic  150/300mg   \n",
       "10323  Lamivudine/Zidovudine  Generic    30/60mg   \n",
       "\n",
       "                              DosageForm UnitofMeasurePerPack  \\\n",
       "10322                       Tablet - FDC                   60   \n",
       "10323  Chewable/dispersible tablet - FDC                   60   \n",
       "\n",
       "      LineItemQuantity LineItemValue PackPrice UnitPrice  \\\n",
       "10322            17465      113871.8      6.52      0.11   \n",
       "10323            36639      72911.61      1.99      0.03   \n",
       "\n",
       "                    ManufacturingSite  FirstLineDesignation  \\\n",
       "10322  Mylan (formerly Matrix) Nashik                  True   \n",
       "10323               Cipla, Goa, India                 False   \n",
       "\n",
       "                  WeightKilograms                      FreightCostUSD  \\\n",
       "10322                        1392  Freight Included in Commodity Cost   \n",
       "10323  Weight Captured Separately  Freight Included in Commodity Cost   \n",
       "\n",
       "      LineItemInsuranceUSD  \n",
       "10322               134.03  \n",
       "10323                85.82  "
      ]
     },
     "metadata": {},
     "output_type": "display_data"
    }
   ],
   "source": [
    "display(df.head(2))\n",
    "display(df.tail(2))"
   ]
  },
  {
   "cell_type": "code",
   "execution_count": 6,
   "id": "093356b0",
   "metadata": {},
   "outputs": [
    {
     "data": {
      "text/plain": [
       "ID                            0\n",
       "ProjectCode                   0\n",
       "PQ                            0\n",
       "POSO                          0\n",
       "ASNDN                         0\n",
       "Country                       0\n",
       "ManagedBy                     0\n",
       "FulfillVia                    0\n",
       "VendorINCOTerm                0\n",
       "ShipmentMode                360\n",
       "PQFirstSenttoClientDate       0\n",
       "POSenttoVendorDate            0\n",
       "ScheduledDeliveryDate         0\n",
       "DeliveredtoClientDate         0\n",
       "DeliveryRecordedDate          0\n",
       "ProductGroup                  0\n",
       "SubClassification             0\n",
       "Vendor                        0\n",
       "ItemDescription               0\n",
       "MoleculeTestType              0\n",
       "Brand                         0\n",
       "Dosage                     1736\n",
       "DosageForm                    0\n",
       "UnitofMeasurePerPack          0\n",
       "LineItemQuantity              0\n",
       "LineItemValue                 0\n",
       "PackPrice                     0\n",
       "UnitPrice                     0\n",
       "ManufacturingSite             0\n",
       "FirstLineDesignation          0\n",
       "WeightKilograms               0\n",
       "FreightCostUSD                0\n",
       "LineItemInsuranceUSD        287\n",
       "dtype: int64"
      ]
     },
     "execution_count": 6,
     "metadata": {},
     "output_type": "execute_result"
    }
   ],
   "source": [
    "df.isnull().sum()"
   ]
  },
  {
   "cell_type": "code",
   "execution_count": 7,
   "id": "0c29695c",
   "metadata": {},
   "outputs": [
    {
     "name": "stdout",
     "output_type": "stream",
     "text": [
      "<class 'pandas.core.frame.DataFrame'>\n",
      "RangeIndex: 10324 entries, 0 to 10323\n",
      "Data columns (total 33 columns):\n",
      " #   Column                   Non-Null Count  Dtype \n",
      "---  ------                   --------------  ----- \n",
      " 0   ID                       10324 non-null  object\n",
      " 1   ProjectCode              10324 non-null  object\n",
      " 2   PQ                       10324 non-null  object\n",
      " 3   POSO                     10324 non-null  object\n",
      " 4   ASNDN                    10324 non-null  object\n",
      " 5   Country                  10324 non-null  object\n",
      " 6   ManagedBy                10324 non-null  object\n",
      " 7   FulfillVia               10324 non-null  object\n",
      " 8   VendorINCOTerm           10324 non-null  object\n",
      " 9   ShipmentMode             9964 non-null   object\n",
      " 10  PQFirstSenttoClientDate  10324 non-null  object\n",
      " 11  POSenttoVendorDate       10324 non-null  object\n",
      " 12  ScheduledDeliveryDate    10324 non-null  object\n",
      " 13  DeliveredtoClientDate    10324 non-null  object\n",
      " 14  DeliveryRecordedDate     10324 non-null  object\n",
      " 15  ProductGroup             10324 non-null  object\n",
      " 16  SubClassification        10324 non-null  object\n",
      " 17  Vendor                   10324 non-null  object\n",
      " 18  ItemDescription          10324 non-null  object\n",
      " 19  MoleculeTestType         10324 non-null  object\n",
      " 20  Brand                    10324 non-null  object\n",
      " 21  Dosage                   8588 non-null   object\n",
      " 22  DosageForm               10324 non-null  object\n",
      " 23  UnitofMeasurePerPack     10324 non-null  object\n",
      " 24  LineItemQuantity         10324 non-null  object\n",
      " 25  LineItemValue            10324 non-null  object\n",
      " 26  PackPrice                10324 non-null  object\n",
      " 27  UnitPrice                10324 non-null  object\n",
      " 28  ManufacturingSite        10324 non-null  object\n",
      " 29  FirstLineDesignation     10324 non-null  bool  \n",
      " 30  WeightKilograms          10324 non-null  object\n",
      " 31  FreightCostUSD           10324 non-null  object\n",
      " 32  LineItemInsuranceUSD     10037 non-null  object\n",
      "dtypes: bool(1), object(32)\n",
      "memory usage: 2.5+ MB\n"
     ]
    }
   ],
   "source": [
    "df.info()"
   ]
  },
  {
   "cell_type": "code",
   "execution_count": 8,
   "id": "b3115448",
   "metadata": {},
   "outputs": [
    {
     "data": {
      "text/plain": [
       "'ID'"
      ]
     },
     "metadata": {},
     "output_type": "display_data"
    },
    {
     "data": {
      "text/plain": [
       "array(['1', '3', '4', ..., '86821', '86822', '86823'], dtype=object)"
      ]
     },
     "metadata": {},
     "output_type": "display_data"
    },
    {
     "data": {
      "text/plain": [
       "10324"
      ]
     },
     "metadata": {},
     "output_type": "display_data"
    },
    {
     "data": {
      "text/plain": [
       "'ProjectCode'"
      ]
     },
     "metadata": {},
     "output_type": "display_data"
    },
    {
     "data": {
      "text/plain": [
       "array(['100-CI-T01', '108-VN-T01', '112-NG-T01', '110-ZM-T01',\n",
       "       '109-TZ-T01', '102-NG-T01', '107-RW-T01', '106-HT-T01',\n",
       "       '113-ZW-T01', '108-VN-T30', '104-CI-T01', '100-HT-T01',\n",
       "       '117-ET-T01', '116-ZA-T01', '123-NG-T01', '125-HT-T01',\n",
       "       '102-GY-T01', '119-NA-T01', '131-NG-T01', '102-BW-T01',\n",
       "       '111-MZ-T01', '144-BW-T01', '102-KE-T01', '133-NG-T01',\n",
       "       '100-KZ-T01', '141-NA-T01', '114-UG-T01', '105-GY-T01',\n",
       "       '139-NA-T01', '129-KG-T01', '100-SN-T01', '128-BJ-T01',\n",
       "       '102-LS-T01', '130-NG-T01', '100-BW-T01', '100-ZW-T01',\n",
       "       '100-PK-T01', '126-NG-T01', '151-NG-T01', '100-SZ-T01',\n",
       "       '100-GH-T01', '120-AO-T01', '132-NG-T01', '153-NG-T01',\n",
       "       '100-LB-T01', '151-NG-T30', '127-KE-T01', '510-KE-T01',\n",
       "       '100-SL-T01', '136-RW-T01', '102-KE-T30', '110-ZM-T30',\n",
       "       '106-HT-T30', '105-SS-T30', '111-MZ-T30', '102-BI-T30',\n",
       "       '122-HT-T30', '161-ZA-T30', '116-ZA-T30', '133-NG-T30',\n",
       "       '103-DO-T30', '104-CI-T30', '107-RW-T30', '103-MW-T30',\n",
       "       '101-CD-T30', '102-SD-T30', '102-SZ-T30', '114-UG-T30',\n",
       "       '105-DO-T30', '113-ZW-T30', '103-CM-T30', '109-TZ-T30',\n",
       "       '800-CM-T30', '100-BJ-T30', '117-ET-T30', '900-TZ-T30',\n",
       "       '112-NG-T30', '110-PK-T30', '102-SS-T30', '105-GY-T30',\n",
       "       '102-ML-T30', 'A01-CM-T50', '901-CM-T30', '123-NG-T30',\n",
       "       '103-KE-T30', '152-HT-T30', '901-NA-T30', '103-ZW-T30',\n",
       "       '105-GH-T30', '202-GT-T30', '102-BW-T30', '102-GY-T30',\n",
       "       '102-CD-T30', '119-NA-T30', '200-ZW-T30', '101-KE-T30',\n",
       "       '900-SS-T30', '127-KE-T30', '103-SS-T30', '153-NA-T30',\n",
       "       '102-MW-T30', '102-ZW-T30', '100-ZW-T30', '144-BW-T30',\n",
       "       '100-DO-T30', '900-TG-T30', '901-GH-T30', '103-AO-T30',\n",
       "       '100-ZM-T30', '101-AF-T30', '200-DO-T30', '900-CM-T30',\n",
       "       '900-LR-T30', '103-UG-T30', '103-ML-T30', '900-UG-T30',\n",
       "       'A01-BF-T50', '101-ZA-T30', '800-LS-T30', '200-UG-T30',\n",
       "       'A02-SL-T50', '900-SZ-T30', 'A02-SN-T50', '901-LR-T30',\n",
       "       '102-AO-T30', '104-BW-T30', 'A01-ZM-T50', '203-SZ-T30',\n",
       "       '100-GN-T30', '201-UG-T30', '154-NG-T30', '901-SZ-T30',\n",
       "       '102-UG-T30', '100-GH-T30', '102-LY-T30', '102-DO-T30',\n",
       "       '103-CD-T30', '900-GH-T30', 'A01-SN-T50', '100-BZ-T30',\n",
       "       '900-GY-T30', '104-SZ-T30'], dtype=object)"
      ]
     },
     "metadata": {},
     "output_type": "display_data"
    },
    {
     "data": {
      "text/plain": [
       "142"
      ]
     },
     "metadata": {},
     "output_type": "display_data"
    },
    {
     "data": {
      "text/plain": [
       "'PQ'"
      ]
     },
     "metadata": {},
     "output_type": "display_data"
    },
    {
     "data": {
      "text/plain": [
       "array(['Pre-PQ Process', 'FPQ-10286', 'FPQ-4587', ..., 'FPQ-13316',\n",
       "       'FPQ-14064', 'FPQ-16523'], dtype=object)"
      ]
     },
     "metadata": {},
     "output_type": "display_data"
    },
    {
     "data": {
      "text/plain": [
       "1237"
      ]
     },
     "metadata": {},
     "output_type": "display_data"
    },
    {
     "data": {
      "text/plain": [
       "'POSO'"
      ]
     },
     "metadata": {},
     "output_type": "display_data"
    },
    {
     "data": {
      "text/plain": [
       "array(['SCMS-4', 'SCMS-13', 'SCMS-20', ..., 'SO-51424', 'SO-51420',\n",
       "       'SO-51680'], dtype=object)"
      ]
     },
     "metadata": {},
     "output_type": "display_data"
    },
    {
     "data": {
      "text/plain": [
       "6233"
      ]
     },
     "metadata": {},
     "output_type": "display_data"
    },
    {
     "data": {
      "text/plain": [
       "'ASNDN'"
      ]
     },
     "metadata": {},
     "output_type": "display_data"
    },
    {
     "data": {
      "text/plain": [
       "array(['ASN-8', 'ASN-85', 'ASN-14', ..., 'DN-4276', 'DN-4279', 'DN-4334'],\n",
       "      dtype=object)"
      ]
     },
     "metadata": {},
     "output_type": "display_data"
    },
    {
     "data": {
      "text/plain": [
       "7030"
      ]
     },
     "metadata": {},
     "output_type": "display_data"
    },
    {
     "data": {
      "text/plain": [
       "'Country'"
      ]
     },
     "metadata": {},
     "output_type": "display_data"
    },
    {
     "data": {
      "text/plain": [
       "array([\"CÃ´te d'Ivoire\", 'Vietnam', 'Nigeria', 'Zambia', 'Tanzania',\n",
       "       'Rwanda', 'Haiti', 'Zimbabwe', 'Ethiopia', 'South Africa',\n",
       "       'Guyana', 'Namibia', 'Botswana', 'Mozambique', 'Kenya',\n",
       "       'Kazakhstan', 'Uganda', 'Kyrgyzstan', 'Senegal', 'Benin',\n",
       "       'Lesotho', 'Pakistan', 'Swaziland', 'Ghana', 'Angola', 'Lebanon',\n",
       "       'Sierra Leone', 'Cameroon', 'South Sudan', 'Burundi',\n",
       "       'Dominican Republic', 'Malawi', 'Congo, DRC', 'Sudan', 'Mali',\n",
       "       'Guatemala', 'Togo', 'Afghanistan', 'Liberia', 'Burkina Faso',\n",
       "       'Guinea', 'Libya', 'Belize'], dtype=object)"
      ]
     },
     "metadata": {},
     "output_type": "display_data"
    },
    {
     "data": {
      "text/plain": [
       "43"
      ]
     },
     "metadata": {},
     "output_type": "display_data"
    },
    {
     "data": {
      "text/plain": [
       "'ManagedBy'"
      ]
     },
     "metadata": {},
     "output_type": "display_data"
    },
    {
     "data": {
      "text/plain": [
       "array(['PMO - US', 'South Africa Field Office', 'Haiti Field Office',\n",
       "       'Ethiopia Field Office'], dtype=object)"
      ]
     },
     "metadata": {},
     "output_type": "display_data"
    },
    {
     "data": {
      "text/plain": [
       "4"
      ]
     },
     "metadata": {},
     "output_type": "display_data"
    },
    {
     "data": {
      "text/plain": [
       "'FulfillVia'"
      ]
     },
     "metadata": {},
     "output_type": "display_data"
    },
    {
     "data": {
      "text/plain": [
       "array(['Direct Drop', 'From RDC'], dtype=object)"
      ]
     },
     "metadata": {},
     "output_type": "display_data"
    },
    {
     "data": {
      "text/plain": [
       "2"
      ]
     },
     "metadata": {},
     "output_type": "display_data"
    },
    {
     "data": {
      "text/plain": [
       "'VendorINCOTerm'"
      ]
     },
     "metadata": {},
     "output_type": "display_data"
    },
    {
     "data": {
      "text/plain": [
       "array(['EXW', 'FCA', 'DDU', 'CIP', 'DDP', 'CIF', 'N/A - From RDC', 'DAP'],\n",
       "      dtype=object)"
      ]
     },
     "metadata": {},
     "output_type": "display_data"
    },
    {
     "data": {
      "text/plain": [
       "8"
      ]
     },
     "metadata": {},
     "output_type": "display_data"
    },
    {
     "data": {
      "text/plain": [
       "'ShipmentMode'"
      ]
     },
     "metadata": {},
     "output_type": "display_data"
    },
    {
     "data": {
      "text/plain": [
       "array(['Air', None, 'Truck', 'Air Charter', 'Ocean'], dtype=object)"
      ]
     },
     "metadata": {},
     "output_type": "display_data"
    },
    {
     "data": {
      "text/plain": [
       "5"
      ]
     },
     "metadata": {},
     "output_type": "display_data"
    },
    {
     "data": {
      "text/plain": [
       "'PQFirstSenttoClientDate'"
      ]
     },
     "metadata": {},
     "output_type": "display_data"
    },
    {
     "data": {
      "text/plain": [
       "array(['Pre-PQ Process', '7/25/2012', 'Date Not Captured', '11/18/2009',\n",
       "       '5/3/2013', '8/19/2014', '1/6/2012', '2/22/2013', '10/28/2014',\n",
       "       '2/20/2013', '2/17/2012', '11/9/2011', '2/6/2014', '3/10/2011',\n",
       "       '9/11/2014', '4/30/2014', '4/8/2014', '7/11/2013', '10/5/2012',\n",
       "       '6/13/2014', '8/4/2011', '3/18/2010', '6/19/2009', '1/28/2015',\n",
       "       '8/12/2009', '9/3/2010', '12/8/2011', '10/17/2012', '9/2/2009',\n",
       "       '9/24/2014', '6/3/2014', '8/11/2014', '8/29/2011', '7/9/2014',\n",
       "       '6/17/2014', '6/21/2011', '3/15/2012', '3/10/2015', '6/25/2009',\n",
       "       '12/11/2013', '1/22/2014', '2/7/2013', '4/11/2012', '8/13/2014',\n",
       "       '4/1/2014', '7/16/2009', '5/15/2014', '10/20/2009', '10/17/2014',\n",
       "       '5/17/2013', '10/5/2011', '7/26/2013', '7/15/2013', '7/10/2013',\n",
       "       '5/21/2014', '7/18/2013', '1/29/2013', '4/26/2013', '10/8/2009',\n",
       "       '2/2/2010', '4/30/2013', '7/17/2014', '6/24/2011', '4/15/2014',\n",
       "       '5/16/2011', '11/14/2013', '2/3/2013', '12/29/2014', '11/12/2013',\n",
       "       '10/23/2013', '1/5/2010', '7/26/2012', '4/23/2013', '3/27/2014',\n",
       "       '4/28/2011', '10/3/2013', '8/31/2010', '7/29/2010', '10/19/2011',\n",
       "       '12/17/2009', '4/7/2011', '7/17/2012', '1/30/2013', '5/26/2010',\n",
       "       '7/19/2010', '3/20/2014', '4/18/2013', '2/5/2014', '3/12/2014',\n",
       "       '12/27/2011', '12/7/2012', '10/15/2012', '6/2/2010', '2/23/2015',\n",
       "       '10/9/2014', '8/18/2010', '11/25/2009', '5/4/2010', '1/17/2012',\n",
       "       '5/7/2009', '3/27/2012', '8/13/2010', '7/5/2012', '4/23/2014',\n",
       "       '5/2/2013', '1/17/2011', '9/28/2010', '5/11/2014', '3/18/2013',\n",
       "       '3/11/2011', '3/15/2013', '10/17/2013', '7/23/2013', '10/22/2014',\n",
       "       '11/13/2012', '7/28/2011', '2/19/2015', '8/19/2013', '12/23/2009',\n",
       "       '1/13/2012', '5/23/2011', '2/13/2015', '9/21/2011', '10/11/2012',\n",
       "       '6/8/2015', '12/6/2011', '12/16/2009', '4/28/2010', '11/26/2010',\n",
       "       '7/3/2013', '8/11/2011', '10/4/2013', '12/7/2011', '6/11/2009',\n",
       "       '1/13/2011', '7/8/2011', '12/27/2010', '6/5/2012', '1/5/2012',\n",
       "       '6/30/2009', '12/13/2013', '8/21/2013', '11/30/2011', '10/11/2013',\n",
       "       '1/19/2011', '4/19/2013', '1/10/2013', '12/13/2012', '1/4/2009',\n",
       "       '10/25/2013', '3/9/2012', '10/29/2014', '6/21/2010', '2/28/2012',\n",
       "       '4/22/2014', '11/5/2009', '6/25/2013', '3/29/2011', '4/1/2011',\n",
       "       '1/27/2011', '4/19/2010', '6/21/2013', '7/30/2013', '10/18/2012',\n",
       "       '9/30/2010', '1/2/2015', '1/16/2013', '5/16/2014', '7/29/2009',\n",
       "       '7/30/2014', '4/21/2011', '7/29/2014', '9/12/2012', '9/23/2014',\n",
       "       '4/14/2010', '4/17/2014', '4/12/2014', '8/5/2010', '10/24/2014',\n",
       "       '8/9/2013', '11/11/2010', '4/15/2010', '3/4/2011', '4/12/2013',\n",
       "       '12/8/2009', '7/22/2011', '3/25/2009', '9/7/2011', '1/19/2010',\n",
       "       '7/1/2014', '2/16/2011', '1/23/2014', '12/8/2014', '1/25/2012',\n",
       "       '11/4/2010', '11/12/2014', '2/13/2013', '4/30/2010', '8/13/2009',\n",
       "       '4/24/2012', '3/22/2010', '10/30/2014', '8/5/2013', '6/23/2010',\n",
       "       '10/10/2014', '5/29/2009', '9/22/2014', '9/8/2009', '8/23/2012',\n",
       "       '8/3/2009', '7/22/2013', '5/2/2014', '5/14/2012', '2/25/2010',\n",
       "       '3/25/2014', '11/11/2014', '3/24/2014', '8/27/2014', '8/4/2009',\n",
       "       '10/26/2010', '5/26/2014', '10/31/2013', '1/6/2011', '8/20/2009',\n",
       "       '3/25/2013', '11/4/2011', '3/14/2013', '12/2/2010', '6/7/2010',\n",
       "       '7/24/2009', '5/5/2011', '3/21/2014', '5/16/2013', '9/8/2010',\n",
       "       '7/8/2013', '7/9/2013', '5/18/2012', '5/29/2012', '3/9/2011',\n",
       "       '4/14/2015', '10/8/2010', '1/4/2013', '1/21/2011', '12/17/2012',\n",
       "       '5/8/2009', '3/19/2014', '11/15/2012', '10/15/2014', '3/20/2013',\n",
       "       '9/5/2011', '1/24/2013', '10/26/2011', '6/8/2009', '7/16/2014',\n",
       "       '1/6/2010', '10/3/2012', '4/12/2012', '1/4/2012', '7/12/2013',\n",
       "       '12/23/2014', '11/11/2011', '12/10/2010', '5/3/2011', '7/22/2009',\n",
       "       '10/8/2013', '11/2/2009', '9/9/2009', '1/21/2014', '7/6/2009',\n",
       "       '1/19/2012', '9/8/2011', '8/19/2010', '7/20/2009', '8/27/2009',\n",
       "       '7/28/2009', '11/26/2013', '3/4/2015', '9/27/2010', '5/24/2012',\n",
       "       '2/3/2014', '3/15/2010', '4/11/2014', '1/10/2012', '10/10/2012',\n",
       "       '5/4/2015', '8/31/2009', '7/25/2011', '8/5/2011', '12/28/2009',\n",
       "       '7/31/2012', '12/22/2011', '2/15/2010', '9/15/2009', '5/14/2014',\n",
       "       '11/9/2010', '2/27/2009', '3/23/2010', '6/22/2012', '2/18/2015',\n",
       "       '8/13/2013', '2/20/2015', '1/29/2010', '12/14/2010', '2/8/2012',\n",
       "       '11/19/2010', '8/15/2012', '5/25/2012', '8/31/2011', '12/4/2014',\n",
       "       '10/27/2014', '2/8/2013', '6/23/2011', '9/3/2009', '3/19/2012',\n",
       "       '12/16/2013', '5/31/2011', '7/27/2012', '5/7/2015', '11/26/2012',\n",
       "       '9/19/2012', '3/7/2014', '6/10/2013', '6/24/2015', '7/17/2013',\n",
       "       '4/15/2013', '7/12/2012', '3/10/2014', '6/11/2014', '12/10/2009',\n",
       "       '4/29/2011', '2/27/2014', '2/10/2010', '7/16/2012', '4/28/2015',\n",
       "       '1/9/2012', '5/11/2015', '9/16/2009', '1/25/2010', '6/15/2009',\n",
       "       '3/10/2009', '5/14/2013', '5/6/2013', '8/12/2010', '1/14/2011',\n",
       "       '12/9/2009', '10/16/2013', '1/20/2015', '11/10/2010', '6/25/2010',\n",
       "       '3/28/2011', '11/3/2009', '11/16/2012', '9/20/2010', '10/29/2010',\n",
       "       '8/21/2009', '2/13/2012', '5/28/2012', '8/20/2013', '3/30/2010',\n",
       "       '4/3/2011', '9/20/2012', '12/15/2011', '8/19/2011', '11/14/2014',\n",
       "       '4/10/2014', '1/13/2010', '6/27/2011', '5/5/2015', '7/23/2014',\n",
       "       '2/24/2010', '4/29/2013', '1/3/2011', '1/5/2011', '2/28/2011',\n",
       "       '8/10/2010', '1/18/2012', '2/5/2011', '10/20/2010', '2/21/2014',\n",
       "       '1/22/2013', '5/22/2012', '1/31/2014', '6/4/2012', '1/4/2010',\n",
       "       '1/15/2013', '2/19/2014', '4/20/2012', '7/7/2015', '1/31/2013',\n",
       "       '5/11/2012', '12/14/2012', '3/24/2010', '10/13/2009', '10/27/2009',\n",
       "       '3/26/2015', '6/20/2010', '12/5/2011', '10/28/2013', '10/18/2011',\n",
       "       '7/12/2011', '1/8/2013', '12/14/2011', '1/15/2015', '2/4/2014',\n",
       "       '9/13/2010', '11/17/2014', '6/30/2015', '11/16/2009', '7/11/2012',\n",
       "       '8/23/2013', '9/18/2012', '7/14/2010', '1/4/2011', '10/7/2014',\n",
       "       '1/11/2011', '1/12/2015', '7/16/2013', '2/26/2014', '6/9/2015',\n",
       "       '2/4/2011', '7/28/2014', '11/7/2012', '8/4/2014', '9/24/2013',\n",
       "       '9/21/2010', '10/7/2009', '12/5/2014', '3/1/2010', '7/2/2013',\n",
       "       '5/21/2012', '6/7/2012', '10/15/2013', '4/9/2014', '4/23/2012',\n",
       "       '7/14/2009', '8/21/2012', '1/6/2014', '3/31/2011', '1/28/2014',\n",
       "       '6/13/2012', '8/30/2011', '9/7/2013', '3/1/2012', '2/25/2011',\n",
       "       '8/26/2010', '7/11/2011', '3/12/2010', '2/5/2015', '10/3/2011',\n",
       "       '2/13/2014', '4/10/2013', '5/9/2013', '2/17/2011', '4/3/2012',\n",
       "       '8/27/2010', '1/9/2013', '9/18/2009', '8/10/2009', '3/30/2015',\n",
       "       '4/3/2015', '11/16/2010', '8/5/2009', '9/13/2012', '7/23/2012',\n",
       "       '12/12/2012', '5/30/2011', '8/25/2009', '7/1/2015', '9/14/2011',\n",
       "       '1/17/2013', '7/13/2011', '7/23/2010', '1/27/2012', '6/15/2015',\n",
       "       '10/31/2010', '11/28/2013', '6/6/2011', '8/24/2012', '1/18/2013',\n",
       "       '12/23/2013', '10/23/2009', '7/19/2013', '1/7/2010', '1/15/2010',\n",
       "       '3/30/2011', '5/31/2013', '5/16/2012', '1/26/2011', '6/11/2012',\n",
       "       '6/27/2013', '10/7/2010', '12/17/2014', '11/19/2009', '8/1/2013',\n",
       "       '2/24/2012', '7/31/2013', '1/3/2012', '10/29/2009', '9/13/2011',\n",
       "       '10/28/2010', '9/14/2010', '1/26/2015', '9/3/2013', '1/8/2015',\n",
       "       '11/18/2013', '5/7/2010', '7/6/2015', '6/4/2013', '4/5/2010',\n",
       "       '8/9/2011', '3/12/2012', '4/23/2015', '2/9/2010', '7/15/2009',\n",
       "       '11/28/2011', '7/16/2010', '7/1/2009', '8/30/2010', '5/4/2012',\n",
       "       '9/3/2014', '1/6/2015', '3/29/2012', '8/7/2010', '4/27/2011',\n",
       "       '5/12/2014', '9/16/2011', '6/28/2011', '10/25/2010', '7/17/2009',\n",
       "       '2/28/2014', '4/18/2014', '1/11/2010', '10/21/2009', '10/22/2013',\n",
       "       '1/20/2010', '1/28/2010', '6/29/2010', '12/2/2009', '1/26/2012',\n",
       "       '7/30/2009', '2/19/2010', '10/8/2014', '12/29/2010', '7/10/2012',\n",
       "       '3/1/2013', '5/12/2011', '1/3/2013', '5/6/2011', '4/8/2013',\n",
       "       '4/10/2012', '6/2/2011', '12/21/2010', '6/15/2012', '2/25/2013',\n",
       "       '4/16/2010', '6/30/2014', '2/1/2012', '6/19/2012', '11/4/2009',\n",
       "       '9/22/2009', '6/9/2014', '5/31/2012', '11/4/2014', '11/21/2014',\n",
       "       '4/1/2010', '8/6/2009', '5/26/2009', '3/17/2009', '7/27/2009',\n",
       "       '10/15/2009', '9/17/2009', '2/26/2009', '9/23/2009', '9/14/2009',\n",
       "       '11/6/2009', '3/2/2010', '6/9/2010', '10/28/2009', '3/3/2010',\n",
       "       '5/20/2010', '3/25/2010', '5/27/2010', '2/18/2010', '9/23/2010',\n",
       "       '10/13/2010', '11/8/2010', '8/25/2010', '8/3/2010', '9/29/2010',\n",
       "       '2/11/2011', '2/14/2011', '2/21/2011', '5/4/2011', '3/1/2011',\n",
       "       '1/24/2011', '9/2/2011', '5/18/2011', '8/25/2011', '7/26/2011',\n",
       "       '12/12/2011', '8/22/2011', '2/3/2011', '11/21/2011', '11/6/2011',\n",
       "       '10/27/2011', '2/10/2012', '10/4/2011', '6/6/2012', '2/20/2012',\n",
       "       '9/27/2011', '3/16/2012', '4/26/2011', '5/9/2012', '3/8/2012',\n",
       "       '6/28/2012', '4/19/2012', '4/27/2012', '8/17/2012', '1/2/2012',\n",
       "       '9/6/2012', '5/23/2012', '7/18/2012', '5/15/2012', '8/30/2012',\n",
       "       '9/11/2012', '8/9/2012', '11/1/2012', '10/25/2012', '1/28/2013',\n",
       "       '3/19/2013', '11/6/2012', '11/12/2012', '12/30/2012', '4/22/2013',\n",
       "       '5/8/2013', '4/2/2013', '7/4/2013', '8/2/2013', '6/28/2013',\n",
       "       '12/17/2013', '1/15/2014', '10/21/2013', '1/16/2014', '9/10/2013',\n",
       "       '10/1/2013', '5/7/2014', '11/19/2013', '2/2/2014', '4/25/2014',\n",
       "       '4/16/2014', '12/24/2013', '6/5/2014', '5/23/2014', '1/17/2014',\n",
       "       '7/2/2014', '12/9/2013', '1/29/2014', '4/2/2014', '7/14/2014',\n",
       "       '6/4/2014', '11/19/2014', '12/22/2014', '11/3/2014', '8/12/2014',\n",
       "       '7/11/2014', '3/31/2015', '9/25/2009', '6/3/2009', '6/28/2010',\n",
       "       '8/6/2010', '8/16/2010', '9/24/2010', '7/2/2010', '8/20/2010',\n",
       "       '12/7/2010', '1/7/2011', '5/15/2011', '10/4/2010', '5/11/2011',\n",
       "       '8/12/2011', '12/20/2011', '4/4/2012', '4/9/2012', '4/2/2012',\n",
       "       '6/18/2012', '6/26/2012', '12/21/2011', '7/24/2012', '10/30/2012',\n",
       "       '11/20/2012', '3/4/2013', '6/11/2013', '6/24/2013', '2/28/2013',\n",
       "       '8/6/2013', '10/9/2013', '3/5/2014', '7/18/2014', '4/24/2014',\n",
       "       '8/21/2014', '9/19/2014', '5/14/2015', '5/27/2015', '8/17/2009',\n",
       "       '11/26/2009', '1/27/2010', '3/4/2010', '3/29/2010', '4/7/2010',\n",
       "       '4/6/2010', '5/2/2010', '9/16/2010', '9/1/2010', '3/7/2011',\n",
       "       '10/15/2010', '6/13/2011', '9/11/2011', '10/31/2011', '1/30/2012',\n",
       "       '1/31/2012', '8/13/2012', '5/2/2012', '2/15/2012', '1/23/2013',\n",
       "       '3/6/2013', '8/31/2012', '1/24/2014', '3/4/2014', '10/16/2014',\n",
       "       '4/15/2015', '6/29/2015', '4/7/2015', '12/3/2009', '2/23/2010',\n",
       "       '7/26/2010', '9/22/2010', '4/26/2012', '3/26/2013', '11/28/2012',\n",
       "       '11/22/2013', '12/18/2013', '2/7/2014', '1/14/2010', '12/22/2010',\n",
       "       '3/22/2011', '7/4/2011', '3/28/2012', '2/27/2013', '6/20/2013',\n",
       "       '10/10/2013', '8/30/2013', '11/25/2014', '4/16/2015', '9/10/2010',\n",
       "       '6/17/2011', '11/1/2011', '1/16/2012', '3/16/2013', '2/26/2015',\n",
       "       '2/12/2010', '12/3/2013', '12/19/2014', '8/2/2011', '2/2/2012',\n",
       "       '8/29/2013'], dtype=object)"
      ]
     },
     "metadata": {},
     "output_type": "display_data"
    },
    {
     "data": {
      "text/plain": [
       "765"
      ]
     },
     "metadata": {},
     "output_type": "display_data"
    },
    {
     "data": {
      "text/plain": [
       "'POSenttoVendorDate'"
      ]
     },
     "metadata": {},
     "output_type": "display_data"
    },
    {
     "data": {
      "text/plain": [
       "array(['Date Not Captured', '11/13/2006', '12/1/2006', '12/22/2006',\n",
       "       '1/10/2007', '8/15/2012', '4/12/2007', '5/13/2007', '5/17/2007',\n",
       "       '7/13/2007', '7/4/2007', '7/26/2007', '10/3/2007', '8/28/2007',\n",
       "       '11/12/2007', '11/19/2007', '11/21/2007', '12/10/2007', '1/4/2008',\n",
       "       '2/27/2008', '3/3/2008', '2/28/2008', '2/29/2008', '3/17/2008',\n",
       "       '3/13/2008', '3/18/2008', '3/31/2008', '2/20/2008', '4/4/2008',\n",
       "       '5/14/2008', '5/15/2008', '5/20/2008', '5/23/2008', '7/1/2008',\n",
       "       '7/2/2008', '7/3/2008', '7/24/2008', '7/25/2008', '7/31/2008',\n",
       "       '8/26/2008', '8/27/2008', '9/3/2008', '3/6/2009', '9/24/2008',\n",
       "       '10/2/2008', '12/5/2007', '11/19/2008', '12/19/2008', '1/5/2009',\n",
       "       '1/16/2009', '10/21/2008', '2/5/2009', '2/18/2009', '3/4/2009',\n",
       "       '3/18/2009', '6/15/2009', '3/27/2009', '3/25/2009', '3/30/2009',\n",
       "       '4/2/2009', '4/4/2009', '4/9/2009', '4/15/2009', '4/29/2009',\n",
       "       '5/27/2009', '5/18/2009', '6/2/2009', '6/5/2009', '4/19/2006',\n",
       "       '11/15/2006', '11/17/2006', '1/9/2007', '12/14/2006', '2/7/2007',\n",
       "       '5/9/2007', '7/3/2007', '11/30/2007', '12/3/2007', '2/4/2008',\n",
       "       '1/29/2008', '2/19/2008', '2/25/2008', '6/12/2008', '4/7/2008',\n",
       "       '5/13/2008', '6/13/2008', '8/21/2008', '7/18/2008', '7/28/2008',\n",
       "       '7/30/2008', '8/22/2008', '10/27/2008', '10/28/2008', '11/3/2008',\n",
       "       '11/20/2008', '12/23/2008', '1/13/2009', '2/3/2009', '3/11/2009',\n",
       "       '3/19/2009', '3/31/2009', '4/1/2009', '4/7/2009', '4/27/2009',\n",
       "       '5/8/2009', '6/6/2009', '7/15/2009', '11/14/2006', '3/8/2007',\n",
       "       '5/1/2007', '6/8/2007', '6/21/2007', '7/20/2007', '8/15/2007',\n",
       "       '7/31/2007', '11/16/2007', '1/3/2008', '1/24/2008', '1/21/2008',\n",
       "       '3/11/2008', '4/28/2008', '6/20/2008', '8/29/2008', '9/18/2008',\n",
       "       '9/17/2008', '10/14/2008', '10/17/2008', '11/14/2008',\n",
       "       '12/10/2008', '12/11/2008', '3/13/2009', '5/14/2009', '4/20/2009',\n",
       "       '4/24/2009', '12/28/2006', '12/29/2006', '4/4/2007', '7/25/2007',\n",
       "       '7/11/2007', '9/18/2007', '12/6/2007', '2/15/2008', '2/26/2008',\n",
       "       '8/20/2008', '9/19/2008', '11/4/2008', '11/24/2008', '12/30/2008',\n",
       "       '12/12/2008', '1/27/2009', '2/6/2009', '4/10/2009', '5/28/2009',\n",
       "       '6/4/2009', '11/29/2006', '1/19/2007', '1/25/2007', '4/2/2007',\n",
       "       '7/6/2007', '10/18/2007', '11/22/2007', '2/6/2008', '3/14/2008',\n",
       "       '4/10/2008', '7/4/2008', '7/15/2008', '7/23/2008', '8/28/2008',\n",
       "       '10/22/2008', '1/14/2009', '4/30/2009', '5/25/2009', '12/2/2006',\n",
       "       '12/5/2006', '5/7/2007', '5/30/2007', '7/17/2007', '8/27/2007',\n",
       "       '10/2/2007', '1/7/2008', '3/21/2008', '6/2/2008', '2/24/2009',\n",
       "       '3/9/2009', '5/11/2009', '3/1/2007', '4/30/2007', '9/28/2007',\n",
       "       '11/27/2007', '12/20/2007', '1/5/2008', '8/5/2008', '9/23/2008',\n",
       "       '10/24/2008', '12/2/2008', '7/13/2009', '6/6/2007', '10/23/2007',\n",
       "       '1/8/2008', 'N/A - From RDC', '6/10/2008', '8/6/2008', '6/30/2008',\n",
       "       '8/15/2008', '10/10/2008', '10/30/2008', '1/26/2009', '4/6/2009',\n",
       "       '5/4/2009', '5/26/2009', '6/1/2009', '10/5/2009', '12/2/2009',\n",
       "       '5/15/2013', '9/19/2014', '2/24/2012', '4/1/2013', '11/7/2014',\n",
       "       '3/14/2013', '4/9/2012', '12/29/2011', '3/10/2014', '3/24/2011',\n",
       "       '5/11/2015', '5/8/2014', '5/10/2013', '4/30/2014', '8/27/2014',\n",
       "       '10/16/2012', '6/23/2014', '8/24/2011', '3/19/2010', '7/9/2009',\n",
       "       '2/17/2015', '8/14/2009', '9/29/2010', '1/17/2012', '10/31/2012',\n",
       "       '9/24/2009', '1/26/2015', '11/14/2014', '7/31/2014', '9/7/2011',\n",
       "       '8/8/2014', '3/9/2015', '7/1/2014', '7/13/2011', '4/17/2012',\n",
       "       '3/17/2015', '6/29/2009', '8/3/2011', '12/17/2013', '1/28/2014',\n",
       "       '3/22/2013', '7/7/2009', '6/15/2012', '8/11/2014', '8/29/2014',\n",
       "       '8/31/2009', '5/19/2014', '11/13/2009', '10/9/2014', '11/12/2014',\n",
       "       '7/3/2013', '10/26/2011', '11/28/2014', '8/6/2013', '10/8/2013',\n",
       "       '6/4/2014', '2/6/2013', '5/21/2013', '10/15/2009', '2/3/2010',\n",
       "       '5/29/2013', '8/6/2014', '7/18/2011', '5/16/2014', '5/27/2011',\n",
       "       '12/2/2013', '9/30/2011', '2/20/2015', '11/26/2013', '10/30/2013',\n",
       "       '2/5/2013', '1/13/2010', '8/9/2012', '4/29/2014', '8/14/2012',\n",
       "       '5/23/2011', '10/3/2014', '10/28/2013', '3/28/2011', '9/21/2010',\n",
       "       '12/7/2010', '11/4/2014', '11/2/2011', '12/23/2009', '7/14/2015',\n",
       "       '11/19/2010', '4/1/2011', '5/5/2011', '8/13/2012', '3/11/2013',\n",
       "       '3/7/2013', '8/20/2014', '6/2/2010', '8/2/2010', '4/28/2014',\n",
       "       '9/24/2010', '2/28/2014', '4/3/2014', '1/3/2013', '11/7/2012',\n",
       "       '6/16/2010', '5/7/2015', '12/12/2014', '8/25/2010', '5/25/2010',\n",
       "       '4/5/2012', '7/21/2009', '5/3/2012', '9/28/2010', '7/26/2012',\n",
       "       '5/20/2014', '5/22/2013', '2/15/2011', '6/17/2010', '10/1/2010',\n",
       "       '6/2/2014', '3/31/2011', '11/9/2012', '4/11/2013', '11/4/2013',\n",
       "       '9/27/2010', '1/7/2015', '12/12/2012', '7/30/2014', '8/12/2011',\n",
       "       '5/1/2015', '8/23/2013', '12/29/2009', '5/31/2012', '6/15/2011',\n",
       "       '3/4/2015', '10/4/2011', '10/18/2012', '6/25/2015', '12/13/2011',\n",
       "       '11/11/2009', '12/22/2009', '4/29/2010', '12/14/2010', '7/16/2013',\n",
       "       '10/5/2011', '10/10/2013', '12/30/2011', '12/24/2014', '2/1/2011',\n",
       "       '8/4/2011', '8/5/2014', '5/2/2011', '6/18/2014', '6/14/2012',\n",
       "       '1/23/2012', '7/16/2009', '12/27/2013', '2/3/2014', '3/14/2012',\n",
       "       '10/21/2013', '2/3/2011', '5/27/2010', '7/10/2013', '6/12/2012',\n",
       "       '1/22/2013', '1/2/2013', '1/12/2010', '12/4/2013', '6/26/2014',\n",
       "       '4/16/2012', '12/10/2014', '7/30/2013', '6/24/2010', '3/21/2012',\n",
       "       '11/23/2009', '7/22/2013', '4/28/2011', '11/3/2009', '4/21/2011',\n",
       "       '4/14/2011', '4/21/2010', '8/12/2013', '1/29/2010', '9/2/2013',\n",
       "       '5/6/2014', '11/6/2012', '10/18/2010', '7/31/2012', '2/12/2015',\n",
       "       '8/13/2014', '8/7/2009', '8/28/2014', '10/10/2012', '6/19/2014',\n",
       "       '10/16/2014', '5/30/2014', '11/5/2009', '12/6/2010', '6/2/2015',\n",
       "       '4/18/2014', '5/23/2014', '10/3/2011', '8/23/2010', '10/30/2014',\n",
       "       '5/26/2014', '1/25/2011', '9/17/2013', '12/2/2010', '5/23/2013',\n",
       "       '4/23/2010', '3/6/2013', '3/9/2012', '3/30/2011', '5/14/2013',\n",
       "       '12/14/2009', '8/1/2011', '3/16/2015', '8/3/2009', '10/22/2013',\n",
       "       '5/13/2009', '9/14/2011', '1/28/2010', '8/21/2012', '8/4/2014',\n",
       "       '2/26/2014', '3/13/2015', '2/17/2012', '11/11/2010', '11/19/2014',\n",
       "       '3/28/2013', '5/5/2010', '5/7/2012', '3/31/2010', '12/8/2014',\n",
       "       '8/9/2013', '7/1/2010', '11/5/2014', '6/27/2014', '10/29/2014',\n",
       "       '9/30/2009', '6/30/2014', '5/17/2013', '9/12/2012', '8/12/2009',\n",
       "       '6/11/2012', '7/3/2012', '6/7/2010', '3/19/2015', '12/4/2014',\n",
       "       '4/23/2014', '11/10/2010', '10/14/2010', '2/2/2011', '4/28/2015',\n",
       "       '2/13/2013', '5/28/2014', '11/19/2013', '1/21/2011', '8/2/2013',\n",
       "       '9/3/2009', '6/28/2012', '11/16/2011', '12/9/2010', '6/28/2010',\n",
       "       '8/24/2009', '5/19/2011', '3/27/2014', '6/11/2013', '10/7/2010',\n",
       "       '11/24/2014', '9/10/2013', '6/25/2014', '7/31/2013', '7/9/2012',\n",
       "       '7/18/2012', '3/31/2014', '1/30/2014', '5/21/2014', '10/27/2010',\n",
       "       '3/25/2010', '6/13/2013', '8/11/2015', '9/22/2009', '1/15/2013',\n",
       "       '8/10/2012', '6/26/2009', '8/5/2009', '5/5/2014', '10/23/2013',\n",
       "       '12/18/2012', '12/18/2014', '1/30/2015', '8/14/2014', '11/2/2009',\n",
       "       '10/11/2011', '2/26/2013', '11/9/2011', '3/25/2011', '7/18/2014',\n",
       "       '3/2/2015', '1/20/2010', '5/2/2012', '3/23/2011', '3/8/2012',\n",
       "       '8/27/2013', '2/9/2011', '7/11/2014', '1/19/2015', '12/9/2011',\n",
       "       '10/16/2013', '1/12/2011', '2/10/2014', '7/8/2011', '9/14/2009',\n",
       "       '3/29/2010', '8/24/2015', '9/11/2013', '1/19/2012', '2/19/2014',\n",
       "       '7/14/2009', '2/6/2012', '11/18/2011', '9/2/2010', '9/11/2009',\n",
       "       '8/18/2009', '11/28/2013', '5/18/2015', '11/22/2010', '6/1/2012',\n",
       "       '2/12/2014', '3/24/2010', '1/20/2015', '7/17/2009', '10/25/2012',\n",
       "       '8/29/2011', '6/21/2010', '2/12/2010', '2/11/2013', '1/24/2012',\n",
       "       '3/5/2010', '10/6/2009', '12/8/2009', '7/9/2014', '11/24/2010',\n",
       "       '11/9/2009', '5/13/2015', '7/16/2012', '2/27/2015', '5/29/2015',\n",
       "       '4/11/2014', '2/9/2010', '8/30/2011', '5/15/2012', '12/22/2010',\n",
       "       '9/13/2013', '7/25/2013', '9/17/2010', '9/19/2011', '2/27/2013',\n",
       "       '7/20/2011', '5/1/2012', '1/22/2014', '6/21/2011', '4/4/2012',\n",
       "       '8/2/2012', '5/26/2015', '1/25/2010', '10/12/2012', '4/14/2014',\n",
       "       '2/4/2013', '11/1/2013', '1/9/2012', '12/15/2014', '7/17/2015',\n",
       "       '11/21/2012', '6/20/2012', '12/16/2014', '7/8/2014', '3/27/2012',\n",
       "       '12/18/2009', '5/12/2011', '3/20/2014', '1/28/2015', '2/10/2010',\n",
       "       '7/30/2012', '1/5/2010', '2/14/2013', '2/1/2012', '5/22/2015',\n",
       "       '10/23/2009', '2/8/2011', '12/10/2009', '3/19/2012', '12/1/2010',\n",
       "       '7/20/2010', '6/8/2012', '7/24/2013', '8/28/2011', '12/19/2013',\n",
       "       '6/17/2011', '11/24/2009', '12/31/2014', '6/1/2010', '12/6/2012',\n",
       "       '5/9/2013', '11/9/2010', '6/28/2013', '1/11/2013', '6/30/2010',\n",
       "       '7/4/2012', '6/13/2012', '6/8/2010', '10/5/2012', '9/22/2011',\n",
       "       '1/16/2012', '4/25/2013', '3/2/2011', '11/17/2014', '8/19/2013',\n",
       "       '2/5/2010', '4/24/2014', '5/27/2015', '8/19/2014', '7/7/2011',\n",
       "       '3/30/2010', '6/12/2013', '1/7/2011', '4/4/2011', '5/27/2014',\n",
       "       '9/10/2010', '11/6/2013', '11/4/2010', '8/13/2013', '2/12/2013',\n",
       "       '4/20/2012', '9/19/2013', '12/9/2013', '3/3/2014', '1/7/2010',\n",
       "       '2/15/2013', '3/21/2014', '8/3/2012', '8/4/2015', '8/25/2014',\n",
       "       '7/11/2012', '5/15/2014', '10/31/2013', '4/15/2014', '11/6/2009',\n",
       "       '11/25/2014', '11/21/2013', '3/19/2014', '10/29/2009', '3/11/2011',\n",
       "       '4/2/2015', '8/10/2010', '1/12/2012', '11/22/2013', '1/18/2012',\n",
       "       '10/31/2011', '8/19/2009', '5/13/2013', '1/23/2013', '2/23/2015',\n",
       "       '1/17/2013', '6/21/2012', '4/10/2014', '3/17/2013', '7/30/2010',\n",
       "       '1/11/2010', '10/17/2012', '7/12/2012', '7/28/2015', '1/5/2012',\n",
       "       '11/25/2009', '6/13/2011', '10/24/2013', '1/29/2015', '7/22/2010',\n",
       "       '9/24/2012', '1/28/2011', '8/15/2013', '5/8/2013', '2/25/2011',\n",
       "       '4/23/2012', '4/26/2010', '4/20/2011', '5/12/2015', '2/15/2012',\n",
       "       '7/10/2014', '1/27/2012', '2/24/2015', '1/8/2010', '5/9/2014',\n",
       "       '5/4/2011', '10/18/2013', '12/7/2012', '10/6/2010', '10/13/2009',\n",
       "       '11/17/2009', '3/12/2010', '7/25/2012', '11/13/2013', '8/26/2014',\n",
       "       '6/6/2012', '7/4/2014', '5/18/2011', '2/9/2015', '8/5/2013',\n",
       "       '9/5/2012', '6/10/2013', '4/22/2015', '10/15/2010', '2/4/2014',\n",
       "       '1/15/2010', '7/2/2012', '9/9/2011', '1/6/2012', '9/16/2010',\n",
       "       '7/27/2011', '3/18/2010', '9/4/2014', '3/12/2015', '10/22/2014',\n",
       "       '10/21/2011', '9/4/2013', '1/8/2014', '2/28/2011', '4/18/2011',\n",
       "       '1/14/2010', '6/5/2012', '9/23/2010', '11/12/2013', '10/25/2013',\n",
       "       '7/31/2009', '4/20/2015', '1/25/2012', '11/18/2014', '4/29/2011',\n",
       "       '8/19/2010', '10/4/2012', '10/7/2013', '8/22/2012', '9/10/2009',\n",
       "       '7/10/2015', '4/19/2013', '2/1/2013', '7/28/2014', '7/25/2009',\n",
       "       '8/27/2010', '2/3/2012', '7/7/2015', '3/22/2012', '11/18/2010',\n",
       "       '2/17/2010', '6/26/2012', '12/13/2013', '5/1/2014', '3/8/2013',\n",
       "       '6/22/2011', '2/14/2014', '4/3/2012', '12/17/2014', '5/7/2014',\n",
       "       '9/7/2012', '2/8/2013', '11/11/2011', '9/25/2009', '12/5/2012',\n",
       "       '5/1/2013', '1/16/2014', '2/7/2013', '11/19/2009', '1/21/2010',\n",
       "       '8/15/2011', '6/23/2010', '5/8/2015', '4/15/2010', '3/13/2012',\n",
       "       '10/22/2009', '6/14/2013', '8/18/2011', '9/25/2014', '10/15/2013',\n",
       "       '7/14/2011', '9/9/2013', '4/2/2014', '1/13/2012', '7/27/2012',\n",
       "       '11/1/2010', '3/5/2014', '8/4/2010', '10/10/2011', '8/22/2013',\n",
       "       '9/1/2009', '7/28/2011', '4/19/2012', '7/25/2014', '11/5/2012',\n",
       "       '5/12/2014', '6/23/2009', '2/19/2015', '2/5/2014', '6/24/2013',\n",
       "       '11/29/2011', '6/20/2014', '9/15/2011', '9/29/2009', '1/24/2013',\n",
       "       '9/7/2010', '2/11/2014', '2/6/2015', '4/24/2012', '1/14/2015',\n",
       "       '8/21/2009', '11/15/2014', '12/19/2014', '7/17/2012', '8/7/2013',\n",
       "       '3/28/2012', '6/16/2015', '9/6/2012', '4/17/2015', '7/2/2009',\n",
       "       '7/6/2011', '1/16/2015', '2/22/2013', '5/28/2013', '2/23/2012',\n",
       "       '7/21/2010', '3/14/2014', '3/26/2013', '5/30/2011', '6/4/2013',\n",
       "       '9/21/2011', '11/2/2010', '3/7/2014', '11/1/2011', '2/4/2010',\n",
       "       '1/22/2010', '9/12/2014', '6/9/2014', '2/2/2010', '11/26/2009',\n",
       "       '7/1/2013', '5/18/2012', '3/9/2011', '1/30/2012', '6/27/2012',\n",
       "       '8/11/2009', '2/27/2014', '3/4/2010', '10/23/2014', '9/18/2014',\n",
       "       '1/5/2011', '12/16/2013', '6/7/2013', '3/1/2013', '5/31/2011',\n",
       "       '12/26/2012', '10/22/2012', '11/17/2010', '4/17/2013', '4/24/2015',\n",
       "       '5/29/2014', '10/14/2013', '5/4/2012', '9/16/2013', '6/14/2011',\n",
       "       '1/6/2011', '3/26/2010', '10/7/2009', '9/25/2013', '2/25/2013',\n",
       "       '4/22/2010', '6/16/2011', '1/31/2012', '3/7/2010', '10/8/2012',\n",
       "       '6/3/2014', '8/11/2010', '5/26/2011', '10/13/2011', '2/20/2013',\n",
       "       '9/26/2012', '12/3/2013', '3/9/2010', '8/29/2012'], dtype=object)"
      ]
     },
     "metadata": {},
     "output_type": "display_data"
    },
    {
     "data": {
      "text/plain": [
       "897"
      ]
     },
     "metadata": {},
     "output_type": "display_data"
    },
    {
     "data": {
      "text/plain": [
       "'ScheduledDeliveryDate'"
      ]
     },
     "metadata": {},
     "output_type": "display_data"
    },
    {
     "data": {
      "text/plain": [
       "array(['2-Jun-06', '14-Nov-06', '27-Aug-06', ..., '27-Oct-13',\n",
       "       '29-Jan-14', '9-Sep-15'], dtype=object)"
      ]
     },
     "metadata": {},
     "output_type": "display_data"
    },
    {
     "data": {
      "text/plain": [
       "2006"
      ]
     },
     "metadata": {},
     "output_type": "display_data"
    },
    {
     "data": {
      "text/plain": [
       "'DeliveredtoClientDate'"
      ]
     },
     "metadata": {},
     "output_type": "display_data"
    },
    {
     "data": {
      "text/plain": [
       "array(['2-Jun-06', '14-Nov-06', '27-Aug-06', ..., '15-Feb-14',\n",
       "       '28-May-14', '16-Apr-15'], dtype=object)"
      ]
     },
     "metadata": {},
     "output_type": "display_data"
    },
    {
     "data": {
      "text/plain": [
       "2093"
      ]
     },
     "metadata": {},
     "output_type": "display_data"
    },
    {
     "data": {
      "text/plain": [
       "'DeliveryRecordedDate'"
      ]
     },
     "metadata": {},
     "output_type": "display_data"
    },
    {
     "data": {
      "text/plain": [
       "array(['2-Jun-06', '14-Nov-06', '27-Aug-06', ..., '29-Mar-13', '7-Dec-13',\n",
       "       '8-May-15'], dtype=object)"
      ]
     },
     "metadata": {},
     "output_type": "display_data"
    },
    {
     "data": {
      "text/plain": [
       "2042"
      ]
     },
     "metadata": {},
     "output_type": "display_data"
    },
    {
     "data": {
      "text/plain": [
       "'ProductGroup'"
      ]
     },
     "metadata": {},
     "output_type": "display_data"
    },
    {
     "data": {
      "text/plain": [
       "array(['HRDT', 'ARV', 'ACT', 'MRDT', 'ANTM'], dtype=object)"
      ]
     },
     "metadata": {},
     "output_type": "display_data"
    },
    {
     "data": {
      "text/plain": [
       "5"
      ]
     },
     "metadata": {},
     "output_type": "display_data"
    },
    {
     "data": {
      "text/plain": [
       "'SubClassification'"
      ]
     },
     "metadata": {},
     "output_type": "display_data"
    },
    {
     "data": {
      "text/plain": [
       "array(['HIV test', 'Pediatric', 'Adult', 'HIV test - Ancillary', 'ACT',\n",
       "       'Malaria'], dtype=object)"
      ]
     },
     "metadata": {},
     "output_type": "display_data"
    },
    {
     "data": {
      "text/plain": [
       "6"
      ]
     },
     "metadata": {},
     "output_type": "display_data"
    },
    {
     "data": {
      "text/plain": [
       "'Vendor'"
      ]
     },
     "metadata": {},
     "output_type": "display_data"
    },
    {
     "data": {
      "text/plain": [
       "array(['RANBAXY Fine Chemicals LTD.', 'Aurobindo Pharma Limited',\n",
       "       'Abbott GmbH & Co. KG',\n",
       "       'SUN PHARMACEUTICAL INDUSTRIES LTD (RANBAXY LABORATORIES LIMITED)',\n",
       "       'MERCK SHARP & DOHME IDEA GMBH (FORMALLY MERCK SHARP & DOHME B.V.)',\n",
       "       'ABBVIE LOGISTICS (FORMERLY ABBOTT LOGISTICS BV)',\n",
       "       'Trinity Biotech, Plc', 'EY Laboratories', 'CIPLA LIMITED',\n",
       "       'BRISTOL-MYERS SQUIBB', 'ACCOUN NIGERIA LIMITED',\n",
       "       'Premier Medical Corporation Ltd.',\n",
       "       'CHEMBIO DIAGNOSTIC SYSTEMS, INC.', 'Orgenics, Ltd',\n",
       "       'Orasure Technologies Inc.', 'Standard Diagnostics, Inc.',\n",
       "       'JSI R&T INSTITUTE, INC.', 'GILEAD SCIENCES IRELAND, INC.',\n",
       "       'BIO-RAD LABORATORIES (FRANCE)',\n",
       "       'TURE PHARMACEUTICALS & MEDICAL SUPPLIES P.L.C.',\n",
       "       'MYLAN LABORATORIES LTD (FORMERLY MATRIX LABORATORIES)',\n",
       "       'S. BUYS WHOLESALER', 'IDA FOUNDATION', 'ZEPHYR BIOMEDICALS',\n",
       "       'HETERO LABS LIMITED', 'INTERNATIONAL HEALTHCARE DISTRIBUTORS',\n",
       "       'STRIDES ARCOLAB LIMITED', 'ASPEN PHARMACARE',\n",
       "       'SHANGHAI KEHUA BIOENGINEERING CO.,LTD.  (KHB)',\n",
       "       'BIOLYTICAL LABORATORIES INC.',\n",
       "       'INVERNESS MEDICAL INNOVATIONS SOUTH AFRICA (PTY) LTD',\n",
       "       'ABBOTT LABORATORIES (PUERTO RICO)',\n",
       "       'SUB-SAHARAN BIOMEDICAL P.L.C.', 'SETEMA LIMITED PLC',\n",
       "       'GLAXOSMITHKLINE EXPORT LIMITED', 'OMEGA DIAGNOSTICS LTD',\n",
       "       'Hoffmann-La Roche ltd Basel', 'REINBOLD EXPORT IMPORT',\n",
       "       'BUNDI INTERNATIONAL DIAGNOSTICS LTD', 'MISSIONPHARMA A/S',\n",
       "       'PLURIPHARM S.A.', 'CENTRAL PHARMACEUTICAL COMPANY NO. 1',\n",
       "       'SCMS from RDC', 'AHN (PTY) LTD (AKA UCB (S.A.)',\n",
       "       'KAS MEDICS LIMITED', 'PHARMACY DIRECT',\n",
       "       'ABBVIE, SRL (FORMALLY ABBOTT LABORATORIES INTERNATIONAL CO.)',\n",
       "       'EMCURE PHARMACEUTICALS LTD', 'MICRO LABS LIMITED',\n",
       "       'NOVARTIS PHARMA SERVICES AG', 'SWORDS LABORATORIES',\n",
       "       'IDIS LIMITED', 'AMSTELFARMA B.V.',\n",
       "       'LAWRENCE LABORATORIES (SUBSIDIARY OF BRISTOL MYERS SQUIBB)',\n",
       "       'JANSSEN SCIENCES IRELAND UC (FORMERLY JANSSEN R&D IRELAND)',\n",
       "       'INVERNESS MEDICAL INNOVATIONS HONG KONG LTD', 'WAGENIA',\n",
       "       'BIO-RAD LABORATORIES PTY LTD. (SOUTH AFRICA)',\n",
       "       'ETHNOR DEL ISTMO S.A.', 'PUETRO RICO PHARMACEUTICAL, INC.',\n",
       "       'MSD LATIN AMERICA SERVICES, S. DE R.L. DE C.V.',\n",
       "       'ACOUNS NIGERIA LTD', 'IMRES B.V.', 'THE MEDICAL EXPORT GROUP BV',\n",
       "       'ACTION MEDEOR E.V.', 'RAININ INSTRUMENT, LLC.',\n",
       "       'ACCESS BIO, INC.', 'HUMAN GMBH', 'B&C GROUP S.A.',\n",
       "       'SYSMEX AMERICA INC', 'MEDMIRA EAST AFRICA LTD.',\n",
       "       'ABBOTT LOGISTICS B.V.', 'AUROBINDO PHARAM (SOUTH AFRICA)'],\n",
       "      dtype=object)"
      ]
     },
     "metadata": {},
     "output_type": "display_data"
    },
    {
     "data": {
      "text/plain": [
       "73"
      ]
     },
     "metadata": {},
     "output_type": "display_data"
    },
    {
     "data": {
      "text/plain": [
       "'ItemDescription'"
      ]
     },
     "metadata": {},
     "output_type": "display_data"
    },
    {
     "data": {
      "text/plain": [
       "array(['HIV, Reveal G3 Rapid HIV-1 Antibody Test, 30 Tests',\n",
       "       'Nevirapine 10mg/ml, oral suspension, Bottle, 240 ml',\n",
       "       'HIV 1/2, Determine Complete HIV Kit, 100 Tests',\n",
       "       'Lamivudine 150mg, tablets, 60 Tabs',\n",
       "       'Stavudine 30mg, capsules, 60 Caps',\n",
       "       'Zidovudine 10mg/ml, oral solution, Bottle, 240 ml',\n",
       "       'Efavirenz 200mg [Stocrin/Sustiva], capsule, 90 Caps',\n",
       "       'Nevirapine 200mg, tablets, 60 Tabs',\n",
       "       'Lopinavir/Ritonavir 200/50mg [Aluvia], tablets, 120 Tabs',\n",
       "       'HIV 1/2, Uni-Gold HIV Kit, 20 Tests',\n",
       "       'HIV 1/2, InstantChek HIV 1+2 Kit, 100 Tests',\n",
       "       'Lamivudine/Zidovudine 150/300mg, tablets, 60 Tabs',\n",
       "       '#102198**Didanosine 200mg [Videx], tablets, 60 Tabs',\n",
       "       'HIV 1/2/O, First Response HIV 1-2.0, v.3.0 Cards Kit, 30 Tests',\n",
       "       'Zidovudine 300mg, tablets, 60 Tabs',\n",
       "       'Didanosine 2g [Videx], powder for oral solution 10mg/ml, reconstitute to 200 ml',\n",
       "       'HIV 1/2, Stat-Pak HIV, Kit, 20 Tests',\n",
       "       'HIV 1/2, Determine HIV Kit, without Lancets, 100 Tests',\n",
       "       'HIV 1/2, OraQuick Advance HIV Rapid Antibody Kit, 100 Tests',\n",
       "       'HIV 1/2, Bioline 3.0 Kit, Lancets, Capillary pipets, Alcohol swabs included, 25 Tests',\n",
       "       'Zidovudine 10mg/ml [Retrovir], oral solution, Bottle, 200 ml',\n",
       "       'Tenofovir Disoproxil Fumarate 300mg [Viread], tablets, 30 Tabs',\n",
       "       'HIV, Lancet, Safety, for HIV Test kits, 100 Pcs',\n",
       "       'Stavudine 1mg/ml [Zerit], powder for oral solution, Bottle, 200 ml',\n",
       "       'HIV 1/2, Capillus HIV Kit, 100 Tests',\n",
       "       '#108853** HIV, Genie II HIV-1/HIV-2 Kit, 40 Tests',\n",
       "       'Efavirenz 600mg, tablets, 30 Tabs',\n",
       "       'Saquinavir 200mg [Invirase], capsules, 270 Caps',\n",
       "       'Didanosine 25mg [Videx], chewable tablets, 60 Tabs',\n",
       "       'Tenofovir Disoproxil Fumarate 300mg, tablets, 30 Tabs',\n",
       "       'Stavudine 20mg [Zerit], capsules, 60 Caps',\n",
       "       'Didanosine EC 250mg [Videx EC], delayed-release capsules, Blister 3 x 10 Caps',\n",
       "       'Didanosine EC 400mg [Videx EC], delayed-release capsules, Blister 3 x 10 Caps',\n",
       "       'Abacavir 300mg [Ziagen], tablets, Blister 6 x 10 Tabs',\n",
       "       'Artemether/Lumefantrine 20/120mg [Coartem], scored tablets, Blister 30 x 18 Tabs',\n",
       "       'Nevirapine 10mg/ml [Viramune], oral suspension, Bottle, 240 ml',\n",
       "       'Malaria Paramax-3 Kit, 25 Tests',\n",
       "       'Artesunate+Amodiaquine 50+153mg, tablets, co-blister 6+6 Tabs',\n",
       "       'Efavirenz/Emtricitabine/Tenofovir Disoproxil Fumarate 600/200/300mg [Atripla], tablets, 30 Tabs',\n",
       "       '#109436**HIV 1, Uni-Gold Recombigen HIV Control, Vial 2 x 0.5 ml',\n",
       "       'Didanosine 100mg [Videx],chewable tablets, 60 Tabs',\n",
       "       'Stavudine 15mg, capsules, 60 Caps',\n",
       "       'Lopinavir/Ritonavir 80/20mg/ml [Kaletra], oral solution, cool, Bottle 5 x 60 ml',\n",
       "       'Quinine 600mg/2ml (as dihydrochloride), injection, 2ml x 100 Ampules',\n",
       "       'Lamivudine/Nevirapine/Stavudine 150/200/30mg, tablets, 60 Tabs',\n",
       "       'Lopinavir/Ritonavir 100/25mg [Aluvia], tablets, 60 Tabs',\n",
       "       'Didanosine 50mg [Videx], chewable tablets, 60 Tabs',\n",
       "       'Lamivudine 10mg/ml [Epivir], oral solution, Bottle, 240 ml',\n",
       "       'Lamivudine 10mg/ml, oral solution, Bottle, 240 ml',\n",
       "       'Efavirenz 50mg, capsule, 30 Caps',\n",
       "       'Stavudine 15mg [Zerit], capsules, 60 Caps',\n",
       "       'Zidovudine 300mg [Retrovir], tablets, 60 Tabs',\n",
       "       'Ritonavir 100mg [Norvir], capsules, cool, 4 x 84 Caps',\n",
       "       'Emtricitabine/Tenofovir Disoproxil Fumarate 200/300mg [Truvada], tablets, 30 Tabs',\n",
       "       'Lamivudine/Nevirapine/Zidovudine 150/200/300mg, tablets, 60 Tabs',\n",
       "       'HIV 1/2, Clearview Complete Kit, 25 Tests',\n",
       "       'Ritonavir 100mg [Norvir], capsules, cool, 84 Caps',\n",
       "       'Lopinavir/Ritonavir 133.3/33.3mg [Kaletra], capsules, cool, 2 x 90 Caps',\n",
       "       'Abacavir 300mg, tablets, 60 Tabs',\n",
       "       'Stavudine 20mg, capsules, 60 Caps',\n",
       "       'Ritonavir 80mg/ml [Norvir], oral solution, cool, Bottle, 90 ml',\n",
       "       'Lamivudine 150mg [Epivir], tablets, 60 Tabs',\n",
       "       'Efavirenz 50mg [Stocrin/Sustiva], capsule, 30 Caps',\n",
       "       'HIV 1/2, SKB Colloidal Gold, Diagnostic Kit, Antibody, 50 Tests',\n",
       "       '#109440**HIV 1/2, INSTI HIV Antibody Individual POC, 1 Test',\n",
       "       'Zidovudine 100mg, capsules, 100 Caps',\n",
       "       'Efavirenz 200mg, capsule, 90 Caps',\n",
       "       'Nevirapine 200mg [Viramune], tablets, 60 Tabs',\n",
       "       'Zidovudine 10mg/ml [Retrovir], solution for IV infusion injection, Vial 5 x 20 ml',\n",
       "       'Didanosine 250mg, delayed-release capsules, 30 Caps',\n",
       "       'Lamivudine/Stavudine 30/6mg, dispersible tablets, 60 Tabs',\n",
       "       'Abacavir 20mg/ml, oral solution, Bottle, 240 ml',\n",
       "       'Stavudine 40mg, capsules, 60 Caps',\n",
       "       'Efavirenz 600mg [Stocrin/Sustiva], tablets, 30 Tabs',\n",
       "       'Stavudine 30mg [Zerit], capsules, 60 Caps',\n",
       "       'Stavudine 40mg [Zerit], capsules, 60 Caps',\n",
       "       'Stavudine 1mg/ml, powder for oral solution, 200 ml',\n",
       "       'Zidovudine 100mg [Retrovir], capsules, 100 Caps',\n",
       "       'Abacavir/Lamivudine/Zidovudine 300/150/300mg [Trizivir], tablets, 60 Tabs',\n",
       "       'HIV 1/2, Visitect Kit, 25 Tests',\n",
       "       'Nelfinavir (as mesilate) 250mg [Viracept], tablets, 270 Tabs',\n",
       "       'HIV 1/2, DoubleCheck II Kit, 40 Tests',\n",
       "       'Didanosine 100mg, chewable/dispersible tablets, 60 Tabs',\n",
       "       'HIV 1/2, Bundi Rapid HIV Kit, 25 Tests',\n",
       "       'Capillary Tubes, for Determine, EDTA, 50uL,100 Pcs',\n",
       "       'HIV 1/2, ImmunoComb TriSpot Ag - Ab Kit, 36 Tests',\n",
       "       'HIV 1/2, Bioline 3.0 Kit, (no accessories), 30 Tests',\n",
       "       'Abacavir 20mg/ml [Ziagen], oral solution, Bottle, 240 ml',\n",
       "       'Sulfadoxine/Pyrimethamine 500/25mg, tablets, 1000 Tabs',\n",
       "       'Chloroquine 150mg base (as phosphate), [DON] tablets, 1000 Tabs',\n",
       "       'Quinine 300mg (as sulfate), tablets, Blister 100 x 10 Tabs',\n",
       "       'Artesunate+Amodiaquine 50+153mg, tablets, co-blister 12+12 Tabs',\n",
       "       'Didanosine 200mg, chewable/dispersible tablets, 60 Tabs',\n",
       "       'Lamivudine/Nevirapine/Stavudine 30/50/6mg, dispersible tablets, 60 Tabs',\n",
       "       'Indinavir 400mg [Crixivan], capsules, 180 Caps',\n",
       "       'Lamivudine/Zidovudine+Nevirapine 150/300+200mg, tablets, co-blister, 60+60 Tabs',\n",
       "       '#109435**HIV, OraQuick Controls Kit, 3 Vials',\n",
       "       'Primaquine 15mg base (as diphosphate), tablets, 1000 Tabs',\n",
       "       'Lamivudine/Stavudine 150/30mg, tablets, 30 Tabs',\n",
       "       'Lamivudine/Nevirapine/Stavudine 150/200/40mg, tablets, 60 Tabs',\n",
       "       'HIV 2, New LAV Blot 2 HIV Kit, 18 Tests',\n",
       "       'HIV, Bioline HIV 1/2 3.0 Kit, [DON] 25 Tests',\n",
       "       'Efavirenz 30mg/ml [Stocrin/Sustiva], oral solution, Bottle, 180 ml',\n",
       "       'Abacavir 20mg/ml, [DON] oral solution, Bottle, 240 ml',\n",
       "       'Lamivudine/Stavudine 150/30mg, tablets, 60 Tabs',\n",
       "       'Emtricitabine/Tenofovir Disoproxil Fumarate 200/300mg, tablets, 30 Tabs',\n",
       "       'Lamivudine/Zidovudine+Abacavir 150/300+300mg, tablets, co-blister, 60+60 Tabs',\n",
       "       'Lamivudine/Tenofovir Disoproxil Fumarate 300/300mg, tablets, 30 Tabs',\n",
       "       'Lamivudine/Nevirapine/Stavudine 60/100/12mg, dispersible tablets, 60 Tabs',\n",
       "       'HIV, Pepti-LAV 1|2 (HIV-1|2 Ab differenciation, Immuno-Blot)',\n",
       "       'Ritonavir 100mg [Norvir], film coated tablets, 60 Tabs',\n",
       "       'HIV 1/2, Stat-Pak Dipstick Assay Kit, 30 Tests',\n",
       "       'Malaria Antigen P.f Kit, 30 x 1 Test',\n",
       "       'Efavirenz/Lamivudine/Tenofovir Disoproxil Fumarate 600/300/300mg, tablets, 30 Tabs',\n",
       "       'Lopinavir/Ritonavir 80/20mg/ml [Kaletra], oral solution, cool, Bottle, 160 ml',\n",
       "       'Etravirine 100mg [Intelence], tablets, 120 Tabs',\n",
       "       'HIV 1/2, Bioline 3.0 Diluent, 25 Tests, Bottle x 5 ml',\n",
       "       'Zidovudine 10mg/ml, oral solution w/syringe, Bottle, 240 ml',\n",
       "       'Ritonavir 100mg [Norvir], film coated tablets, 30 Tabs',\n",
       "       'Atazanavir/Ritonavir 300/100mg, tablets, 30 Tabs',\n",
       "       'Nevirapine 50mg, dispersible tablets (tablets for oral suspension), 30 Tabs',\n",
       "       'Darunavir 600mg [Prezista], tablets, 60 Tabs',\n",
       "       'HIV 1/2, Determine Kit without Lancets, Buffer or Caplillary Tubes, 100 Tests',\n",
       "       'HIV 1/2, OraQuick Rapid Antibody Kit, 100 Tests',\n",
       "       'Lamivudine/Zidovudine 30/60mg, dispersible tablets, 60 Tabs',\n",
       "       'Abacavir/Lamivudine/Zidovudine 300/150/300mg, tablets, 60 Tabs',\n",
       "       'Nevirapine 10mg/ml, oral suspension w/syringe, Bottle, 240 ml',\n",
       "       'HIV 1/2, Bioline 3.0 Kit, 100 Tests',\n",
       "       'Artemether/Lumefantrine 20/120mg [Coartem], scored tablets, Blister 30 x 24 Tabs',\n",
       "       'Raltegravir 400mg [Isentress], tablets, 60 Tabs',\n",
       "       'Lamivudine 10mg/ml, oral solution w/syringe, Bottle, 240 ml',\n",
       "       'Lamivudine/Zidovudine 30/60mg, tablets, 60 Tabs',\n",
       "       'Efavirenz/Emtricitabine/Tenofovir Disoproxil Fumarate 600/200/300mg, tablets, 30 Tabs',\n",
       "       'Atazanavir 200mg [Reyataz], capsules, 60 Caps',\n",
       "       'Didanosine 400mg, delayed-release capsules, 30 Caps',\n",
       "       'Lopinavir/Ritonavir 200/50mg, tablets, 120 Tabs',\n",
       "       'Chase Buffer, Determine, 100 Tests, 2.5ml x 1 Vial',\n",
       "       'Mefloquine 250mg (as hydrochloride), tablets, 100 Tabs',\n",
       "       'Abacavir/Lamivudine 60/30mg, tablets, 60 Tabs',\n",
       "       'Darunavir 300mg [Prezista], tablets, 120 Tabs',\n",
       "       'Lamivudine/Nevirapine/Zidovudine 30/50/60mg, dispersible tablets, 60 Tabs',\n",
       "       'Saquinavir 500mg [Invirase], tablets, 120 Tabs',\n",
       "       'Efavirenz 200mg, scored tablets, 90 Tabs',\n",
       "       'Atazanavir 150mg, capsules, 60 Caps',\n",
       "       'Atazanavir 150mg [Reyataz], capsules, 60 Caps',\n",
       "       'Abacavir 20mg/ml, oral solution w/syringe, Bottle, 240 ml',\n",
       "       'Nevirapine 10mg/ml, oral suspension w/syringe, Bottle, 100 ml',\n",
       "       'Didanosine 125mg, delayed-release capsules, 30 Caps',\n",
       "       'Didanosine 200mg, delayed-release capsules, 30 Caps',\n",
       "       'Atazanavir 200mg, capsules, 60 Caps',\n",
       "       'Lamivudine/Zidovudine 150/300mg [Combivir], tablets, 60 Tabs',\n",
       "       'Sulfadoxine/Pyrimethamine 500/25mg, tablets, Blister 10 x 3 Tabs',\n",
       "       'Abacavir/Lamivudine 600/300mg, tablets, 30 Tabs',\n",
       "       'Ritonavir 100mg [Norvir], capsules, cool, 2 x 84 Caps',\n",
       "       'Abacavir 60mg, dispersible tablets, 60 Tabs',\n",
       "       'Lopinavir/Ritonavir 100/25mg, tablets, 60 Tabs',\n",
       "       'HIV 1/2, Genie III Kit, 50 Tests',\n",
       "       'Abacavir/Lamivudine 60/30mg, dispersible tablets, 60 Tabs',\n",
       "       'HIV 1/2, ImmunoComb II BiSpot EIA Kit, 36 Tests',\n",
       "       'Atazanavir 300mg, capsules, 30 Caps',\n",
       "       'HIV 1/2, DoubleCheck Gold Kit, 20 Tests',\n",
       "       'HIV, OraQuick Controls Kit, 3 Vials',\n",
       "       'Abacavir/Lamivudine 600/300mg, scored tablets, 30 Tabs',\n",
       "       'HIV, Multispot HIV-1/HIV-2 Rapid Test Kit, 50 Tests',\n",
       "       'Chloroquine 150mg base (as phosphate), tablets, 1000 Tabs',\n",
       "       'HIV 1/2, SKB Colloidal Gold, Diagnostic Kit Set, (includes lancet, transfer pipette & alcohol prep pad), 50 Tests',\n",
       "       'Lamivudine 300mg, tablets, 30 Tabs',\n",
       "       'HIV 1/2, Stat-Pak Buffer Only, 20 Tests',\n",
       "       'HIV 1/2, INSTI HIV 1/2 Antibody Kit, 48 Tests',\n",
       "       'Lamivudine/Stavudine 60/12mg, dispersible tablets, 60 Tabs',\n",
       "       'Lamivudine/Zidovudine+Efavirenz 150/300mg+600mg, tablets, co-blister 60+30 Tabs',\n",
       "       'Nevirapine 50mg, dispersible tablets, 60 Tabs',\n",
       "       'Malaria, Antigen P.f., HRP2 CareStart Kit, 60 Tests',\n",
       "       'HIV 1/2, HEXAGON Rapid HIV Kit, 100 Tests',\n",
       "       'Stavudine 1mg/ml, powder for oral solution w/syringe, 200 ml',\n",
       "       'Quinine sulphate 300mg, film coated tablet, 1000 Tabs',\n",
       "       'Efavirenz 200mg, tablets, 30 Tabs',\n",
       "       'HIV 1/2, INSTI HIV Antibody Individual POC, 1 Test',\n",
       "       'Malaria Antigen P.f , HRP2, Kit, 25 Tests',\n",
       "       'Nelfinavir 50mg/g [Viracept], oral powder, 144g',\n",
       "       'Lamivudine/Nevirapine/Zidovudine 30/50/60mg, [DON] dispersible tablets, 60 Tabs',\n",
       "       'Abacavir/Lamivudine 60/30mg, tablets, 30 Tabs',\n",
       "       'Didanosine 200mg, [DON] delayed-release capsules, 30 Caps',\n",
       "       'Lopinavir/Ritonavir 200/50mg, [DON] tablets, 120 Tabs'],\n",
       "      dtype=object)"
      ]
     },
     "metadata": {},
     "output_type": "display_data"
    },
    {
     "data": {
      "text/plain": [
       "184"
      ]
     },
     "metadata": {},
     "output_type": "display_data"
    },
    {
     "data": {
      "text/plain": [
       "'MoleculeTestType'"
      ]
     },
     "metadata": {},
     "output_type": "display_data"
    },
    {
     "data": {
      "text/plain": [
       "array(['HIV, Reveal G3 Rapid HIV-1 Antibody Test', 'Nevirapine',\n",
       "       'HIV 1/2, Determine Complete HIV Kit', 'Lamivudine', 'Stavudine',\n",
       "       'Zidovudine', 'Efavirenz', 'Lopinavir/Ritonavir',\n",
       "       'HIV 1/2, Uni-Gold HIV Kit', 'HIV 1/2, InstantChek HIV 1+2 Kit',\n",
       "       'Lamivudine/Zidovudine', 'Didanosine',\n",
       "       'HIV 1/2/O, First Response HIV 1-2.0, v.3.0 Cards Kit',\n",
       "       'HIV 1/2, Stat-Pak HIV, Kit',\n",
       "       'HIV 1/2, Determine HIV Kit, without Lancets',\n",
       "       'HIV 1/2, OraQuick Advance HIV Rapid Antibody Kit',\n",
       "       'HIV 1/2, Bioline 3.0 Kit, Lancets, Capillary pipets, Alcohol swabs included',\n",
       "       'Tenofovir Disoproxil Fumarate',\n",
       "       'HIV, Lancet, Safety, for HIV Test kits, 100 Pcs',\n",
       "       'HIV 1/2, Capillus HIV Kit', 'HIV, Genie II HIV-1/HIV-2 Kit',\n",
       "       'Saquinavir', 'Didanosine EC', 'Abacavir',\n",
       "       'Artemether/Lumefantrine', 'Malaria Paramax-3 Kit',\n",
       "       'Artesunate+Amodiaquine',\n",
       "       'Efavirenz/Emtricitabine/Tenofovir Disoproxil Fumarate',\n",
       "       'HIV 1, Uni-Gold Recombigen HIV Control, Vial 2 x 0.5 ml',\n",
       "       'Quinine (as dihydrochloride)', 'Lamivudine/Nevirapine/Stavudine',\n",
       "       'Ritonavir', 'Emtricitabine/Tenofovir Disoproxil Fumarate',\n",
       "       'Lamivudine/Nevirapine/Zidovudine',\n",
       "       'HIV 1/2, Clearview Complete Kit',\n",
       "       'HIV 1/2, Colloidal Gold, Diagnostic Kit, Antibody',\n",
       "       'HIV 1/2, INSTI HIV Antibody Individual POC, 1 Test',\n",
       "       'Lamivudine/Stavudine', 'Abacavir/Lamivudine/Zidovudine',\n",
       "       'HIV 1/2, Visitect Kit', 'Nelfinavir (as mesilate)',\n",
       "       'HIV 1/2, DoubleCheck II Kit', 'HIV 1/2, Bundi Rapid HIV Kit',\n",
       "       'HIV, Capillary Tubes, for Determine, EDTA, 50uL,100 Pcs',\n",
       "       'HIV 1/2, ImmunoComb TriSpot Ag - Ab Kit',\n",
       "       'HIV 1/2, Bioline 3.0 Kit (no accessories)',\n",
       "       'Sulfadoxine/Pyrimethamine', 'Chloroquine base (as phosphate)',\n",
       "       'Quinine (as sulfate)', 'Indinavir',\n",
       "       'Lamivudine/Zidovudine+Nevirapine',\n",
       "       'HIV, OraQuick Controls Kit, 3 Vials',\n",
       "       'Primaquine base (as diphosphate)',\n",
       "       'HIV 2, New LAV Blot 2 HIV Kit', 'HIV, Bioline HIV 1/2 3.0 Kit',\n",
       "       'Lamivudine/Zidovudine+Abacavir',\n",
       "       'Lamivudine/Tenofovir Disoproxil Fumarate',\n",
       "       'HIV, Pepti-LAV 1|2 (HIV-1|2 Ab differenciation, Immuno-Blot)',\n",
       "       'HIV 1/2, Stat-Pak Dipstick Assay Kit',\n",
       "       'Malaria Antigen P.f Kit, 30 x 1 Test',\n",
       "       'Efavirenz/Lamivudine/Tenofovir Disoproxil Fumarate', 'Etravirine',\n",
       "       'HIV 1/2, Bioline 3.0 Diluent, 25 Tests', 'Atazanavir/Ritonavir',\n",
       "       'Darunavir',\n",
       "       'HIV 1/2, Determine Kit without Lancets, Buffer or Capillary Tubes, 100 Tests',\n",
       "       'HIV 1/2, OraQuick Rapid Antibody Kit', 'HIV 1/2, Bioline 3.0 Kit',\n",
       "       'Raltegravir', 'Atazanavir',\n",
       "       'Chase Buffer, Determine, 100 Tests, 2.5ml x 1 Vial',\n",
       "       'Mefloquine (as hydrochloride)', 'Abacavir/Lamivudine',\n",
       "       'HIV 1/2, Genie III Kit', 'HIV 1/2, ImmunoComb II BiSpot EIA Kit',\n",
       "       'HIV 1/2, DoubleCheck Gold Kit',\n",
       "       'HIV, Multispot HIV-1/HIV-2 Rapid Test Kit',\n",
       "       'HIV 1/2, Colloidal Gold, Diagnostic Kit Set (includes lancet, transfer pipette & alcohol prep pad)',\n",
       "       'HIV 1/2, Stat-Pak Buffer Only',\n",
       "       'HIV 1/2, INSTI HIV 1/2 Antibody Kit',\n",
       "       'Lamivudine/Zidovudine+Efavirenz',\n",
       "       'Malaria, Antigen P.f., HRP2 CareStart Kit',\n",
       "       'HIV 1/2, HEXAGON Rapid HIV Kit', 'Quinine',\n",
       "       'Malaria Antigen P.f , HRP2, Kit', 'Nelfinavir'], dtype=object)"
      ]
     },
     "metadata": {},
     "output_type": "display_data"
    },
    {
     "data": {
      "text/plain": [
       "86"
      ]
     },
     "metadata": {},
     "output_type": "display_data"
    },
    {
     "data": {
      "text/plain": [
       "'Brand'"
      ]
     },
     "metadata": {},
     "output_type": "display_data"
    },
    {
     "data": {
      "text/plain": [
       "array(['Reveal', 'Generic', 'Determine', 'Stocrin/Sustiva', 'Aluvia',\n",
       "       'Uni-Gold', 'InstantCHEK', 'Videx', 'First Response', 'Stat-Pak',\n",
       "       'OraQuick', 'Bioline', 'Retrovir', 'Viread', 'Zerit', 'Capillus',\n",
       "       'Genie', 'Invirase', 'Videx EC', 'Ziagen', 'Coartem', 'Viramune',\n",
       "       'Paramax', 'Atripla', 'Kaletra', 'Epivir', 'Norvir', 'Truvada',\n",
       "       'Clearview', 'Colloidal Gold', 'INSTi', 'Trizivir', 'Visitect',\n",
       "       'Viracept', 'DoubleCheck', 'Bundi', 'ImmunoComb', 'Crixivan',\n",
       "       'LAV', 'Pepti-LAV', 'Intelence', 'Prezista', 'Isentress',\n",
       "       'Reyataz', 'Combivir', 'Multispot', 'CareStart', 'Hexagon'],\n",
       "      dtype=object)"
      ]
     },
     "metadata": {},
     "output_type": "display_data"
    },
    {
     "data": {
      "text/plain": [
       "48"
      ]
     },
     "metadata": {},
     "output_type": "display_data"
    },
    {
     "data": {
      "text/plain": [
       "'Dosage'"
      ]
     },
     "metadata": {},
     "output_type": "display_data"
    },
    {
     "data": {
      "text/plain": [
       "array([None, '10mg/ml', '150mg', '30mg', '200mg', '200/50mg', '150/300mg',\n",
       "       '300mg', '2g', '1mg/ml', '600mg', '25mg', '20mg', '250mg', '400mg',\n",
       "       '20/120mg', '50+153mg', '600/200/300mg', '100mg', '15mg',\n",
       "       '80/20mg/ml', '600mg/2ml', '150/200/30mg', '100/25mg', '50mg',\n",
       "       '300/200mg', '150/300/200mg', '133.3/33.3mg', '80mg/ml', '30/6mg',\n",
       "       '20mg/ml', '40mg', '300/150/300mg', '500/25mg', '30/50/6mg',\n",
       "       '150/300+200mg', '150/30mg', '150/200/40mg', '30mg/ml',\n",
       "       '200/300mg', '150/300+300mg', '300/300mg', '60/100/12mg',\n",
       "       '600/300/300mg', '300/100mg', '30/60mg', '60/30mg', '30/50/60mg',\n",
       "       '500mg', '125mg', '600/300mg', '60mg', '60/12mg',\n",
       "       '150/300mg+600mg', '50mg/g'], dtype=object)"
      ]
     },
     "metadata": {},
     "output_type": "display_data"
    },
    {
     "data": {
      "text/plain": [
       "55"
      ]
     },
     "metadata": {},
     "output_type": "display_data"
    },
    {
     "data": {
      "text/plain": [
       "'DosageForm'"
      ]
     },
     "metadata": {},
     "output_type": "display_data"
    },
    {
     "data": {
      "text/plain": [
       "array(['Test kit', 'Oral suspension', 'Tablet', 'Capsule',\n",
       "       'Oral solution', 'Tablet - FDC', 'Powder for oral solution',\n",
       "       'Test kit - Ancillary', 'Chewable/dispersible tablet',\n",
       "       'Delayed-release capsules - blister', 'Tablet - blister',\n",
       "       'Tablet - FDC + blister', 'Tablet - FDC + co-blister', 'Injection',\n",
       "       'Delayed-release capsules', 'Chewable/dispersible tablet - FDC',\n",
       "       'Oral powder'], dtype=object)"
      ]
     },
     "metadata": {},
     "output_type": "display_data"
    },
    {
     "data": {
      "text/plain": [
       "17"
      ]
     },
     "metadata": {},
     "output_type": "display_data"
    },
    {
     "data": {
      "text/plain": [
       "'UnitofMeasurePerPack'"
      ]
     },
     "metadata": {},
     "output_type": "display_data"
    },
    {
     "data": {
      "text/plain": [
       "array(['30', '240', '100', '60', '90', '120', '20', '200', '25', '40',\n",
       "       '270', '540', '12', '2', '300', '336', '84', '180', '1', '5', '36',\n",
       "       '1000', '24', '3', '18', '160', '720', '168', '50', '48', '144'],\n",
       "      dtype=object)"
      ]
     },
     "metadata": {},
     "output_type": "display_data"
    },
    {
     "data": {
      "text/plain": [
       "31"
      ]
     },
     "metadata": {},
     "output_type": "display_data"
    },
    {
     "data": {
      "text/plain": [
       "'LineItemQuantity'"
      ]
     },
     "metadata": {},
     "output_type": "display_data"
    },
    {
     "data": {
      "text/plain": [
       "array(['19', '1000', '500', ..., '514526', '17465', '36639'], dtype=object)"
      ]
     },
     "metadata": {},
     "output_type": "display_data"
    },
    {
     "data": {
      "text/plain": [
       "5065"
      ]
     },
     "metadata": {},
     "output_type": "display_data"
    },
    {
     "data": {
      "text/plain": [
       "'LineItemValue'"
      ]
     },
     "metadata": {},
     "output_type": "display_data"
    },
    {
     "data": {
      "text/plain": [
       "array(['551.0', '6200.0', '40000.0', ..., '5140114.74', '113871.8',\n",
       "       '72911.61'], dtype=object)"
      ]
     },
     "metadata": {},
     "output_type": "display_data"
    },
    {
     "data": {
      "text/plain": [
       "8741"
      ]
     },
     "metadata": {},
     "output_type": "display_data"
    },
    {
     "data": {
      "text/plain": [
       "'PackPrice'"
      ]
     },
     "metadata": {},
     "output_type": "display_data"
    },
    {
     "data": {
      "text/plain": [
       "array(['29.0', '6.2', '80.0', ..., '9.33', '80.6', '1.38'], dtype=object)"
      ]
     },
     "metadata": {},
     "output_type": "display_data"
    },
    {
     "data": {
      "text/plain": [
       "1175"
      ]
     },
     "metadata": {},
     "output_type": "display_data"
    },
    {
     "data": {
      "text/plain": [
       "'UnitPrice'"
      ]
     },
     "metadata": {},
     "output_type": "display_data"
    },
    {
     "data": {
      "text/plain": [
       "array(['0.97', '0.03', '0.8', '0.07', '0.05', '0.02', '0.36', '0.06',\n",
       "       '0.34', '2.0', '0.85', '0.17', '0.42', '0.55', '0.11', '1.35',\n",
       "       '0.01', '0.68', '0.72', '3.5', '0.04', '0.57', '0.14', '0.0',\n",
       "       '1.39', '1.9', '2.13', '0.38', '0.25', '0.12', '0.21', '2.3',\n",
       "       '0.46', '0.09', '0.64', '0.79', '0.58', '0.08', '1.5', '1.6',\n",
       "       '1.68', '15.0', '0.76', '0.22', '0.2', '0.75', '0.16', '0.52',\n",
       "       '0.47', '0.1', '0.3', '1.17', '0.33', '0.23', '2.75', '0.19',\n",
       "       '3.0', '1.88', '4.0', '0.24', '0.18', '0.51', '0.6', '0.41',\n",
       "       '0.95', '0.7', '0.73', '0.62', '0.28', '0.61', '23.0', '2.54',\n",
       "       '0.26', '0.49', '2.73', '0.15', '0.9', '0.43', '1.75', '0.56',\n",
       "       '0.27', '0.89', '1.48', '0.66', '1.41', '0.13', '0.78', '0.31',\n",
       "       '0.5', '2.34', '0.35', '0.54', '2.5', '0.29', '0.83', '1.25',\n",
       "       '0.32', '0.39', '1.98', '37.5', '2.36', '0.4', '0.59', '0.71',\n",
       "       '1.0', '1.51', '0.74', '1.21', '0.82', '1.3', '2.7', '0.88',\n",
       "       '0.65', '0.69', '1.27', '0.53', '1.32', '1.2', '5.08', '1.01',\n",
       "       '0.63', '1.37', '0.37', '0.67', '2.68', '7.0', '1.15', '1.06',\n",
       "       '17.12', '0.48', '0.44', '1.8', '238.65', '1.12', '0.84', '0.92',\n",
       "       '24.5', '1.45', '1.56', '0.98', '0.77', '5.0', '3.8', '1.62',\n",
       "       '1.26', '1.59', '1.52', '0.45', '7.51', '41.68', '1.1', '0.91',\n",
       "       '3.25', '0.86', '15.5', '0.96', '1.55', '8.33', '1.02', '1.82',\n",
       "       '1.09', '0.94', '1.99', '14.04', '1.83', '25.0', '24.85', '1.29',\n",
       "       '1.14', '3.47', '1.11', '1.08', '30.0', '1.05', '1.33', '1.18',\n",
       "       '1.73', '1.16', '1.24', '6.5', '5.03', '1.7', '26.91'],\n",
       "      dtype=object)"
      ]
     },
     "metadata": {},
     "output_type": "display_data"
    },
    {
     "data": {
      "text/plain": [
       "183"
      ]
     },
     "metadata": {},
     "output_type": "display_data"
    },
    {
     "data": {
      "text/plain": [
       "'ManufacturingSite'"
      ]
     },
     "metadata": {},
     "output_type": "display_data"
    },
    {
     "data": {
      "text/plain": [
       "array(['Ranbaxy Fine Chemicals LTD', 'Aurobindo Unit III, India',\n",
       "       'ABBVIE GmbH & Co.KG Wiesbaden', 'Ranbaxy, Paonta Shahib, India',\n",
       "       'MSD South Granville Australia', \"ABBVIE (Abbott) St. P'burg USA\",\n",
       "       'ABBVIE Ludwigshafen Germany', 'Trinity Biotech, Plc',\n",
       "       'EY Laboratories, USA', 'Cipla, Goa, India', 'BMS Meymac, France',\n",
       "       'Premier Med. Corp Ltd. India', 'Chembio Diagnostics Sys. Inc.',\n",
       "       'Inverness Japan', 'Pacific Biotech, Thailand',\n",
       "       'Standard Diagnostics, Korea', 'GSK Mississauga (Canada)',\n",
       "       'Gilead(Nycomed) Oranienburg DE', 'Bio-Rad Laboratories',\n",
       "       'Mylan (formerly Matrix) Nashik', 'Roche Basel', 'GSK Ware (UK)',\n",
       "       'Novartis Pharma AG, Switzerland', 'BI, Ingelheim, Germany',\n",
       "       'Not Applicable', 'Ipca Dadra/Nagar Haveli IN', 'MSD, Haarlem, NL',\n",
       "       'Aspen-OSD, Port Elizabeth, SA', 'ABBVIE (Abbott) Logis. UK',\n",
       "       'Gland Pharma Ltd Pally Factory', 'GSK Aranda',\n",
       "       'Hetero Unit III Hyderabad IN', 'ABBVIE (Abbott) France',\n",
       "       'Strides, Bangalore, India.', 'ABBSP', 'Cipla, Patalganga, India',\n",
       "       'GSK Cape Town Factory (South Africa)', \"MSD Midrand, J'burg, SA\",\n",
       "       'KHB Test Kit Facility, Shanghai China', 'bioLytical Laboratories',\n",
       "       'Inverness USA', 'Boehringer Ing., Koropi, GR', 'GSK Crawley',\n",
       "       'OMEGA Diagnostics, UK', 'Roche Madrid',\n",
       "       'BUNDI INTERNATIONAL DIAGNOSTICS LTD', 'INVERNESS ORGENICS LINE',\n",
       "       'Novartis Pharma Suffern, USA',\n",
       "       'Micro Labs Ltd. (Brown & Burk), India',\n",
       "       'Meditab (for Cipla) Daman IN', 'Medopharm Malur Factory, INDIA',\n",
       "       'ABBVIE (Abbott) Japan Co. Ltd.', 'MSD Elkton USA',\n",
       "       'Orasure Technologies, Inc USA',\n",
       "       'Weifa A.S., Hausmanngt. 6, P.O. Box 9113 GrÃƒÂ¸nland, 0133, Oslo, Norway',\n",
       "       'MSD Manati, Puerto Rico, (USA)', 'MSD Patheon, Canada',\n",
       "       'Emcure Plot No.P-2, I.T-B.T. Park, Phase II, MIDC, Hinjwadi, Pune, India',\n",
       "       'Alere Medical Co., Ltd.', 'Premier Medical Corporation',\n",
       "       'ABBVIE Labs North Chicago US', 'Janssen-Cilag, Latina, IT',\n",
       "       'Aurobindo Unit VII, IN', 'Micro labs, Verna, Goa, India',\n",
       "       'Orasure Technologies, Inc', 'Mylan,  H-12 & H-13, India',\n",
       "       'Hetero, Jadcherla, unit 5, IN', 'Bristol-Myers Squibb Anagni IT',\n",
       "       'Cipla Ltd A-42 MIDC Mahar. IN', 'Medochemie Factory A, CY',\n",
       "       'Boehringer Ingelheim Roxane US', 'BMS Evansville, US',\n",
       "       'GSK, U1, Poznan, Poland', 'Janssen Ortho LLC, Puerto Rico',\n",
       "       'Micro Labs, Hosur, India', 'Remedica, Limassol, Cyprus',\n",
       "       'INVERNESS ANY', 'Guilin OSD site, No 17, China',\n",
       "       'Cipla, Kurkumbh, India', 'GSK Barnard Castle UK',\n",
       "       'Gland Pharma, Hyderabad, IN', 'Access BIO, L.C.',\n",
       "       'Human Diagnostic', 'Mepro Pharm Wadhwan Unit II',\n",
       "       'Ranbaxy per Shasun Pharma Ltd', 'MedMira Inc.',\n",
       "       'Ranbaxy per Shasun Pharma', 'Macleods Daman Plant INDIA'],\n",
       "      dtype=object)"
      ]
     },
     "metadata": {},
     "output_type": "display_data"
    },
    {
     "data": {
      "text/plain": [
       "88"
      ]
     },
     "metadata": {},
     "output_type": "display_data"
    },
    {
     "data": {
      "text/plain": [
       "'FirstLineDesignation'"
      ]
     },
     "metadata": {},
     "output_type": "display_data"
    },
    {
     "data": {
      "text/plain": [
       "array([ True, False])"
      ]
     },
     "metadata": {},
     "output_type": "display_data"
    },
    {
     "data": {
      "text/plain": [
       "2"
      ]
     },
     "metadata": {},
     "output_type": "display_data"
    },
    {
     "data": {
      "text/plain": [
       "'WeightKilograms'"
      ]
     },
     "metadata": {},
     "output_type": "display_data"
    },
    {
     "data": {
      "text/plain": [
       "array(['13', '358', '171', ..., '1547', 'See DN-4282 (ID#:83919)', '1392'],\n",
       "      dtype=object)"
      ]
     },
     "metadata": {},
     "output_type": "display_data"
    },
    {
     "data": {
      "text/plain": [
       "4688"
      ]
     },
     "metadata": {},
     "output_type": "display_data"
    },
    {
     "data": {
      "text/plain": [
       "'FreightCostUSD'"
      ]
     },
     "metadata": {},
     "output_type": "display_data"
    },
    {
     "data": {
      "text/plain": [
       "array(['780.34', '4521.5', '1653.78', ..., '26180', '3410',\n",
       "       'See DN-4282 (ID#:83919)'], dtype=object)"
      ]
     },
     "metadata": {},
     "output_type": "display_data"
    },
    {
     "data": {
      "text/plain": [
       "6733"
      ]
     },
     "metadata": {},
     "output_type": "display_data"
    },
    {
     "data": {
      "text/plain": [
       "'LineItemInsuranceUSD'"
      ]
     },
     "metadata": {},
     "output_type": "display_data"
    },
    {
     "data": {
      "text/plain": [
       "array([None, '192.0', '4.86', ..., '5284.04', '134.03', '85.82'],\n",
       "      dtype=object)"
      ]
     },
     "metadata": {},
     "output_type": "display_data"
    },
    {
     "data": {
      "text/plain": [
       "6723"
      ]
     },
     "metadata": {},
     "output_type": "display_data"
    }
   ],
   "source": [
    "for i in df.columns:\n",
    "    display(i)\n",
    "    display(df[i].unique())\n",
    "    display(len(df[i].unique()))"
   ]
  },
  {
   "cell_type": "code",
   "execution_count": 9,
   "id": "065d98c1",
   "metadata": {},
   "outputs": [],
   "source": [
    "def plot_counts(tdf,col_name):\n",
    "    fig = plt.figure(figsize=(20,10))\n",
    "    fig.add_subplot(122)\n",
    "    plt.xticks(rotation=90)\n",
    "    sns.countplot(x=tdf[col_name])"
   ]
  },
  {
   "cell_type": "markdown",
   "id": "5c8952f0",
   "metadata": {},
   "source": [
    "*Lets deal with 1 column at at time without deleting anything*"
   ]
  },
  {
   "cell_type": "markdown",
   "id": "cb5ded6c",
   "metadata": {},
   "source": [
    "ID"
   ]
  },
  {
   "cell_type": "code",
   "execution_count": 10,
   "id": "8265bef1",
   "metadata": {},
   "outputs": [],
   "source": [
    "df.drop('ID',inplace=True,axis=1)"
   ]
  },
  {
   "cell_type": "markdown",
   "id": "b6cc5f95",
   "metadata": {},
   "source": [
    "Project Code"
   ]
  },
  {
   "cell_type": "code",
   "execution_count": 11,
   "id": "7f1ea545",
   "metadata": {},
   "outputs": [
    {
     "data": {
      "image/png": "[encoded data removed]",
      "text/plain": [
       "<Figure size 1440x720 with 1 Axes>"
      ]
     },
     "metadata": {},
     "output_type": "display_data"
    }
   ],
   "source": [
    "sns.set(rc={'figure.figsize':(11.7,8.27)})\n",
    "\n",
    "plot_counts(df,\"ProjectCode\")"
   ]
  },
  {
   "cell_type": "code",
   "execution_count": 12,
   "id": "24caf4d4",
   "metadata": {},
   "outputs": [],
   "source": [
    "df.drop(\"ProjectCode\",axis=1,inplace=True)"
   ]
  },
  {
   "cell_type": "markdown",
   "id": "5bc32b68",
   "metadata": {},
   "source": [
    "PQ"
   ]
  },
  {
   "cell_type": "code",
   "execution_count": 13,
   "id": "bb4fb900",
   "metadata": {},
   "outputs": [],
   "source": [
    "df.drop(\"PQ\",axis=1,inplace=True)"
   ]
  },
  {
   "cell_type": "markdown",
   "id": "2c964644",
   "metadata": {},
   "source": [
    "POSO"
   ]
  },
  {
   "cell_type": "code",
   "execution_count": 14,
   "id": "d735898c",
   "metadata": {},
   "outputs": [],
   "source": [
    "df.drop(\"POSO\",axis=1,inplace=True)"
   ]
  },
  {
   "cell_type": "markdown",
   "id": "03aabc7e",
   "metadata": {},
   "source": [
    "ASNDN"
   ]
  },
  {
   "cell_type": "code",
   "execution_count": 15,
   "id": "4fdd4d5f",
   "metadata": {},
   "outputs": [],
   "source": [
    "df.drop(\"ASNDN\",axis=1,inplace=True)"
   ]
  },
  {
   "cell_type": "markdown",
   "id": "5c6aa9e5",
   "metadata": {},
   "source": [
    "Country"
   ]
  },
  {
   "cell_type": "code",
   "execution_count": 16,
   "id": "08c6cc80",
   "metadata": {},
   "outputs": [
    {
     "data": {
      "image/png": "[encoded data removed]",
      "text/plain": [
       "<Figure size 1440x720 with 1 Axes>"
      ]
     },
     "metadata": {},
     "output_type": "display_data"
    }
   ],
   "source": [
    "sns.set(rc={'figure.figsize':(20,30)})\n",
    "plot_counts(df,\"Country\")"
   ]
  },
  {
   "cell_type": "code",
   "execution_count": 17,
   "id": "b3e3bb6e",
   "metadata": {},
   "outputs": [],
   "source": [
    "countries_less_than_75=df[\"Country\"].value_counts()[df[\"Country\"].value_counts()<75].index.tolist()\n",
    "countries_greater_than_75=df[\"Country\"].value_counts()[df[\"Country\"].value_counts()>=75].index.tolist()\n",
    "df.loc[df.Country.isin(countries_less_than_75), 'Country'] = \"Other\""
   ]
  },
  {
   "cell_type": "code",
   "execution_count": 18,
   "id": "e6e2719d",
   "metadata": {},
   "outputs": [],
   "source": [
    "D = df[[\"Country\"]]\n",
    "D = pd.get_dummies(D, drop_first = True)\n",
    "\n",
    "df.drop(['Country'],inplace=True,axis=1)\n",
    "\n",
    "df=pd.concat([df,D], axis = 1)"
   ]
  },
  {
   "cell_type": "markdown",
   "id": "84942817",
   "metadata": {},
   "source": [
    "ManagedBy"
   ]
  },
  {
   "cell_type": "code",
   "execution_count": 19,
   "id": "b132b3ba",
   "metadata": {},
   "outputs": [
    {
     "data": {
      "image/png": "[encoded data removed]",
      "text/plain": [
       "<Figure size 1440x720 with 1 Axes>"
      ]
     },
     "metadata": {},
     "output_type": "display_data"
    }
   ],
   "source": [
    "plot_counts(df,\"ManagedBy\")"
   ]
  },
  {
   "cell_type": "code",
   "execution_count": 20,
   "id": "b448f9dd",
   "metadata": {},
   "outputs": [],
   "source": [
    "lessmanaged=df[\"ManagedBy\"].value_counts()[df[\"ManagedBy\"].value_counts()<100].index.tolist()\n",
    "greatmanaged=df[\"ManagedBy\"].value_counts()[df[\"ManagedBy\"].value_counts()>100].index.tolist()\n",
    "df.loc[df.ManagedBy.isin(lessmanaged), 'ManagedBy'] = \"Other\""
   ]
  },
  {
   "cell_type": "code",
   "execution_count": null,
   "id": "1e4d0695",
   "metadata": {},
   "outputs": [],
   "source": []
  },
  {
   "cell_type": "code",
   "execution_count": 21,
   "id": "ea4f0d10",
   "metadata": {},
   "outputs": [],
   "source": [
    "List=list(np.array([\"Other\"]+greatmanaged).reshape(1,2))\n",
    "ordinal_encoder = OrdinalEncoder(categories=List)\n",
    "df['ManagedBy']=ordinal_encoder.fit_transform(np.array(df[['ManagedBy']]))"
   ]
  },
  {
   "cell_type": "code",
   "execution_count": 22,
   "id": "e066d9b4",
   "metadata": {},
   "outputs": [
    {
     "data": {
      "text/plain": [
       "1.0    10265\n",
       "0.0       59\n",
       "Name: ManagedBy, dtype: int64"
      ]
     },
     "execution_count": 22,
     "metadata": {},
     "output_type": "execute_result"
    }
   ],
   "source": [
    "df[\"ManagedBy\"].value_counts()"
   ]
  },
  {
   "cell_type": "markdown",
   "id": "45fa2196",
   "metadata": {},
   "source": [
    "FulfillVia"
   ]
  },
  {
   "cell_type": "code",
   "execution_count": 23,
   "id": "d46918ee",
   "metadata": {},
   "outputs": [
    {
     "data": {
      "text/plain": [
       "From RDC       5404\n",
       "Direct Drop    4920\n",
       "Name: FulfillVia, dtype: int64"
      ]
     },
     "execution_count": 23,
     "metadata": {},
     "output_type": "execute_result"
    }
   ],
   "source": [
    "df[\"FulfillVia\"].value_counts()"
   ]
  },
  {
   "cell_type": "code",
   "execution_count": 24,
   "id": "ca189e25",
   "metadata": {},
   "outputs": [],
   "source": [
    "List=list(np.array([\"Direct Drop\",\"From RDC\"]).reshape(1,2))\n",
    "ordinal_encoder = OrdinalEncoder(categories=List)\n",
    "df['FulfillVia']=ordinal_encoder.fit_transform(np.array(df[['FulfillVia']]))"
   ]
  },
  {
   "cell_type": "markdown",
   "id": "42427e1a",
   "metadata": {},
   "source": [
    "VendorINCOTerm"
   ]
  },
  {
   "cell_type": "code",
   "execution_count": 25,
   "id": "ec5790e7",
   "metadata": {},
   "outputs": [
    {
     "data": {
      "text/plain": [
       "N/A - From RDC    5404\n",
       "EXW               2778\n",
       "DDP               1443\n",
       "FCA                397\n",
       "CIP                275\n",
       "DDU                 15\n",
       "DAP                  9\n",
       "CIF                  3\n",
       "Name: VendorINCOTerm, dtype: int64"
      ]
     },
     "execution_count": 25,
     "metadata": {},
     "output_type": "execute_result"
    }
   ],
   "source": [
    "df[\"VendorINCOTerm\"].value_counts()"
   ]
  },
  {
   "cell_type": "code",
   "execution_count": 26,
   "id": "2b38afda",
   "metadata": {},
   "outputs": [],
   "source": [
    "lessmanaged=df[\"VendorINCOTerm\"].value_counts()[df[\"VendorINCOTerm\"].value_counts()<100].index.tolist()\n",
    "greatmanaged=df[\"VendorINCOTerm\"].value_counts()[df[\"VendorINCOTerm\"].value_counts()>100].index.tolist()\n",
    "df.loc[df.VendorINCOTerm.isin(lessmanaged), 'VendorINCOTerm'] = \"Other\""
   ]
  },
  {
   "cell_type": "code",
   "execution_count": 27,
   "id": "37843eee",
   "metadata": {},
   "outputs": [
    {
     "data": {
      "text/plain": [
       "['N/A - From RDC', 'EXW', 'DDP', 'FCA', 'CIP']"
      ]
     },
     "execution_count": 27,
     "metadata": {},
     "output_type": "execute_result"
    }
   ],
   "source": [
    "greatmanaged"
   ]
  },
  {
   "cell_type": "code",
   "execution_count": 28,
   "id": "7167f1fe",
   "metadata": {},
   "outputs": [],
   "source": [
    "List=list(np.array(greatmanaged+[\"Other\"]).reshape(1,6))\n",
    "ordinal_encoder = OrdinalEncoder(categories=List)\n",
    "df['VendorINCOTerm']=ordinal_encoder.fit_transform(np.array(df[['VendorINCOTerm']]))"
   ]
  },
  {
   "cell_type": "code",
   "execution_count": 29,
   "id": "c1e39c5e",
   "metadata": {},
   "outputs": [
    {
     "name": "stdout",
     "output_type": "stream",
     "text": [
      "<class 'pandas.core.frame.DataFrame'>\n",
      "RangeIndex: 10324 entries, 0 to 10323\n",
      "Data columns (total 46 columns):\n",
      " #   Column                   Non-Null Count  Dtype  \n",
      "---  ------                   --------------  -----  \n",
      " 0   ManagedBy                10324 non-null  float64\n",
      " 1   FulfillVia               10324 non-null  float64\n",
      " 2   VendorINCOTerm           10324 non-null  float64\n",
      " 3   ShipmentMode             9964 non-null   object \n",
      " 4   PQFirstSenttoClientDate  10324 non-null  object \n",
      " 5   POSenttoVendorDate       10324 non-null  object \n",
      " 6   ScheduledDeliveryDate    10324 non-null  object \n",
      " 7   DeliveredtoClientDate    10324 non-null  object \n",
      " 8   DeliveryRecordedDate     10324 non-null  object \n",
      " 9   ProductGroup             10324 non-null  object \n",
      " 10  SubClassification        10324 non-null  object \n",
      " 11  Vendor                   10324 non-null  object \n",
      " 12  ItemDescription          10324 non-null  object \n",
      " 13  MoleculeTestType         10324 non-null  object \n",
      " 14  Brand                    10324 non-null  object \n",
      " 15  Dosage                   8588 non-null   object \n",
      " 16  DosageForm               10324 non-null  object \n",
      " 17  UnitofMeasurePerPack     10324 non-null  object \n",
      " 18  LineItemQuantity         10324 non-null  object \n",
      " 19  LineItemValue            10324 non-null  object \n",
      " 20  PackPrice                10324 non-null  object \n",
      " 21  UnitPrice                10324 non-null  object \n",
      " 22  ManufacturingSite        10324 non-null  object \n",
      " 23  FirstLineDesignation     10324 non-null  bool   \n",
      " 24  WeightKilograms          10324 non-null  object \n",
      " 25  FreightCostUSD           10324 non-null  object \n",
      " 26  LineItemInsuranceUSD     10037 non-null  object \n",
      " 27  Country_Cameroon         10324 non-null  uint8  \n",
      " 28  Country_Congo, DRC       10324 non-null  uint8  \n",
      " 29  Country_CÃ´te d'Ivoire   10324 non-null  uint8  \n",
      " 30  Country_Ethiopia         10324 non-null  uint8  \n",
      " 31  Country_Guyana           10324 non-null  uint8  \n",
      " 32  Country_Haiti            10324 non-null  uint8  \n",
      " 33  Country_Kenya            10324 non-null  uint8  \n",
      " 34  Country_Mozambique       10324 non-null  uint8  \n",
      " 35  Country_Namibia          10324 non-null  uint8  \n",
      " 36  Country_Nigeria          10324 non-null  uint8  \n",
      " 37  Country_Other            10324 non-null  uint8  \n",
      " 38  Country_Rwanda           10324 non-null  uint8  \n",
      " 39  Country_South Africa     10324 non-null  uint8  \n",
      " 40  Country_South Sudan      10324 non-null  uint8  \n",
      " 41  Country_Tanzania         10324 non-null  uint8  \n",
      " 42  Country_Uganda           10324 non-null  uint8  \n",
      " 43  Country_Vietnam          10324 non-null  uint8  \n",
      " 44  Country_Zambia           10324 non-null  uint8  \n",
      " 45  Country_Zimbabwe         10324 non-null  uint8  \n",
      "dtypes: bool(1), float64(3), object(23), uint8(19)\n",
      "memory usage: 2.2+ MB\n"
     ]
    }
   ],
   "source": [
    "df.info()"
   ]
  },
  {
   "cell_type": "markdown",
   "id": "90b68fdd",
   "metadata": {},
   "source": [
    "ShipmentMode"
   ]
  },
  {
   "cell_type": "code",
   "execution_count": 30,
   "id": "b6f6eadd",
   "metadata": {},
   "outputs": [
    {
     "data": {
      "text/plain": [
       "Air            6113\n",
       "Truck          2830\n",
       "Air Charter     650\n",
       "Ocean           371\n",
       "Name: ShipmentMode, dtype: int64"
      ]
     },
     "execution_count": 30,
     "metadata": {},
     "output_type": "execute_result"
    }
   ],
   "source": [
    "df[\"ShipmentMode\"].value_counts()"
   ]
  },
  {
   "cell_type": "code",
   "execution_count": 31,
   "id": "7bd8a533",
   "metadata": {},
   "outputs": [
    {
     "name": "stdout",
     "output_type": "stream",
     "text": [
      "<class 'pandas.core.frame.DataFrame'>\n",
      "RangeIndex: 10324 entries, 0 to 10323\n",
      "Data columns (total 48 columns):\n",
      " #   Column                    Non-Null Count  Dtype  \n",
      "---  ------                    --------------  -----  \n",
      " 0   ManagedBy                 10324 non-null  float64\n",
      " 1   FulfillVia                10324 non-null  float64\n",
      " 2   VendorINCOTerm            10324 non-null  float64\n",
      " 3   PQFirstSenttoClientDate   10324 non-null  object \n",
      " 4   POSenttoVendorDate        10324 non-null  object \n",
      " 5   ScheduledDeliveryDate     10324 non-null  object \n",
      " 6   DeliveredtoClientDate     10324 non-null  object \n",
      " 7   DeliveryRecordedDate      10324 non-null  object \n",
      " 8   ProductGroup              10324 non-null  object \n",
      " 9   SubClassification         10324 non-null  object \n",
      " 10  Vendor                    10324 non-null  object \n",
      " 11  ItemDescription           10324 non-null  object \n",
      " 12  MoleculeTestType          10324 non-null  object \n",
      " 13  Brand                     10324 non-null  object \n",
      " 14  Dosage                    8588 non-null   object \n",
      " 15  DosageForm                10324 non-null  object \n",
      " 16  UnitofMeasurePerPack      10324 non-null  object \n",
      " 17  LineItemQuantity          10324 non-null  object \n",
      " 18  LineItemValue             10324 non-null  object \n",
      " 19  PackPrice                 10324 non-null  object \n",
      " 20  UnitPrice                 10324 non-null  object \n",
      " 21  ManufacturingSite         10324 non-null  object \n",
      " 22  FirstLineDesignation      10324 non-null  bool   \n",
      " 23  WeightKilograms           10324 non-null  object \n",
      " 24  FreightCostUSD            10324 non-null  object \n",
      " 25  LineItemInsuranceUSD      10037 non-null  object \n",
      " 26  Country_Cameroon          10324 non-null  uint8  \n",
      " 27  Country_Congo, DRC        10324 non-null  uint8  \n",
      " 28  Country_CÃ´te d'Ivoire    10324 non-null  uint8  \n",
      " 29  Country_Ethiopia          10324 non-null  uint8  \n",
      " 30  Country_Guyana            10324 non-null  uint8  \n",
      " 31  Country_Haiti             10324 non-null  uint8  \n",
      " 32  Country_Kenya             10324 non-null  uint8  \n",
      " 33  Country_Mozambique        10324 non-null  uint8  \n",
      " 34  Country_Namibia           10324 non-null  uint8  \n",
      " 35  Country_Nigeria           10324 non-null  uint8  \n",
      " 36  Country_Other             10324 non-null  uint8  \n",
      " 37  Country_Rwanda            10324 non-null  uint8  \n",
      " 38  Country_South Africa      10324 non-null  uint8  \n",
      " 39  Country_South Sudan       10324 non-null  uint8  \n",
      " 40  Country_Tanzania          10324 non-null  uint8  \n",
      " 41  Country_Uganda            10324 non-null  uint8  \n",
      " 42  Country_Vietnam           10324 non-null  uint8  \n",
      " 43  Country_Zambia            10324 non-null  uint8  \n",
      " 44  Country_Zimbabwe          10324 non-null  uint8  \n",
      " 45  ShipmentMode_Air Charter  10324 non-null  uint8  \n",
      " 46  ShipmentMode_Ocean        10324 non-null  uint8  \n",
      " 47  ShipmentMode_Truck        10324 non-null  uint8  \n",
      "dtypes: bool(1), float64(3), object(22), uint8(22)\n",
      "memory usage: 2.2+ MB\n"
     ]
    }
   ],
   "source": [
    "D = df[[\"ShipmentMode\"]]\n",
    "D = pd.get_dummies(D, drop_first = True)\n",
    "\n",
    "df.drop(['ShipmentMode'],inplace=True,axis=1)\n",
    "\n",
    "df=pd.concat([df,D], axis = 1)\n",
    "df.info()"
   ]
  },
  {
   "cell_type": "markdown",
   "id": "a31e7b0e",
   "metadata": {},
   "source": [
    "PQFirstSenttoClientDate"
   ]
  },
  {
   "cell_type": "code",
   "execution_count": 32,
   "id": "f4cf8baa",
   "metadata": {},
   "outputs": [
    {
     "data": {
      "text/plain": [
       "Pre-PQ Process       2476\n",
       "9/11/2014             205\n",
       "Date Not Captured     205\n",
       "7/11/2013             173\n",
       "4/30/2014             123\n",
       "                     ... \n",
       "7/29/2010               1\n",
       "10/3/2011               1\n",
       "12/17/2013              1\n",
       "2/5/2015                1\n",
       "8/29/2013               1\n",
       "Name: PQFirstSenttoClientDate, Length: 765, dtype: int64"
      ]
     },
     "execution_count": 32,
     "metadata": {},
     "output_type": "execute_result"
    }
   ],
   "source": [
    "df[\"PQFirstSenttoClientDate\"].value_counts()"
   ]
  },
  {
   "cell_type": "code",
   "execution_count": 33,
   "id": "3e260ea5",
   "metadata": {},
   "outputs": [],
   "source": [
    "df.loc[df['PQFirstSenttoClientDate']!=\"Pre-PQ Process\", 'PQFirstSenttoClientDate'] =\"Other\""
   ]
  },
  {
   "cell_type": "code",
   "execution_count": 34,
   "id": "36f59f66",
   "metadata": {},
   "outputs": [],
   "source": [
    "List=list(np.array([\"Pre-PQ Process\"]+[\"Other\"]).reshape(1,2))\n",
    "ordinal_encoder = OrdinalEncoder(categories=List)\n",
    "df['PQFirstSenttoClientDate']=ordinal_encoder.fit_transform(np.array(df[['PQFirstSenttoClientDate']]))"
   ]
  },
  {
   "cell_type": "markdown",
   "id": "afcb67ec",
   "metadata": {},
   "source": [
    "POSenttoVendorDate"
   ]
  },
  {
   "cell_type": "code",
   "execution_count": 35,
   "id": "c7272555",
   "metadata": {},
   "outputs": [
    {
     "name": "stdout",
     "output_type": "stream",
     "text": [
      "<class 'pandas.core.frame.DataFrame'>\n",
      "RangeIndex: 10324 entries, 0 to 10323\n",
      "Data columns (total 48 columns):\n",
      " #   Column                    Non-Null Count  Dtype  \n",
      "---  ------                    --------------  -----  \n",
      " 0   ManagedBy                 10324 non-null  float64\n",
      " 1   FulfillVia                10324 non-null  float64\n",
      " 2   VendorINCOTerm            10324 non-null  float64\n",
      " 3   PQFirstSenttoClientDate   10324 non-null  float64\n",
      " 4   POSenttoVendorDate        10324 non-null  object \n",
      " 5   ScheduledDeliveryDate     10324 non-null  object \n",
      " 6   DeliveredtoClientDate     10324 non-null  object \n",
      " 7   DeliveryRecordedDate      10324 non-null  object \n",
      " 8   ProductGroup              10324 non-null  object \n",
      " 9   SubClassification         10324 non-null  object \n",
      " 10  Vendor                    10324 non-null  object \n",
      " 11  ItemDescription           10324 non-null  object \n",
      " 12  MoleculeTestType          10324 non-null  object \n",
      " 13  Brand                     10324 non-null  object \n",
      " 14  Dosage                    8588 non-null   object \n",
      " 15  DosageForm                10324 non-null  object \n",
      " 16  UnitofMeasurePerPack      10324 non-null  object \n",
      " 17  LineItemQuantity          10324 non-null  object \n",
      " 18  LineItemValue             10324 non-null  object \n",
      " 19  PackPrice                 10324 non-null  object \n",
      " 20  UnitPrice                 10324 non-null  object \n",
      " 21  ManufacturingSite         10324 non-null  object \n",
      " 22  FirstLineDesignation      10324 non-null  bool   \n",
      " 23  WeightKilograms           10324 non-null  object \n",
      " 24  FreightCostUSD            10324 non-null  object \n",
      " 25  LineItemInsuranceUSD      10037 non-null  object \n",
      " 26  Country_Cameroon          10324 non-null  uint8  \n",
      " 27  Country_Congo, DRC        10324 non-null  uint8  \n",
      " 28  Country_CÃ´te d'Ivoire    10324 non-null  uint8  \n",
      " 29  Country_Ethiopia          10324 non-null  uint8  \n",
      " 30  Country_Guyana            10324 non-null  uint8  \n",
      " 31  Country_Haiti             10324 non-null  uint8  \n",
      " 32  Country_Kenya             10324 non-null  uint8  \n",
      " 33  Country_Mozambique        10324 non-null  uint8  \n",
      " 34  Country_Namibia           10324 non-null  uint8  \n",
      " 35  Country_Nigeria           10324 non-null  uint8  \n",
      " 36  Country_Other             10324 non-null  uint8  \n",
      " 37  Country_Rwanda            10324 non-null  uint8  \n",
      " 38  Country_South Africa      10324 non-null  uint8  \n",
      " 39  Country_South Sudan       10324 non-null  uint8  \n",
      " 40  Country_Tanzania          10324 non-null  uint8  \n",
      " 41  Country_Uganda            10324 non-null  uint8  \n",
      " 42  Country_Vietnam           10324 non-null  uint8  \n",
      " 43  Country_Zambia            10324 non-null  uint8  \n",
      " 44  Country_Zimbabwe          10324 non-null  uint8  \n",
      " 45  ShipmentMode_Air Charter  10324 non-null  uint8  \n",
      " 46  ShipmentMode_Ocean        10324 non-null  uint8  \n",
      " 47  ShipmentMode_Truck        10324 non-null  uint8  \n",
      "dtypes: bool(1), float64(4), object(21), uint8(22)\n",
      "memory usage: 2.2+ MB\n"
     ]
    }
   ],
   "source": [
    "df[\"POSenttoVendorDate\"].value_counts()\n",
    "df.info()"
   ]
  },
  {
   "cell_type": "code",
   "execution_count": 36,
   "id": "4a69a20b",
   "metadata": {},
   "outputs": [],
   "source": [
    "df.loc[(df['POSenttoVendorDate']!=\"N/A - From RDC\") &(df['POSenttoVendorDate']!=\"Date Not Captured\"), 'POSenttoVendorDate'] =\"Other\""
   ]
  },
  {
   "cell_type": "code",
   "execution_count": 37,
   "id": "d85ee243",
   "metadata": {},
   "outputs": [],
   "source": [
    "List=list(np.array([\"Date Not Captured\",\"N/A - From RDC\"]+[\"Other\"]).reshape(1,3))\n",
    "ordinal_encoder = OrdinalEncoder(categories=List)\n",
    "df['POSenttoVendorDate']=ordinal_encoder.fit_transform(np.array(df[['POSenttoVendorDate']]))"
   ]
  },
  {
   "cell_type": "markdown",
   "id": "3cbda8df",
   "metadata": {},
   "source": [
    "ScheduledDeliveryDate,DeliveredtoClientDate,DeliveryRecordedDate"
   ]
  },
  {
   "cell_type": "code",
   "execution_count": 38,
   "id": "7f9c5c1d",
   "metadata": {},
   "outputs": [
    {
     "name": "stdout",
     "output_type": "stream",
     "text": [
      "<class 'pandas.core.frame.DataFrame'>\n",
      "RangeIndex: 10324 entries, 0 to 10323\n",
      "Data columns (total 45 columns):\n",
      " #   Column                    Non-Null Count  Dtype  \n",
      "---  ------                    --------------  -----  \n",
      " 0   ManagedBy                 10324 non-null  float64\n",
      " 1   FulfillVia                10324 non-null  float64\n",
      " 2   VendorINCOTerm            10324 non-null  float64\n",
      " 3   PQFirstSenttoClientDate   10324 non-null  float64\n",
      " 4   POSenttoVendorDate        10324 non-null  float64\n",
      " 5   ProductGroup              10324 non-null  object \n",
      " 6   SubClassification         10324 non-null  object \n",
      " 7   Vendor                    10324 non-null  object \n",
      " 8   ItemDescription           10324 non-null  object \n",
      " 9   MoleculeTestType          10324 non-null  object \n",
      " 10  Brand                     10324 non-null  object \n",
      " 11  Dosage                    8588 non-null   object \n",
      " 12  DosageForm                10324 non-null  object \n",
      " 13  UnitofMeasurePerPack      10324 non-null  object \n",
      " 14  LineItemQuantity          10324 non-null  object \n",
      " 15  LineItemValue             10324 non-null  object \n",
      " 16  PackPrice                 10324 non-null  object \n",
      " 17  UnitPrice                 10324 non-null  object \n",
      " 18  ManufacturingSite         10324 non-null  object \n",
      " 19  FirstLineDesignation      10324 non-null  bool   \n",
      " 20  WeightKilograms           10324 non-null  object \n",
      " 21  FreightCostUSD            10324 non-null  object \n",
      " 22  LineItemInsuranceUSD      10037 non-null  object \n",
      " 23  Country_Cameroon          10324 non-null  uint8  \n",
      " 24  Country_Congo, DRC        10324 non-null  uint8  \n",
      " 25  Country_CÃ´te d'Ivoire    10324 non-null  uint8  \n",
      " 26  Country_Ethiopia          10324 non-null  uint8  \n",
      " 27  Country_Guyana            10324 non-null  uint8  \n",
      " 28  Country_Haiti             10324 non-null  uint8  \n",
      " 29  Country_Kenya             10324 non-null  uint8  \n",
      " 30  Country_Mozambique        10324 non-null  uint8  \n",
      " 31  Country_Namibia           10324 non-null  uint8  \n",
      " 32  Country_Nigeria           10324 non-null  uint8  \n",
      " 33  Country_Other             10324 non-null  uint8  \n",
      " 34  Country_Rwanda            10324 non-null  uint8  \n",
      " 35  Country_South Africa      10324 non-null  uint8  \n",
      " 36  Country_South Sudan       10324 non-null  uint8  \n",
      " 37  Country_Tanzania          10324 non-null  uint8  \n",
      " 38  Country_Uganda            10324 non-null  uint8  \n",
      " 39  Country_Vietnam           10324 non-null  uint8  \n",
      " 40  Country_Zambia            10324 non-null  uint8  \n",
      " 41  Country_Zimbabwe          10324 non-null  uint8  \n",
      " 42  ShipmentMode_Air Charter  10324 non-null  uint8  \n",
      " 43  ShipmentMode_Ocean        10324 non-null  uint8  \n",
      " 44  ShipmentMode_Truck        10324 non-null  uint8  \n",
      "dtypes: bool(1), float64(5), object(17), uint8(22)\n",
      "memory usage: 2.0+ MB\n"
     ]
    }
   ],
   "source": [
    "df=df.drop(['ScheduledDeliveryDate','DeliveredtoClientDate','DeliveryRecordedDate'],axis=1)\n",
    "df.info()"
   ]
  },
  {
   "cell_type": "markdown",
   "id": "7ab567eb",
   "metadata": {},
   "source": [
    "ProductGroup"
   ]
  },
  {
   "cell_type": "code",
   "execution_count": 39,
   "id": "8727b4be",
   "metadata": {},
   "outputs": [
    {
     "data": {
      "text/plain": [
       "ARV     8550\n",
       "HRDT    1728\n",
       "ANTM      22\n",
       "ACT       16\n",
       "MRDT       8\n",
       "Name: ProductGroup, dtype: int64"
      ]
     },
     "execution_count": 39,
     "metadata": {},
     "output_type": "execute_result"
    }
   ],
   "source": [
    "df[\"ProductGroup\"].value_counts()"
   ]
  },
  {
   "cell_type": "code",
   "execution_count": 40,
   "id": "38d20a2d",
   "metadata": {},
   "outputs": [],
   "source": [
    "D = df[[\"ProductGroup\"]]\n",
    "D = pd.get_dummies(D, drop_first = True)\n",
    "\n",
    "df.drop(['ProductGroup'],inplace=True,axis=1)\n",
    "\n",
    "df=pd.concat([df,D], axis = 1)"
   ]
  },
  {
   "cell_type": "markdown",
   "id": "1fd3817d",
   "metadata": {},
   "source": [
    "SubClassification"
   ]
  },
  {
   "cell_type": "code",
   "execution_count": 41,
   "id": "b4097273",
   "metadata": {},
   "outputs": [],
   "source": [
    "D = df[[\"SubClassification\"]]\n",
    "D = pd.get_dummies(D, drop_first = True)\n",
    "\n",
    "df.drop(['SubClassification'],inplace=True,axis=1)\n",
    "\n",
    "df=pd.concat([df,D], axis = 1)"
   ]
  },
  {
   "cell_type": "markdown",
   "id": "6a1abdef",
   "metadata": {},
   "source": [
    "Vendor"
   ]
  },
  {
   "cell_type": "code",
   "execution_count": 42,
   "id": "9d31549c",
   "metadata": {},
   "outputs": [],
   "source": [
    "\n",
    "df.loc[(df['Vendor']!=\"SCMS from RDC\"), 'Vendor'] =\"Other\"\n",
    "List=list(np.array([\"SCMS from RDC\"]+[\"Other\"]).reshape(1,2))\n",
    "ordinal_encoder = OrdinalEncoder(categories=List)\n",
    "df['Vendor']=ordinal_encoder.fit_transform(np.array(df[['Vendor']]))"
   ]
  },
  {
   "cell_type": "code",
   "execution_count": 43,
   "id": "80a3f74a",
   "metadata": {},
   "outputs": [
    {
     "data": {
      "text/plain": [
       "0.0    5404\n",
       "1.0    4920\n",
       "Name: Vendor, dtype: int64"
      ]
     },
     "execution_count": 43,
     "metadata": {},
     "output_type": "execute_result"
    }
   ],
   "source": [
    "df[\"Vendor\"].value_counts()"
   ]
  },
  {
   "cell_type": "code",
   "execution_count": 44,
   "id": "0cdf1f35",
   "metadata": {},
   "outputs": [
    {
     "name": "stdout",
     "output_type": "stream",
     "text": [
      "<class 'pandas.core.frame.DataFrame'>\n",
      "RangeIndex: 10324 entries, 0 to 10323\n",
      "Data columns (total 52 columns):\n",
      " #   Column                                  Non-Null Count  Dtype  \n",
      "---  ------                                  --------------  -----  \n",
      " 0   ManagedBy                               10324 non-null  float64\n",
      " 1   FulfillVia                              10324 non-null  float64\n",
      " 2   VendorINCOTerm                          10324 non-null  float64\n",
      " 3   PQFirstSenttoClientDate                 10324 non-null  float64\n",
      " 4   POSenttoVendorDate                      10324 non-null  float64\n",
      " 5   Vendor                                  10324 non-null  float64\n",
      " 6   ItemDescription                         10324 non-null  object \n",
      " 7   MoleculeTestType                        10324 non-null  object \n",
      " 8   Brand                                   10324 non-null  object \n",
      " 9   Dosage                                  8588 non-null   object \n",
      " 10  DosageForm                              10324 non-null  object \n",
      " 11  UnitofMeasurePerPack                    10324 non-null  object \n",
      " 12  LineItemQuantity                        10324 non-null  object \n",
      " 13  LineItemValue                           10324 non-null  object \n",
      " 14  PackPrice                               10324 non-null  object \n",
      " 15  UnitPrice                               10324 non-null  object \n",
      " 16  ManufacturingSite                       10324 non-null  object \n",
      " 17  FirstLineDesignation                    10324 non-null  bool   \n",
      " 18  WeightKilograms                         10324 non-null  object \n",
      " 19  FreightCostUSD                          10324 non-null  object \n",
      " 20  LineItemInsuranceUSD                    10037 non-null  object \n",
      " 21  Country_Cameroon                        10324 non-null  uint8  \n",
      " 22  Country_Congo, DRC                      10324 non-null  uint8  \n",
      " 23  Country_CÃ´te d'Ivoire                  10324 non-null  uint8  \n",
      " 24  Country_Ethiopia                        10324 non-null  uint8  \n",
      " 25  Country_Guyana                          10324 non-null  uint8  \n",
      " 26  Country_Haiti                           10324 non-null  uint8  \n",
      " 27  Country_Kenya                           10324 non-null  uint8  \n",
      " 28  Country_Mozambique                      10324 non-null  uint8  \n",
      " 29  Country_Namibia                         10324 non-null  uint8  \n",
      " 30  Country_Nigeria                         10324 non-null  uint8  \n",
      " 31  Country_Other                           10324 non-null  uint8  \n",
      " 32  Country_Rwanda                          10324 non-null  uint8  \n",
      " 33  Country_South Africa                    10324 non-null  uint8  \n",
      " 34  Country_South Sudan                     10324 non-null  uint8  \n",
      " 35  Country_Tanzania                        10324 non-null  uint8  \n",
      " 36  Country_Uganda                          10324 non-null  uint8  \n",
      " 37  Country_Vietnam                         10324 non-null  uint8  \n",
      " 38  Country_Zambia                          10324 non-null  uint8  \n",
      " 39  Country_Zimbabwe                        10324 non-null  uint8  \n",
      " 40  ShipmentMode_Air Charter                10324 non-null  uint8  \n",
      " 41  ShipmentMode_Ocean                      10324 non-null  uint8  \n",
      " 42  ShipmentMode_Truck                      10324 non-null  uint8  \n",
      " 43  ProductGroup_ANTM                       10324 non-null  uint8  \n",
      " 44  ProductGroup_ARV                        10324 non-null  uint8  \n",
      " 45  ProductGroup_HRDT                       10324 non-null  uint8  \n",
      " 46  ProductGroup_MRDT                       10324 non-null  uint8  \n",
      " 47  SubClassification_Adult                 10324 non-null  uint8  \n",
      " 48  SubClassification_HIV test              10324 non-null  uint8  \n",
      " 49  SubClassification_HIV test - Ancillary  10324 non-null  uint8  \n",
      " 50  SubClassification_Malaria               10324 non-null  uint8  \n",
      " 51  SubClassification_Pediatric             10324 non-null  uint8  \n",
      "dtypes: bool(1), float64(6), object(14), uint8(31)\n",
      "memory usage: 1.9+ MB\n"
     ]
    }
   ],
   "source": [
    "df.info()"
   ]
  },
  {
   "cell_type": "markdown",
   "id": "99dd61be",
   "metadata": {},
   "source": [
    "ItemDescription"
   ]
  },
  {
   "cell_type": "code",
   "execution_count": 45,
   "id": "242443fe",
   "metadata": {},
   "outputs": [
    {
     "data": {
      "text/plain": [
       "Efavirenz 600mg, tablets, 30 Tabs                                                755\n",
       "Nevirapine 200mg, tablets, 60 Tabs                                               623\n",
       "Lamivudine/Zidovudine 150/300mg, tablets, 60 Tabs                                597\n",
       "Lamivudine/Nevirapine/Zidovudine 150/200/300mg, tablets, 60 Tabs                 580\n",
       "HIV 1/2, Determine Complete HIV Kit, 100 Tests                                   577\n",
       "                                                                                ... \n",
       "Lamivudine/Zidovudine+Abacavir 150/300+300mg, tablets, co-blister, 60+60 Tabs      1\n",
       "HIV, Pepti-LAV 1|2 (HIV-1|2 Ab differenciation, Immuno-Blot)                       1\n",
       "Malaria Antigen P.f Kit, 30 x 1 Test                                               1\n",
       "Lopinavir/Ritonavir 80/20mg/ml [Kaletra], oral solution, cool, Bottle, 160 ml      1\n",
       "Lopinavir/Ritonavir 200/50mg, [DON] tablets, 120 Tabs                              1\n",
       "Name: ItemDescription, Length: 184, dtype: int64"
      ]
     },
     "execution_count": 45,
     "metadata": {},
     "output_type": "execute_result"
    }
   ],
   "source": [
    "df[\"ItemDescription\"].value_counts()"
   ]
  },
  {
   "cell_type": "code",
   "execution_count": 46,
   "id": "a740911b",
   "metadata": {},
   "outputs": [],
   "source": [
    "df=df.drop(\"ItemDescription\",axis=1)"
   ]
  },
  {
   "cell_type": "code",
   "execution_count": 47,
   "id": "0f84af08",
   "metadata": {},
   "outputs": [],
   "source": [
    "df=df.drop(\"MoleculeTestType\",axis=1)"
   ]
  },
  {
   "cell_type": "markdown",
   "id": "f8bb163e",
   "metadata": {},
   "source": []
  },
  {
   "cell_type": "code",
   "execution_count": 48,
   "id": "b55f2619",
   "metadata": {},
   "outputs": [
    {
     "name": "stdout",
     "output_type": "stream",
     "text": [
      "<class 'pandas.core.frame.DataFrame'>\n",
      "RangeIndex: 10324 entries, 0 to 10323\n",
      "Data columns (total 49 columns):\n",
      " #   Column                                  Non-Null Count  Dtype  \n",
      "---  ------                                  --------------  -----  \n",
      " 0   ManagedBy                               10324 non-null  float64\n",
      " 1   FulfillVia                              10324 non-null  float64\n",
      " 2   VendorINCOTerm                          10324 non-null  float64\n",
      " 3   PQFirstSenttoClientDate                 10324 non-null  float64\n",
      " 4   POSenttoVendorDate                      10324 non-null  float64\n",
      " 5   Vendor                                  10324 non-null  float64\n",
      " 6   Dosage                                  8588 non-null   object \n",
      " 7   DosageForm                              10324 non-null  object \n",
      " 8   UnitofMeasurePerPack                    10324 non-null  object \n",
      " 9   LineItemQuantity                        10324 non-null  object \n",
      " 10  LineItemValue                           10324 non-null  object \n",
      " 11  PackPrice                               10324 non-null  object \n",
      " 12  UnitPrice                               10324 non-null  object \n",
      " 13  ManufacturingSite                       10324 non-null  object \n",
      " 14  FirstLineDesignation                    10324 non-null  bool   \n",
      " 15  WeightKilograms                         10324 non-null  object \n",
      " 16  FreightCostUSD                          10324 non-null  object \n",
      " 17  LineItemInsuranceUSD                    10037 non-null  object \n",
      " 18  Country_Cameroon                        10324 non-null  uint8  \n",
      " 19  Country_Congo, DRC                      10324 non-null  uint8  \n",
      " 20  Country_CÃ´te d'Ivoire                  10324 non-null  uint8  \n",
      " 21  Country_Ethiopia                        10324 non-null  uint8  \n",
      " 22  Country_Guyana                          10324 non-null  uint8  \n",
      " 23  Country_Haiti                           10324 non-null  uint8  \n",
      " 24  Country_Kenya                           10324 non-null  uint8  \n",
      " 25  Country_Mozambique                      10324 non-null  uint8  \n",
      " 26  Country_Namibia                         10324 non-null  uint8  \n",
      " 27  Country_Nigeria                         10324 non-null  uint8  \n",
      " 28  Country_Other                           10324 non-null  uint8  \n",
      " 29  Country_Rwanda                          10324 non-null  uint8  \n",
      " 30  Country_South Africa                    10324 non-null  uint8  \n",
      " 31  Country_South Sudan                     10324 non-null  uint8  \n",
      " 32  Country_Tanzania                        10324 non-null  uint8  \n",
      " 33  Country_Uganda                          10324 non-null  uint8  \n",
      " 34  Country_Vietnam                         10324 non-null  uint8  \n",
      " 35  Country_Zambia                          10324 non-null  uint8  \n",
      " 36  Country_Zimbabwe                        10324 non-null  uint8  \n",
      " 37  ShipmentMode_Air Charter                10324 non-null  uint8  \n",
      " 38  ShipmentMode_Ocean                      10324 non-null  uint8  \n",
      " 39  ShipmentMode_Truck                      10324 non-null  uint8  \n",
      " 40  ProductGroup_ANTM                       10324 non-null  uint8  \n",
      " 41  ProductGroup_ARV                        10324 non-null  uint8  \n",
      " 42  ProductGroup_HRDT                       10324 non-null  uint8  \n",
      " 43  ProductGroup_MRDT                       10324 non-null  uint8  \n",
      " 44  SubClassification_Adult                 10324 non-null  uint8  \n",
      " 45  SubClassification_HIV test              10324 non-null  uint8  \n",
      " 46  SubClassification_HIV test - Ancillary  10324 non-null  uint8  \n",
      " 47  SubClassification_Malaria               10324 non-null  uint8  \n",
      " 48  SubClassification_Pediatric             10324 non-null  uint8  \n",
      "dtypes: bool(1), float64(6), object(11), uint8(31)\n",
      "memory usage: 1.7+ MB\n"
     ]
    }
   ],
   "source": [
    "df.drop(\"Brand\",inplace=True,axis=1)\n",
    "df.info()"
   ]
  },
  {
   "cell_type": "markdown",
   "id": "bf993f61",
   "metadata": {},
   "source": []
  },
  {
   "cell_type": "code",
   "execution_count": 49,
   "id": "7581c945",
   "metadata": {},
   "outputs": [],
   "source": [
    "df=df.drop([\"Dosage\",\"DosageForm\",\"ManufacturingSite\"],axis=1)"
   ]
  },
  {
   "cell_type": "markdown",
   "id": "ad3685b4",
   "metadata": {},
   "source": []
  },
  {
   "cell_type": "code",
   "execution_count": 50,
   "id": "2e204334",
   "metadata": {},
   "outputs": [
    {
     "data": {
      "text/html": [
       "<div>\n",
       "<style scoped>\n",
       "    .dataframe tbody tr th:only-of-type {\n",
       "        vertical-align: middle;\n",
       "    }\n",
       "\n",
       "    .dataframe tbody tr th {\n",
       "        vertical-align: top;\n",
       "    }\n",
       "\n",
       "    .dataframe thead th {\n",
       "        text-align: right;\n",
       "    }\n",
       "</style>\n",
       "<table border=\"1\" class=\"dataframe\">\n",
       "  <thead>\n",
       "    <tr style=\"text-align: right;\">\n",
       "      <th></th>\n",
       "      <th>ManagedBy</th>\n",
       "      <th>FulfillVia</th>\n",
       "      <th>VendorINCOTerm</th>\n",
       "      <th>PQFirstSenttoClientDate</th>\n",
       "      <th>POSenttoVendorDate</th>\n",
       "      <th>Vendor</th>\n",
       "      <th>UnitofMeasurePerPack</th>\n",
       "      <th>LineItemQuantity</th>\n",
       "      <th>LineItemValue</th>\n",
       "      <th>PackPrice</th>\n",
       "      <th>UnitPrice</th>\n",
       "      <th>FirstLineDesignation</th>\n",
       "      <th>WeightKilograms</th>\n",
       "      <th>FreightCostUSD</th>\n",
       "      <th>LineItemInsuranceUSD</th>\n",
       "      <th>Country_Cameroon</th>\n",
       "      <th>Country_Congo, DRC</th>\n",
       "      <th>Country_CÃ´te d'Ivoire</th>\n",
       "      <th>Country_Ethiopia</th>\n",
       "      <th>Country_Guyana</th>\n",
       "      <th>Country_Haiti</th>\n",
       "      <th>Country_Kenya</th>\n",
       "      <th>Country_Mozambique</th>\n",
       "      <th>Country_Namibia</th>\n",
       "      <th>Country_Nigeria</th>\n",
       "      <th>Country_Other</th>\n",
       "      <th>Country_Rwanda</th>\n",
       "      <th>Country_South Africa</th>\n",
       "      <th>Country_South Sudan</th>\n",
       "      <th>Country_Tanzania</th>\n",
       "      <th>Country_Uganda</th>\n",
       "      <th>Country_Vietnam</th>\n",
       "      <th>Country_Zambia</th>\n",
       "      <th>Country_Zimbabwe</th>\n",
       "      <th>ShipmentMode_Air Charter</th>\n",
       "      <th>ShipmentMode_Ocean</th>\n",
       "      <th>ShipmentMode_Truck</th>\n",
       "      <th>ProductGroup_ANTM</th>\n",
       "      <th>ProductGroup_ARV</th>\n",
       "      <th>ProductGroup_HRDT</th>\n",
       "      <th>ProductGroup_MRDT</th>\n",
       "      <th>SubClassification_Adult</th>\n",
       "      <th>SubClassification_HIV test</th>\n",
       "      <th>SubClassification_HIV test - Ancillary</th>\n",
       "      <th>SubClassification_Malaria</th>\n",
       "      <th>SubClassification_Pediatric</th>\n",
       "    </tr>\n",
       "  </thead>\n",
       "  <tbody>\n",
       "    <tr>\n",
       "      <th>0</th>\n",
       "      <td>1.0</td>\n",
       "      <td>0.0</td>\n",
       "      <td>1.0</td>\n",
       "      <td>0.0</td>\n",
       "      <td>0.0</td>\n",
       "      <td>1.0</td>\n",
       "      <td>30</td>\n",
       "      <td>19</td>\n",
       "      <td>551.00</td>\n",
       "      <td>29.00</td>\n",
       "      <td>0.97</td>\n",
       "      <td>True</td>\n",
       "      <td>13.0</td>\n",
       "      <td>780.34</td>\n",
       "      <td>None</td>\n",
       "      <td>0</td>\n",
       "      <td>0</td>\n",
       "      <td>1</td>\n",
       "      <td>0</td>\n",
       "      <td>0</td>\n",
       "      <td>0</td>\n",
       "      <td>0</td>\n",
       "      <td>0</td>\n",
       "      <td>0</td>\n",
       "      <td>0</td>\n",
       "      <td>0</td>\n",
       "      <td>0</td>\n",
       "      <td>0</td>\n",
       "      <td>0</td>\n",
       "      <td>0</td>\n",
       "      <td>0</td>\n",
       "      <td>0</td>\n",
       "      <td>0</td>\n",
       "      <td>0</td>\n",
       "      <td>0</td>\n",
       "      <td>0</td>\n",
       "      <td>0</td>\n",
       "      <td>0</td>\n",
       "      <td>0</td>\n",
       "      <td>1</td>\n",
       "      <td>0</td>\n",
       "      <td>0</td>\n",
       "      <td>1</td>\n",
       "      <td>0</td>\n",
       "      <td>0</td>\n",
       "      <td>0</td>\n",
       "    </tr>\n",
       "    <tr>\n",
       "      <th>1</th>\n",
       "      <td>1.0</td>\n",
       "      <td>0.0</td>\n",
       "      <td>1.0</td>\n",
       "      <td>0.0</td>\n",
       "      <td>0.0</td>\n",
       "      <td>1.0</td>\n",
       "      <td>240</td>\n",
       "      <td>1000</td>\n",
       "      <td>6200.00</td>\n",
       "      <td>6.20</td>\n",
       "      <td>0.03</td>\n",
       "      <td>True</td>\n",
       "      <td>358.0</td>\n",
       "      <td>4521.50</td>\n",
       "      <td>None</td>\n",
       "      <td>0</td>\n",
       "      <td>0</td>\n",
       "      <td>0</td>\n",
       "      <td>0</td>\n",
       "      <td>0</td>\n",
       "      <td>0</td>\n",
       "      <td>0</td>\n",
       "      <td>0</td>\n",
       "      <td>0</td>\n",
       "      <td>0</td>\n",
       "      <td>0</td>\n",
       "      <td>0</td>\n",
       "      <td>0</td>\n",
       "      <td>0</td>\n",
       "      <td>0</td>\n",
       "      <td>0</td>\n",
       "      <td>1</td>\n",
       "      <td>0</td>\n",
       "      <td>0</td>\n",
       "      <td>0</td>\n",
       "      <td>0</td>\n",
       "      <td>0</td>\n",
       "      <td>0</td>\n",
       "      <td>1</td>\n",
       "      <td>0</td>\n",
       "      <td>0</td>\n",
       "      <td>0</td>\n",
       "      <td>0</td>\n",
       "      <td>0</td>\n",
       "      <td>0</td>\n",
       "      <td>1</td>\n",
       "    </tr>\n",
       "    <tr>\n",
       "      <th>2</th>\n",
       "      <td>1.0</td>\n",
       "      <td>0.0</td>\n",
       "      <td>3.0</td>\n",
       "      <td>0.0</td>\n",
       "      <td>0.0</td>\n",
       "      <td>1.0</td>\n",
       "      <td>100</td>\n",
       "      <td>500</td>\n",
       "      <td>40000.00</td>\n",
       "      <td>80.00</td>\n",
       "      <td>0.80</td>\n",
       "      <td>True</td>\n",
       "      <td>171.0</td>\n",
       "      <td>1653.78</td>\n",
       "      <td>None</td>\n",
       "      <td>0</td>\n",
       "      <td>0</td>\n",
       "      <td>1</td>\n",
       "      <td>0</td>\n",
       "      <td>0</td>\n",
       "      <td>0</td>\n",
       "      <td>0</td>\n",
       "      <td>0</td>\n",
       "      <td>0</td>\n",
       "      <td>0</td>\n",
       "      <td>0</td>\n",
       "      <td>0</td>\n",
       "      <td>0</td>\n",
       "      <td>0</td>\n",
       "      <td>0</td>\n",
       "      <td>0</td>\n",
       "      <td>0</td>\n",
       "      <td>0</td>\n",
       "      <td>0</td>\n",
       "      <td>0</td>\n",
       "      <td>0</td>\n",
       "      <td>0</td>\n",
       "      <td>0</td>\n",
       "      <td>0</td>\n",
       "      <td>1</td>\n",
       "      <td>0</td>\n",
       "      <td>0</td>\n",
       "      <td>1</td>\n",
       "      <td>0</td>\n",
       "      <td>0</td>\n",
       "      <td>0</td>\n",
       "    </tr>\n",
       "    <tr>\n",
       "      <th>3</th>\n",
       "      <td>1.0</td>\n",
       "      <td>0.0</td>\n",
       "      <td>1.0</td>\n",
       "      <td>0.0</td>\n",
       "      <td>0.0</td>\n",
       "      <td>1.0</td>\n",
       "      <td>60</td>\n",
       "      <td>31920</td>\n",
       "      <td>127360.80</td>\n",
       "      <td>3.99</td>\n",
       "      <td>0.07</td>\n",
       "      <td>True</td>\n",
       "      <td>1855.0</td>\n",
       "      <td>16007.06</td>\n",
       "      <td>None</td>\n",
       "      <td>0</td>\n",
       "      <td>0</td>\n",
       "      <td>0</td>\n",
       "      <td>0</td>\n",
       "      <td>0</td>\n",
       "      <td>0</td>\n",
       "      <td>0</td>\n",
       "      <td>0</td>\n",
       "      <td>0</td>\n",
       "      <td>0</td>\n",
       "      <td>0</td>\n",
       "      <td>0</td>\n",
       "      <td>0</td>\n",
       "      <td>0</td>\n",
       "      <td>0</td>\n",
       "      <td>0</td>\n",
       "      <td>1</td>\n",
       "      <td>0</td>\n",
       "      <td>0</td>\n",
       "      <td>0</td>\n",
       "      <td>0</td>\n",
       "      <td>0</td>\n",
       "      <td>0</td>\n",
       "      <td>1</td>\n",
       "      <td>0</td>\n",
       "      <td>0</td>\n",
       "      <td>1</td>\n",
       "      <td>0</td>\n",
       "      <td>0</td>\n",
       "      <td>0</td>\n",
       "      <td>0</td>\n",
       "    </tr>\n",
       "    <tr>\n",
       "      <th>4</th>\n",
       "      <td>1.0</td>\n",
       "      <td>0.0</td>\n",
       "      <td>1.0</td>\n",
       "      <td>0.0</td>\n",
       "      <td>0.0</td>\n",
       "      <td>1.0</td>\n",
       "      <td>60</td>\n",
       "      <td>38000</td>\n",
       "      <td>121600.00</td>\n",
       "      <td>3.20</td>\n",
       "      <td>0.05</td>\n",
       "      <td>True</td>\n",
       "      <td>7590.0</td>\n",
       "      <td>45450.08</td>\n",
       "      <td>None</td>\n",
       "      <td>0</td>\n",
       "      <td>0</td>\n",
       "      <td>0</td>\n",
       "      <td>0</td>\n",
       "      <td>0</td>\n",
       "      <td>0</td>\n",
       "      <td>0</td>\n",
       "      <td>0</td>\n",
       "      <td>0</td>\n",
       "      <td>0</td>\n",
       "      <td>0</td>\n",
       "      <td>0</td>\n",
       "      <td>0</td>\n",
       "      <td>0</td>\n",
       "      <td>0</td>\n",
       "      <td>0</td>\n",
       "      <td>1</td>\n",
       "      <td>0</td>\n",
       "      <td>0</td>\n",
       "      <td>0</td>\n",
       "      <td>0</td>\n",
       "      <td>0</td>\n",
       "      <td>0</td>\n",
       "      <td>1</td>\n",
       "      <td>0</td>\n",
       "      <td>0</td>\n",
       "      <td>1</td>\n",
       "      <td>0</td>\n",
       "      <td>0</td>\n",
       "      <td>0</td>\n",
       "      <td>0</td>\n",
       "    </tr>\n",
       "    <tr>\n",
       "      <th>...</th>\n",
       "      <td>...</td>\n",
       "      <td>...</td>\n",
       "      <td>...</td>\n",
       "      <td>...</td>\n",
       "      <td>...</td>\n",
       "      <td>...</td>\n",
       "      <td>...</td>\n",
       "      <td>...</td>\n",
       "      <td>...</td>\n",
       "      <td>...</td>\n",
       "      <td>...</td>\n",
       "      <td>...</td>\n",
       "      <td>...</td>\n",
       "      <td>...</td>\n",
       "      <td>...</td>\n",
       "      <td>...</td>\n",
       "      <td>...</td>\n",
       "      <td>...</td>\n",
       "      <td>...</td>\n",
       "      <td>...</td>\n",
       "      <td>...</td>\n",
       "      <td>...</td>\n",
       "      <td>...</td>\n",
       "      <td>...</td>\n",
       "      <td>...</td>\n",
       "      <td>...</td>\n",
       "      <td>...</td>\n",
       "      <td>...</td>\n",
       "      <td>...</td>\n",
       "      <td>...</td>\n",
       "      <td>...</td>\n",
       "      <td>...</td>\n",
       "      <td>...</td>\n",
       "      <td>...</td>\n",
       "      <td>...</td>\n",
       "      <td>...</td>\n",
       "      <td>...</td>\n",
       "      <td>...</td>\n",
       "      <td>...</td>\n",
       "      <td>...</td>\n",
       "      <td>...</td>\n",
       "      <td>...</td>\n",
       "      <td>...</td>\n",
       "      <td>...</td>\n",
       "      <td>...</td>\n",
       "      <td>...</td>\n",
       "    </tr>\n",
       "    <tr>\n",
       "      <th>10319</th>\n",
       "      <td>1.0</td>\n",
       "      <td>1.0</td>\n",
       "      <td>0.0</td>\n",
       "      <td>1.0</td>\n",
       "      <td>1.0</td>\n",
       "      <td>0.0</td>\n",
       "      <td>60</td>\n",
       "      <td>166571</td>\n",
       "      <td>599655.60</td>\n",
       "      <td>3.60</td>\n",
       "      <td>0.06</td>\n",
       "      <td>False</td>\n",
       "      <td>NaN</td>\n",
       "      <td>NaN</td>\n",
       "      <td>705.79</td>\n",
       "      <td>0</td>\n",
       "      <td>0</td>\n",
       "      <td>0</td>\n",
       "      <td>0</td>\n",
       "      <td>0</td>\n",
       "      <td>0</td>\n",
       "      <td>0</td>\n",
       "      <td>0</td>\n",
       "      <td>0</td>\n",
       "      <td>0</td>\n",
       "      <td>0</td>\n",
       "      <td>0</td>\n",
       "      <td>0</td>\n",
       "      <td>0</td>\n",
       "      <td>0</td>\n",
       "      <td>0</td>\n",
       "      <td>0</td>\n",
       "      <td>0</td>\n",
       "      <td>1</td>\n",
       "      <td>0</td>\n",
       "      <td>0</td>\n",
       "      <td>1</td>\n",
       "      <td>0</td>\n",
       "      <td>1</td>\n",
       "      <td>0</td>\n",
       "      <td>0</td>\n",
       "      <td>0</td>\n",
       "      <td>0</td>\n",
       "      <td>0</td>\n",
       "      <td>0</td>\n",
       "      <td>1</td>\n",
       "    </tr>\n",
       "    <tr>\n",
       "      <th>10320</th>\n",
       "      <td>1.0</td>\n",
       "      <td>1.0</td>\n",
       "      <td>0.0</td>\n",
       "      <td>1.0</td>\n",
       "      <td>1.0</td>\n",
       "      <td>0.0</td>\n",
       "      <td>60</td>\n",
       "      <td>21072</td>\n",
       "      <td>137389.44</td>\n",
       "      <td>6.52</td>\n",
       "      <td>0.11</td>\n",
       "      <td>False</td>\n",
       "      <td>NaN</td>\n",
       "      <td>NaN</td>\n",
       "      <td>161.71</td>\n",
       "      <td>0</td>\n",
       "      <td>0</td>\n",
       "      <td>1</td>\n",
       "      <td>0</td>\n",
       "      <td>0</td>\n",
       "      <td>0</td>\n",
       "      <td>0</td>\n",
       "      <td>0</td>\n",
       "      <td>0</td>\n",
       "      <td>0</td>\n",
       "      <td>0</td>\n",
       "      <td>0</td>\n",
       "      <td>0</td>\n",
       "      <td>0</td>\n",
       "      <td>0</td>\n",
       "      <td>0</td>\n",
       "      <td>0</td>\n",
       "      <td>0</td>\n",
       "      <td>0</td>\n",
       "      <td>0</td>\n",
       "      <td>0</td>\n",
       "      <td>1</td>\n",
       "      <td>0</td>\n",
       "      <td>1</td>\n",
       "      <td>0</td>\n",
       "      <td>0</td>\n",
       "      <td>1</td>\n",
       "      <td>0</td>\n",
       "      <td>0</td>\n",
       "      <td>0</td>\n",
       "      <td>0</td>\n",
       "    </tr>\n",
       "    <tr>\n",
       "      <th>10321</th>\n",
       "      <td>1.0</td>\n",
       "      <td>1.0</td>\n",
       "      <td>0.0</td>\n",
       "      <td>1.0</td>\n",
       "      <td>1.0</td>\n",
       "      <td>0.0</td>\n",
       "      <td>30</td>\n",
       "      <td>514526</td>\n",
       "      <td>5140114.74</td>\n",
       "      <td>9.99</td>\n",
       "      <td>0.33</td>\n",
       "      <td>False</td>\n",
       "      <td>NaN</td>\n",
       "      <td>NaN</td>\n",
       "      <td>5284.04</td>\n",
       "      <td>0</td>\n",
       "      <td>0</td>\n",
       "      <td>0</td>\n",
       "      <td>0</td>\n",
       "      <td>0</td>\n",
       "      <td>0</td>\n",
       "      <td>0</td>\n",
       "      <td>0</td>\n",
       "      <td>0</td>\n",
       "      <td>0</td>\n",
       "      <td>0</td>\n",
       "      <td>0</td>\n",
       "      <td>0</td>\n",
       "      <td>0</td>\n",
       "      <td>0</td>\n",
       "      <td>0</td>\n",
       "      <td>0</td>\n",
       "      <td>1</td>\n",
       "      <td>0</td>\n",
       "      <td>0</td>\n",
       "      <td>0</td>\n",
       "      <td>1</td>\n",
       "      <td>0</td>\n",
       "      <td>1</td>\n",
       "      <td>0</td>\n",
       "      <td>0</td>\n",
       "      <td>1</td>\n",
       "      <td>0</td>\n",
       "      <td>0</td>\n",
       "      <td>0</td>\n",
       "      <td>0</td>\n",
       "    </tr>\n",
       "    <tr>\n",
       "      <th>10322</th>\n",
       "      <td>1.0</td>\n",
       "      <td>1.0</td>\n",
       "      <td>0.0</td>\n",
       "      <td>1.0</td>\n",
       "      <td>1.0</td>\n",
       "      <td>0.0</td>\n",
       "      <td>60</td>\n",
       "      <td>17465</td>\n",
       "      <td>113871.80</td>\n",
       "      <td>6.52</td>\n",
       "      <td>0.11</td>\n",
       "      <td>True</td>\n",
       "      <td>1392.0</td>\n",
       "      <td>NaN</td>\n",
       "      <td>134.03</td>\n",
       "      <td>0</td>\n",
       "      <td>0</td>\n",
       "      <td>0</td>\n",
       "      <td>0</td>\n",
       "      <td>0</td>\n",
       "      <td>0</td>\n",
       "      <td>0</td>\n",
       "      <td>0</td>\n",
       "      <td>0</td>\n",
       "      <td>0</td>\n",
       "      <td>0</td>\n",
       "      <td>0</td>\n",
       "      <td>0</td>\n",
       "      <td>0</td>\n",
       "      <td>0</td>\n",
       "      <td>0</td>\n",
       "      <td>0</td>\n",
       "      <td>0</td>\n",
       "      <td>1</td>\n",
       "      <td>0</td>\n",
       "      <td>0</td>\n",
       "      <td>1</td>\n",
       "      <td>0</td>\n",
       "      <td>1</td>\n",
       "      <td>0</td>\n",
       "      <td>0</td>\n",
       "      <td>1</td>\n",
       "      <td>0</td>\n",
       "      <td>0</td>\n",
       "      <td>0</td>\n",
       "      <td>0</td>\n",
       "    </tr>\n",
       "    <tr>\n",
       "      <th>10323</th>\n",
       "      <td>1.0</td>\n",
       "      <td>1.0</td>\n",
       "      <td>0.0</td>\n",
       "      <td>1.0</td>\n",
       "      <td>1.0</td>\n",
       "      <td>0.0</td>\n",
       "      <td>60</td>\n",
       "      <td>36639</td>\n",
       "      <td>72911.61</td>\n",
       "      <td>1.99</td>\n",
       "      <td>0.03</td>\n",
       "      <td>False</td>\n",
       "      <td>NaN</td>\n",
       "      <td>NaN</td>\n",
       "      <td>85.82</td>\n",
       "      <td>0</td>\n",
       "      <td>0</td>\n",
       "      <td>0</td>\n",
       "      <td>0</td>\n",
       "      <td>0</td>\n",
       "      <td>0</td>\n",
       "      <td>0</td>\n",
       "      <td>0</td>\n",
       "      <td>0</td>\n",
       "      <td>0</td>\n",
       "      <td>0</td>\n",
       "      <td>0</td>\n",
       "      <td>0</td>\n",
       "      <td>0</td>\n",
       "      <td>0</td>\n",
       "      <td>0</td>\n",
       "      <td>0</td>\n",
       "      <td>0</td>\n",
       "      <td>1</td>\n",
       "      <td>0</td>\n",
       "      <td>0</td>\n",
       "      <td>1</td>\n",
       "      <td>0</td>\n",
       "      <td>1</td>\n",
       "      <td>0</td>\n",
       "      <td>0</td>\n",
       "      <td>0</td>\n",
       "      <td>0</td>\n",
       "      <td>0</td>\n",
       "      <td>0</td>\n",
       "      <td>1</td>\n",
       "    </tr>\n",
       "  </tbody>\n",
       "</table>\n",
       "<p>10324 rows × 46 columns</p>\n",
       "</div>"
      ],
      "text/plain": [
       "       ManagedBy  FulfillVia  VendorINCOTerm  PQFirstSenttoClientDate  \\\n",
       "0            1.0         0.0             1.0                      0.0   \n",
       "1            1.0         0.0             1.0                      0.0   \n",
       "2            1.0         0.0             3.0                      0.0   \n",
       "3            1.0         0.0             1.0                      0.0   \n",
       "4            1.0         0.0             1.0                      0.0   \n",
       "...          ...         ...             ...                      ...   \n",
       "10319        1.0         1.0             0.0                      1.0   \n",
       "10320        1.0         1.0             0.0                      1.0   \n",
       "10321        1.0         1.0             0.0                      1.0   \n",
       "10322        1.0         1.0             0.0                      1.0   \n",
       "10323        1.0         1.0             0.0                      1.0   \n",
       "\n",
       "       POSenttoVendorDate  Vendor  UnitofMeasurePerPack  LineItemQuantity  \\\n",
       "0                     0.0     1.0                    30                19   \n",
       "1                     0.0     1.0                   240              1000   \n",
       "2                     0.0     1.0                   100               500   \n",
       "3                     0.0     1.0                    60             31920   \n",
       "4                     0.0     1.0                    60             38000   \n",
       "...                   ...     ...                   ...               ...   \n",
       "10319                 1.0     0.0                    60            166571   \n",
       "10320                 1.0     0.0                    60             21072   \n",
       "10321                 1.0     0.0                    30            514526   \n",
       "10322                 1.0     0.0                    60             17465   \n",
       "10323                 1.0     0.0                    60             36639   \n",
       "\n",
       "       LineItemValue  PackPrice  UnitPrice  FirstLineDesignation  \\\n",
       "0             551.00      29.00       0.97                  True   \n",
       "1            6200.00       6.20       0.03                  True   \n",
       "2           40000.00      80.00       0.80                  True   \n",
       "3          127360.80       3.99       0.07                  True   \n",
       "4          121600.00       3.20       0.05                  True   \n",
       "...              ...        ...        ...                   ...   \n",
       "10319      599655.60       3.60       0.06                 False   \n",
       "10320      137389.44       6.52       0.11                 False   \n",
       "10321     5140114.74       9.99       0.33                 False   \n",
       "10322      113871.80       6.52       0.11                  True   \n",
       "10323       72911.61       1.99       0.03                 False   \n",
       "\n",
       "       WeightKilograms  FreightCostUSD LineItemInsuranceUSD  Country_Cameroon  \\\n",
       "0                 13.0          780.34                 None                 0   \n",
       "1                358.0         4521.50                 None                 0   \n",
       "2                171.0         1653.78                 None                 0   \n",
       "3               1855.0        16007.06                 None                 0   \n",
       "4               7590.0        45450.08                 None                 0   \n",
       "...                ...             ...                  ...               ...   \n",
       "10319              NaN             NaN               705.79                 0   \n",
       "10320              NaN             NaN               161.71                 0   \n",
       "10321              NaN             NaN              5284.04                 0   \n",
       "10322           1392.0             NaN               134.03                 0   \n",
       "10323              NaN             NaN                85.82                 0   \n",
       "\n",
       "       Country_Congo, DRC  Country_CÃ´te d'Ivoire  Country_Ethiopia  \\\n",
       "0                       0                       1                 0   \n",
       "1                       0                       0                 0   \n",
       "2                       0                       1                 0   \n",
       "3                       0                       0                 0   \n",
       "4                       0                       0                 0   \n",
       "...                   ...                     ...               ...   \n",
       "10319                   0                       0                 0   \n",
       "10320                   0                       1                 0   \n",
       "10321                   0                       0                 0   \n",
       "10322                   0                       0                 0   \n",
       "10323                   0                       0                 0   \n",
       "\n",
       "       Country_Guyana  Country_Haiti  Country_Kenya  Country_Mozambique  \\\n",
       "0                   0              0              0                   0   \n",
       "1                   0              0              0                   0   \n",
       "2                   0              0              0                   0   \n",
       "3                   0              0              0                   0   \n",
       "4                   0              0              0                   0   \n",
       "...               ...            ...            ...                 ...   \n",
       "10319               0              0              0                   0   \n",
       "10320               0              0              0                   0   \n",
       "10321               0              0              0                   0   \n",
       "10322               0              0              0                   0   \n",
       "10323               0              0              0                   0   \n",
       "\n",
       "       Country_Namibia  Country_Nigeria  Country_Other  Country_Rwanda  \\\n",
       "0                    0                0              0               0   \n",
       "1                    0                0              0               0   \n",
       "2                    0                0              0               0   \n",
       "3                    0                0              0               0   \n",
       "4                    0                0              0               0   \n",
       "...                ...              ...            ...             ...   \n",
       "10319                0                0              0               0   \n",
       "10320                0                0              0               0   \n",
       "10321                0                0              0               0   \n",
       "10322                0                0              0               0   \n",
       "10323                0                0              0               0   \n",
       "\n",
       "       Country_South Africa  Country_South Sudan  Country_Tanzania  \\\n",
       "0                         0                    0                 0   \n",
       "1                         0                    0                 0   \n",
       "2                         0                    0                 0   \n",
       "3                         0                    0                 0   \n",
       "4                         0                    0                 0   \n",
       "...                     ...                  ...               ...   \n",
       "10319                     0                    0                 0   \n",
       "10320                     0                    0                 0   \n",
       "10321                     0                    0                 0   \n",
       "10322                     0                    0                 0   \n",
       "10323                     0                    0                 0   \n",
       "\n",
       "       Country_Uganda  Country_Vietnam  Country_Zambia  Country_Zimbabwe  \\\n",
       "0                   0                0               0                 0   \n",
       "1                   0                1               0                 0   \n",
       "2                   0                0               0                 0   \n",
       "3                   0                1               0                 0   \n",
       "4                   0                1               0                 0   \n",
       "...               ...              ...             ...               ...   \n",
       "10319               0                0               0                 1   \n",
       "10320               0                0               0                 0   \n",
       "10321               0                0               1                 0   \n",
       "10322               0                0               0                 1   \n",
       "10323               0                0               0                 1   \n",
       "\n",
       "       ShipmentMode_Air Charter  ShipmentMode_Ocean  ShipmentMode_Truck  \\\n",
       "0                             0                   0                   0   \n",
       "1                             0                   0                   0   \n",
       "2                             0                   0                   0   \n",
       "3                             0                   0                   0   \n",
       "4                             0                   0                   0   \n",
       "...                         ...                 ...                 ...   \n",
       "10319                         0                   0                   1   \n",
       "10320                         0                   0                   1   \n",
       "10321                         0                   0                   1   \n",
       "10322                         0                   0                   1   \n",
       "10323                         0                   0                   1   \n",
       "\n",
       "       ProductGroup_ANTM  ProductGroup_ARV  ProductGroup_HRDT  \\\n",
       "0                      0                 0                  1   \n",
       "1                      0                 1                  0   \n",
       "2                      0                 0                  1   \n",
       "3                      0                 1                  0   \n",
       "4                      0                 1                  0   \n",
       "...                  ...               ...                ...   \n",
       "10319                  0                 1                  0   \n",
       "10320                  0                 1                  0   \n",
       "10321                  0                 1                  0   \n",
       "10322                  0                 1                  0   \n",
       "10323                  0                 1                  0   \n",
       "\n",
       "       ProductGroup_MRDT  SubClassification_Adult  SubClassification_HIV test  \\\n",
       "0                      0                        0                           1   \n",
       "1                      0                        0                           0   \n",
       "2                      0                        0                           1   \n",
       "3                      0                        1                           0   \n",
       "4                      0                        1                           0   \n",
       "...                  ...                      ...                         ...   \n",
       "10319                  0                        0                           0   \n",
       "10320                  0                        1                           0   \n",
       "10321                  0                        1                           0   \n",
       "10322                  0                        1                           0   \n",
       "10323                  0                        0                           0   \n",
       "\n",
       "       SubClassification_HIV test - Ancillary  SubClassification_Malaria  \\\n",
       "0                                           0                          0   \n",
       "1                                           0                          0   \n",
       "2                                           0                          0   \n",
       "3                                           0                          0   \n",
       "4                                           0                          0   \n",
       "...                                       ...                        ...   \n",
       "10319                                       0                          0   \n",
       "10320                                       0                          0   \n",
       "10321                                       0                          0   \n",
       "10322                                       0                          0   \n",
       "10323                                       0                          0   \n",
       "\n",
       "       SubClassification_Pediatric  \n",
       "0                                0  \n",
       "1                                1  \n",
       "2                                0  \n",
       "3                                0  \n",
       "4                                0  \n",
       "...                            ...  \n",
       "10319                            1  \n",
       "10320                            0  \n",
       "10321                            0  \n",
       "10322                            0  \n",
       "10323                            1  \n",
       "\n",
       "[10324 rows x 46 columns]"
      ]
     },
     "execution_count": 50,
     "metadata": {},
     "output_type": "execute_result"
    }
   ],
   "source": [
    "num_cols=[\"UnitofMeasurePerPack\",\"LineItemQuantity\",\n",
    "        \"LineItemValue\",\"PackPrice\"\n",
    "        ,\"UnitPrice\",\"WeightKilograms\",\"FreightCostUSD\"]\n",
    "for i in num_cols:\n",
    "    df[i]=pd.to_numeric(df[i],errors=\"coerce\")\n",
    "df.replace('NaN',0)"
   ]
  },
  {
   "cell_type": "code",
   "execution_count": 51,
   "id": "4d3db4de",
   "metadata": {},
   "outputs": [],
   "source": [
    "imp = SimpleImputer(strategy=\"mean\")\n",
    "df[\"LineItemInsuranceUSD\"] = imp.fit_transform(df[[\"LineItemInsuranceUSD\"]]).ravel()"
   ]
  },
  {
   "cell_type": "code",
   "execution_count": 52,
   "id": "8fb2b261",
   "metadata": {},
   "outputs": [],
   "source": [
    "for i in num_cols:\n",
    "    df[i] = imp.fit_transform(df[[i]]).ravel()"
   ]
  },
  {
   "cell_type": "code",
   "execution_count": 53,
   "id": "2767b5d1",
   "metadata": {},
   "outputs": [
    {
     "name": "stdout",
     "output_type": "stream",
     "text": [
      "<class 'pandas.core.frame.DataFrame'>\n",
      "RangeIndex: 10324 entries, 0 to 10323\n",
      "Data columns (total 46 columns):\n",
      " #   Column                                  Non-Null Count  Dtype  \n",
      "---  ------                                  --------------  -----  \n",
      " 0   ManagedBy                               10324 non-null  float64\n",
      " 1   FulfillVia                              10324 non-null  float64\n",
      " 2   VendorINCOTerm                          10324 non-null  float64\n",
      " 3   PQFirstSenttoClientDate                 10324 non-null  float64\n",
      " 4   POSenttoVendorDate                      10324 non-null  float64\n",
      " 5   Vendor                                  10324 non-null  float64\n",
      " 6   UnitofMeasurePerPack                    10324 non-null  float64\n",
      " 7   LineItemQuantity                        10324 non-null  float64\n",
      " 8   LineItemValue                           10324 non-null  float64\n",
      " 9   PackPrice                               10324 non-null  float64\n",
      " 10  UnitPrice                               10324 non-null  float64\n",
      " 11  FirstLineDesignation                    10324 non-null  bool   \n",
      " 12  WeightKilograms                         10324 non-null  float64\n",
      " 13  FreightCostUSD                          10324 non-null  float64\n",
      " 14  LineItemInsuranceUSD                    10324 non-null  float64\n",
      " 15  Country_Cameroon                        10324 non-null  uint8  \n",
      " 16  Country_Congo, DRC                      10324 non-null  uint8  \n",
      " 17  Country_CÃ´te d'Ivoire                  10324 non-null  uint8  \n",
      " 18  Country_Ethiopia                        10324 non-null  uint8  \n",
      " 19  Country_Guyana                          10324 non-null  uint8  \n",
      " 20  Country_Haiti                           10324 non-null  uint8  \n",
      " 21  Country_Kenya                           10324 non-null  uint8  \n",
      " 22  Country_Mozambique                      10324 non-null  uint8  \n",
      " 23  Country_Namibia                         10324 non-null  uint8  \n",
      " 24  Country_Nigeria                         10324 non-null  uint8  \n",
      " 25  Country_Other                           10324 non-null  uint8  \n",
      " 26  Country_Rwanda                          10324 non-null  uint8  \n",
      " 27  Country_South Africa                    10324 non-null  uint8  \n",
      " 28  Country_South Sudan                     10324 non-null  uint8  \n",
      " 29  Country_Tanzania                        10324 non-null  uint8  \n",
      " 30  Country_Uganda                          10324 non-null  uint8  \n",
      " 31  Country_Vietnam                         10324 non-null  uint8  \n",
      " 32  Country_Zambia                          10324 non-null  uint8  \n",
      " 33  Country_Zimbabwe                        10324 non-null  uint8  \n",
      " 34  ShipmentMode_Air Charter                10324 non-null  uint8  \n",
      " 35  ShipmentMode_Ocean                      10324 non-null  uint8  \n",
      " 36  ShipmentMode_Truck                      10324 non-null  uint8  \n",
      " 37  ProductGroup_ANTM                       10324 non-null  uint8  \n",
      " 38  ProductGroup_ARV                        10324 non-null  uint8  \n",
      " 39  ProductGroup_HRDT                       10324 non-null  uint8  \n",
      " 40  ProductGroup_MRDT                       10324 non-null  uint8  \n",
      " 41  SubClassification_Adult                 10324 non-null  uint8  \n",
      " 42  SubClassification_HIV test              10324 non-null  uint8  \n",
      " 43  SubClassification_HIV test - Ancillary  10324 non-null  uint8  \n",
      " 44  SubClassification_Malaria               10324 non-null  uint8  \n",
      " 45  SubClassification_Pediatric             10324 non-null  uint8  \n",
      "dtypes: bool(1), float64(14), uint8(31)\n",
      "memory usage: 1.4 MB\n"
     ]
    }
   ],
   "source": [
    "df.info()"
   ]
  },
  {
   "cell_type": "code",
   "execution_count": 54,
   "id": "7c9a561e",
   "metadata": {},
   "outputs": [],
   "source": [
    "df = df.rename(columns = lambda x:re.sub('[^A-Za-z0-9_]+', '', x))\n",
    "X=df.drop(\"LineItemValue\",axis=1)\n",
    "y=df[\"LineItemValue\"]\n",
    "X_train, X_test, y_train, y_test = train_test_split(X, y, test_size=0.33, random_state=42)\n"
   ]
  },
  {
   "cell_type": "code",
   "execution_count": 55,
   "id": "995c3b91",
   "metadata": {},
   "outputs": [
    {
     "data": {
      "text/html": [
       "<style>#sk-container-id-1 {color: black;background-color: white;}#sk-container-id-1 pre{padding: 0;}#sk-container-id-1 div.sk-toggleable {background-color: white;}#sk-container-id-1 label.sk-toggleable__label {cursor: pointer;display: block;width: 100%;margin-bottom: 0;padding: 0.3em;box-sizing: border-box;text-align: center;}#sk-container-id-1 label.sk-toggleable__label-arrow:before {content: \"▸\";float: left;margin-right: 0.25em;color: #696969;}#sk-container-id-1 label.sk-toggleable__label-arrow:hover:before {color: black;}#sk-container-id-1 div.sk-estimator:hover label.sk-toggleable__label-arrow:before {color: black;}#sk-container-id-1 div.sk-toggleable__content {max-height: 0;max-width: 0;overflow: hidden;text-align: left;background-color: #f0f8ff;}#sk-container-id-1 div.sk-toggleable__content pre {margin: 0.2em;color: black;border-radius: 0.25em;background-color: #f0f8ff;}#sk-container-id-1 input.sk-toggleable__control:checked~div.sk-toggleable__content {max-height: 200px;max-width: 100%;overflow: auto;}#sk-container-id-1 input.sk-toggleable__control:checked~label.sk-toggleable__label-arrow:before {content: \"▾\";}#sk-container-id-1 div.sk-estimator input.sk-toggleable__control:checked~label.sk-toggleable__label {background-color: #d4ebff;}#sk-container-id-1 div.sk-label input.sk-toggleable__control:checked~label.sk-toggleable__label {background-color: #d4ebff;}#sk-container-id-1 input.sk-hidden--visually {border: 0;clip: rect(1px 1px 1px 1px);clip: rect(1px, 1px, 1px, 1px);height: 1px;margin: -1px;overflow: hidden;padding: 0;position: absolute;width: 1px;}#sk-container-id-1 div.sk-estimator {font-family: monospace;background-color: #f0f8ff;border: 1px dotted black;border-radius: 0.25em;box-sizing: border-box;margin-bottom: 0.5em;}#sk-container-id-1 div.sk-estimator:hover {background-color: #d4ebff;}#sk-container-id-1 div.sk-parallel-item::after {content: \"\";width: 100%;border-bottom: 1px solid gray;flex-grow: 1;}#sk-container-id-1 div.sk-label:hover label.sk-toggleable__label {background-color: #d4ebff;}#sk-container-id-1 div.sk-serial::before {content: \"\";position: absolute;border-left: 1px solid gray;box-sizing: border-box;top: 0;bottom: 0;left: 50%;z-index: 0;}#sk-container-id-1 div.sk-serial {display: flex;flex-direction: column;align-items: center;background-color: white;padding-right: 0.2em;padding-left: 0.2em;position: relative;}#sk-container-id-1 div.sk-item {position: relative;z-index: 1;}#sk-container-id-1 div.sk-parallel {display: flex;align-items: stretch;justify-content: center;background-color: white;position: relative;}#sk-container-id-1 div.sk-item::before, #sk-container-id-1 div.sk-parallel-item::before {content: \"\";position: absolute;border-left: 1px solid gray;box-sizing: border-box;top: 0;bottom: 0;left: 50%;z-index: -1;}#sk-container-id-1 div.sk-parallel-item {display: flex;flex-direction: column;z-index: 1;position: relative;background-color: white;}#sk-container-id-1 div.sk-parallel-item:first-child::after {align-self: flex-end;width: 50%;}#sk-container-id-1 div.sk-parallel-item:last-child::after {align-self: flex-start;width: 50%;}#sk-container-id-1 div.sk-parallel-item:only-child::after {width: 0;}#sk-container-id-1 div.sk-dashed-wrapped {border: 1px dashed gray;margin: 0 0.4em 0.5em 0.4em;box-sizing: border-box;padding-bottom: 0.4em;background-color: white;}#sk-container-id-1 div.sk-label label {font-family: monospace;font-weight: bold;display: inline-block;line-height: 1.2em;}#sk-container-id-1 div.sk-label-container {text-align: center;}#sk-container-id-1 div.sk-container {/* jupyter's `normalize.less` sets `[hidden] { display: none; }` but bootstrap.min.css set `[hidden] { display: none !important; }` so we also need the `!important` here to be able to override the default hidden behavior on the sphinx rendered scikit-learn.org. See: https://github.com/scikit-learn/scikit-learn/issues/21755 */display: inline-block !important;position: relative;}#sk-container-id-1 div.sk-text-repr-fallback {display: none;}</style><div id=\"sk-container-id-1\" class=\"sk-top-container\"><div class=\"sk-text-repr-fallback\"><pre>LGBMRegressor()</pre><b>In a Jupyter environment, please rerun this cell to show the HTML representation or trust the notebook. <br />On GitHub, the HTML representation is unable to render, please try loading this page with nbviewer.org.</b></div><div class=\"sk-container\" hidden><div class=\"sk-item\"><div class=\"sk-estimator sk-toggleable\"><input class=\"sk-toggleable__control sk-hidden--visually\" id=\"sk-estimator-id-1\" type=\"checkbox\" checked><label for=\"sk-estimator-id-1\" class=\"sk-toggleable__label sk-toggleable__label-arrow\">LGBMRegressor</label><div class=\"sk-toggleable__content\"><pre>LGBMRegressor()</pre></div></div></div></div></div>"
      ],
      "text/plain": [
       "LGBMRegressor()"
      ]
     },
     "execution_count": 55,
     "metadata": {},
     "output_type": "execute_result"
    }
   ],
   "source": [
    "model=lgb.LGBMRegressor()\n",
    "model.fit(X_train,y_train)"
   ]
  },
  {
   "cell_type": "code",
   "execution_count": 56,
   "id": "4cd56ce5",
   "metadata": {},
   "outputs": [
    {
     "data": {
      "text/plain": [
       "0.9785813869663311"
      ]
     },
     "execution_count": 56,
     "metadata": {},
     "output_type": "execute_result"
    }
   ],
   "source": [
    "r2_score(model.predict(X_test),y_test)"
   ]
  }
 ],
 "metadata": {
  "kernelspec": {
   "display_name": "Python 3 (ipykernel)",
   "language": "python",
   "name": "python3"
  },
  "language_info": {
   "codemirror_mode": {
    "name": "ipython",
    "version": 3
   },
   "file_extension": ".py",
   "mimetype": "text/x-python",
   "name": "python",
   "nbconvert_exporter": "python",
   "pygments_lexer": "ipython3",
   "version": "3.8.12"
  }
 },
 "nbformat": 4,
 "nbformat_minor": 5
}
